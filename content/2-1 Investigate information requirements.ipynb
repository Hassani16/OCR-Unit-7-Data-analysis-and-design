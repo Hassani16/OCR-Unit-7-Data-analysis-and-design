{
  "cells": [
    {
      "cell_type": "markdown",
      "metadata": {},
      "source": [
        "# Be able to investigate client requirements for data analysis\n",
        "# 2.1 Investigate information requirements\n",
        "\n",
        "- What is the Business Decision we need to make?\n",
        "- What knowledge will we need to make it?\n",
        "- What data & information will we need to generate the knowledge?\n"
      ]
    },
    {
      "cell_type": "markdown",
      "metadata": {},
      "source": [
        "## Example \n",
        "\n",
        "### What is the Business Decision we need to make?\n",
        "#### What Midfield Player Should I buy?\n"
      ]
    },
    {
      "cell_type": "markdown",
      "metadata": {},
      "source": [
        "\n",
        "### What knowledge will we need to make it?\n",
        "#### What makes a good Midfield Player?\n",
        "- Is heavily involved in their team’s in-possession game\n",
        "- Can execute a quick pass (first time pass or otherwise)\n",
        "- Can spot a teammate in space\n",
        "- Can directly improve our team’s chances of winning football matches\n"
      ]
    },
    {
      "cell_type": "markdown",
      "metadata": {},
      "source": [
        "## What data / information will we need to generate the knowledge?\n",
        "\n",
        "- Is heavily involved in their team’s in-possession game\n",
        "    - Ratio of a players passes compared to there teams passes in a game.\n",
        "- Can execute a quick pass (first time pass or otherwise)\n",
        "    - Calculating time between ball receipt and the next pass.\n",
        "- Can spot a teammate in space\n",
        "    - Passes received in a space of 5m or more\n",
        "- Can directly improve our team’s chances of winning football matches\n",
        "    - StatsBomb [On-Ball Value](https://statsbomb.com/articles/soccer/on-ball-value-obv-in-the-2020-21-premier-league/)\n"
      ]
    },
    {
      "cell_type": "markdown",
      "metadata": {},
      "source": [
        "\n",
        "### Full article on StatsBomb\n",
        "\n",
        "[Identifying Fast Passers Using Data By Jaymes Monte ](https://statsbomb.com/articles/soccer/identifying-fast-passers-using-data/)"
      ]
    },
    {
      "cell_type": "markdown",
      "metadata": {},
      "source": []
    },
    {
      "cell_type": "markdown",
      "metadata": {},
      "source": [
        "## What special requirements does this of knowledge introduce ?\n",
        "- Personally Identifiable Information => GDPR\n",
        "- Drug Testing => Medical Ethics & experimental reproducibility etc. \n",
        "\n",
        "\n",
        "\n"
      ]
    },
    {
      "cell_type": "markdown",
      "metadata": {},
      "source": [
        "# Task\n",
        "\n",
        "## What is the Business Decision we need to make?\n",
        "### How can we improve attendance at Sheffield Museums?\n",
        "\n",
        "\n",
        "- What knowledge will we need to make it?\n",
        "- What data & information will we need to generate the knowledge?"
      ]
    },
    {
      "cell_type": "code",
      "execution_count": null,
      "metadata": {
        "vscode": {
          "languageId": "plaintext"
        }
      },
      "outputs": [],
      "source": [
        "import micropip\n",
        "await micropip.install([\"pyoliteutils\"])"
      ]
    },
    {
      "cell_type": "code",
      "execution_count": null,
      "metadata": {
        "vscode": {
          "languageId": "plaintext"
        }
      },
      "outputs": [],
      "source": [
        "import pyoliteutils\n",
        "\n",
        "plantuml(\"\"\"@startmindmap\n",
        "* Debian\n",
        "** Ubuntu\n",
        "*** Linux Mint\n",
        "*** Kubuntu\n",
        "*** Lubuntu\n",
        "*** KDE Neon\n",
        "** LMDE\n",
        "** SolydXK\n",
        "** SteamOS\n",
        "** Raspbian with a very long name\n",
        "*** <s>Raspmbc</s> => OSMC\n",
        "*** <s>Raspyfi</s> => Volumio\n",
        "@endmindmap\n",
        "\"\"\")"
      ]
    }
  ],
  "metadata": {
    "kernelspec": {
      "display_name": "Python 3",
      "language": "python",
      "name": "python3"
    },
    "language_info": {
      "codemirror_mode": {
        "name": "ipython",
        "version": 3
      },
      "file_extension": ".py",
      "mimetype": "text/x-python",
      "name": "python",
      "nbconvert_exporter": "python",
      "pygments_lexer": "ipython3",
      "version": "3.7.8"
    }
  },
  "nbformat": 4,
  "nbformat_minor": 4
}
