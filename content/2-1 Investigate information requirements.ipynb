{
  "metadata": {
    "kernelspec": {
      "name": "python",
      "display_name": "Python (Pyodide)",
      "language": "python"
    },
    "language_info": {
      "codemirror_mode": {
        "name": "python",
        "version": 3
      },
      "file_extension": ".py",
      "mimetype": "text/x-python",
      "name": "python",
      "nbconvert_exporter": "python",
      "pygments_lexer": "ipython3",
      "version": "3.8"
    }
  },
  "nbformat_minor": 4,
  "nbformat": 4,
  "cells": [
    {
      "cell_type": "markdown",
      "source": "# Setup\n\nPress \"Shift + Enter\" to step trhrought the code / slides.",
      "metadata": {
        "tags": [],
        "editable": false,
        "slideshow": {
          "slide_type": "slide"
        }
      }
    },
    {
      "cell_type": "code",
      "source": "import micropip\nawait micropip.install([\"pyoliteutils\"])",
      "metadata": {
        "trusted": true,
        "tags": [],
        "editable": false,
        "slideshow": {
          "slide_type": ""
        }
      },
      "outputs": [],
      "execution_count": null
    },
    {
      "cell_type": "code",
      "source": "from pyoliteutils import *",
      "metadata": {
        "trusted": true,
        "tags": [],
        "editable": false,
        "slideshow": {
          "slide_type": ""
        }
      },
      "outputs": [],
      "execution_count": null
    },
    {
      "cell_type": "markdown",
      "source": "# Be able to investigate client requirements for data analysis\n# 2.1 Investigate information requirements\n\n- What is the Business Decision we need to make?\n- What knowledge will we need to make it?\n- What data & information will we need to generate the knowledge?\n",
      "metadata": {
        "tags": [],
        "editable": false,
        "slideshow": {
          "slide_type": "slide"
        }
      }
    },
    {
      "cell_type": "markdown",
      "source": "## Information requirements could be related to:-\n\n### Business intelligence\n\n- Tracking revenues and costs to decide on future pricing\n- Measuring marketing campaign results\r- \nGaining visibility into cash flow, gross margins, and operating expenses- \r\nCapturing insights about employees and prospects to optimize HR processes and recruitmen- t\r\nTracking parts and material trends and supplier performan- ce\r\nForecasting revenues and transacti- ons\r\nOptimizing call center and depot staffing le- vels\r\nObtaining cross-enterprise - views\r\nUncovering new revenue opportunities and patterrmance\n",
      "metadata": {
        "tags": [],
        "editable": false,
        "slideshow": {
          "slide_type": "slide"
        }
      }
    },
    {
      "cell_type": "markdown",
      "source": "## Information requirements could be related to:-\n### Scientific research\n\n- Reading Academic Papers to decide on best apporach to problem\n- Experimental evidence to support a hypothesis\n\n### Sports performance\n\n### Medical research\n",
      "metadata": {
        "tags": [],
        "editable": false,
        "slideshow": {
          "slide_type": ""
        }
      }
    },
    {
      "cell_type": "markdown",
      "source": "## Information requirements could be related to:-\n### Politics\nWhat Business Decisions could be based on Political Information? ",
      "metadata": {
        "tags": [],
        "editable": false,
        "slideshow": {
          "slide_type": "slide"
        }
      }
    },
    {
      "cell_type": "markdown",
      "source": "Double Click here to enter your answer.\n",
      "metadata": {
        "tags": [],
        "editable": true,
        "slideshow": {
          "slide_type": ""
        }
      }
    },
    {
      "cell_type": "markdown",
      "source": "## Example \n\n### What is the Business Decision we need to make?\n#### What Midfield Player should we try to buy?\n",
      "metadata": {
        "tags": [],
        "editable": false,
        "slideshow": {
          "slide_type": "slide"
        }
      }
    },
    {
      "cell_type": "markdown",
      "source": "\n### What knowledge will we need to make it?\n#### What makes a good Midfield Player?\n- Is heavily involved in their team’s in-possession game\n- Can execute a quick pass (first time pass or otherwise)\n- Can spot a teammate in space\n- Can directly improve our team’s chances of winning football matches\n",
      "metadata": {
        "tags": [],
        "editable": false,
        "slideshow": {
          "slide_type": "slide"
        }
      }
    },
    {
      "cell_type": "markdown",
      "source": "## What data / information will we need to generate the knowledge?\n\n- Is heavily involved in their team’s in-possession game\n    - Ratio of a players passes compared to there teams passes in a game.\n- Can execute a quick pass (first time pass or otherwise)\n    - Calculating time between ball receipt and the next pass.\n- Can spot a teammate in space\n    - Passes received in a space of 5m or more\n- Can directly improve our team’s chances of winning football matches\n    - StatsBomb [On-Ball Value](https://statsbomb.com/articles/soccer/on-ball-value-obv-in-the-2020-21-premier-league/)\n",
      "metadata": {
        "tags": [],
        "editable": false,
        "slideshow": {
          "slide_type": "slide"
        }
      }
    },
    {
      "cell_type": "markdown",
      "source": "\n### Full article on StatsBomb\n\n[Identifying Fast Passers Using Data By Jaymes Monte ](https://statsbomb.com/articles/soccer/identifying-fast-passers-using-data/)",
      "metadata": {
        "tags": [],
        "editable": false,
        "slideshow": {
          "slide_type": "subslide"
        }
      }
    },
    {
      "cell_type": "markdown",
      "source": "## What special limitations might some types of knowledge introduce ?\n- Personally Identifiable Information => GDPR\n- Drug Testing => Medical Ethics & experimental reproducibility etc. ",
      "metadata": {
        "tags": [],
        "editable": true,
        "slideshow": {
          "slide_type": "slide"
        }
      }
    },
    {
      "cell_type": "markdown",
      "source": "# Task\n\n## What is the Business Decision we need to make?\n### \"How can we improve attendance at Sheffield Museums?\"\n\n\n- What knowledge will we need to make it?\n- What data & information will we need to generate the knowledge?\n- Are there extra restrictions to think about?",
      "metadata": {
        "tags": [],
        "editable": false,
        "slideshow": {
          "slide_type": "slide"
        }
      }
    },
    {
      "cell_type": "markdown",
      "source": "Answer here or in the mindmap.",
      "metadata": {
        "tags": [],
        "editable": true,
        "slideshow": {
          "slide_type": ""
        }
      }
    },
    {
      "cell_type": "code",
      "source": "mermaid(\"\"\"\nmindmap\n  )How can we improve attendance at Sheffield Museums : Knowledge needed(\n    What has affected attendance over time?\n        Attendence figures for each museum over time\n        Opening hours over time\n        Locations\n        Marketing Campaigns run\n\"\"\")",
      "metadata": {
        "vscode": {
          "languageId": "plaintext"
        },
        "trusted": true,
        "tags": [],
        "editable": true,
        "slideshow": {
          "slide_type": "slide"
        }
      },
      "outputs": [],
      "execution_count": null
    },
    {
      "cell_type": "code",
      "source": "",
      "metadata": {
        "trusted": true,
        "tags": [],
        "editable": true,
        "slideshow": {
          "slide_type": ""
        }
      },
      "outputs": [],
      "execution_count": null
    }
  ]
}