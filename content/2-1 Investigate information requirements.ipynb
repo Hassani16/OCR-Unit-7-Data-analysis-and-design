{
  "cells": [
    {
      "cell_type": "markdown",
      "metadata": {},
      "source": [
        "# Be able to investigate client requirements for data analysis\n",
        "# 2.1 Investigate information requirements\n",
        "\n",
        "- What is the Business Decision we need to make?\n",
        "- What knowledge will we need to make it?\n",
        "- What data & information will we need to generate the knowledge?\n",
        "\n",
        "## Examples??\n",
        "\n",
        "\n",
        "Football??\n",
        "When should I subistitute a player??\n",
        "What training should focus on for the next game??\n",
        "\n",
        "\n",
        "\n",
        "## Catergorise that knowledge \n",
        "\n",
        "(e.g. business intelligence,\n",
        "scientific research, medical research, political)\n",
        "\n",
        "<!-- ## What data / information will we need to generate the knowledge?-->\n",
        "\n",
        "## What special requirements does that type of knowledge introduce ???????\n",
        "\n",
        "## What data will we need to get?\n",
        "\n",
        "\n"
      ]
    }
  ],
  "metadata": {
    "kernelspec": {
      "display_name": "Python 3",
      "language": "python",
      "name": "python3"
    },
    "language_info": {
      "codemirror_mode": {
        "name": "ipython",
        "version": 3
      },
      "file_extension": ".py",
      "mimetype": "text/x-python",
      "name": "python",
      "nbconvert_exporter": "python",
      "pygments_lexer": "ipython3",
      "version": "3.7.8"
    }
  },
  "nbformat": 4,
  "nbformat_minor": 4
}