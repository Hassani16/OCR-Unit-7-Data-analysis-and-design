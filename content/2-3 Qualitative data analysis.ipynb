{
  "cells": [
    {
      "cell_type": "markdown",
      "metadata": {},
      "source": [
        "# Be able to investigate client requirements for data analysis\n",
        "# 2.3 Qualitative data analysis\n",
        "\n",
        "Looking at the responces / data we have collected to help us decide what dat we need to fully answer the questions on the future.\n",
        "\n",
        "* typology (e.g. activities, actions, relationships)\n",
        "    - https://www.youtube.com/watch?v=uTXky4C6Je4  \n",
        "    - https://www.apa.org/pubs/books/essentials-of-ideal-type-analysis-sample-chapter.pdf \n",
        "    - Cluster analysis\n",
        "* event analysis\n",
        "* logical analysis (e.g. flow charts, flow diagrams)"
      ]
    }
  ],
  "metadata": {
    "kernelspec": {
      "display_name": "Python 3",
      "language": "python",
      "name": "python3"
    },
    "language_info": {
      "codemirror_mode": {
        "name": "ipython",
        "version": 3
      },
      "file_extension": ".py",
      "mimetype": "text/x-python",
      "name": "python",
      "nbconvert_exporter": "python",
      "pygments_lexer": "ipython3",
      "version": "3.7.8"
    }
  },
  "nbformat": 4,
  "nbformat_minor": 4
}