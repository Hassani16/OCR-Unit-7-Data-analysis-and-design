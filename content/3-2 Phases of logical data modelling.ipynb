{
  "cells": [
    {
      "cell_type": "markdown",
      "metadata": {},
      "source": [
        "# Be able to develop data design solutions to meet business requirements\n",
        "# 3.2 Phases of logical data modelling\n",
        "\n",
        "* structure \u2013 set of rules (e.g. entities, attributes, relationships,\n",
        "queries)\n",
        "* manipulating (e.g. updating, retrieving, editing or deletion of\n",
        "content)\n",
        "* integrity \u2013 validation of accuracy"
      ]
    }
  ],
  "metadata": {
    "kernelspec": {
      "display_name": "Python 3",
      "language": "python",
      "name": "python3"
    },
    "language_info": {
      "codemirror_mode": {
        "name": "ipython",
        "version": 3
      },
      "file_extension": ".py",
      "mimetype": "text/x-python",
      "name": "python",
      "nbconvert_exporter": "python",
      "pygments_lexer": "ipython3",
      "version": "3.7.8"
    }
  },
  "nbformat": 4,
  "nbformat_minor": 4
}