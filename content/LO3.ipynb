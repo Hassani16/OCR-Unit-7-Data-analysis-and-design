{
  "cells": [
    {
      "cell_type": "markdown",
      "metadata": {},
      "source": [
        "### LO3. Be able to develop data design solutions to meet business requirements.\n",
        "\n",
        "#### P5\n",
        "Create the outline scope of the data\n",
        "design model for the specified\n",
        "business requirement.\n",
        "(* Synoptic assessment from Unit 3 Cyber\n",
        "security)\n",
        "\n",
        "Learners should create content relating to all phases of the data design model. Evidence could include notes of meetings, notes of observations,\n",
        "diagrams, a data dictionary, a summary report or presentation with speaker notes.\n",
        "\n",
        "\n",
        "#### D1\n",
        "Construct the logical data model for\n",
        "the specified business requirement\n",
        "\n",
        "Learners must create a logical data model for the specified business requirement using appropriate terminology and techniques to include EARD, data\n",
        "dictionary, entity relationships and queries based on their design model.\n"
      ]
    }
  ],
  "metadata": {
    "kernelspec": {
      "display_name": "Python 3",
      "language": "python",
      "name": "python3"
    },
    "language_info": {
      "codemirror_mode": {
        "name": "ipython",
        "version": 3
      },
      "file_extension": ".py",
      "mimetype": "text/x-python",
      "name": "python",
      "nbconvert_exporter": "python",
      "pygments_lexer": "ipython3",
      "version": "3.7.8"
    }
  },
  "nbformat": 4,
  "nbformat_minor": 4
}