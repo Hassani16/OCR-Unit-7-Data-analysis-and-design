{
  "metadata": {
    "kernelspec": {
      "name": "python",
      "display_name": "Python (Pyodide)",
      "language": "python"
    },
    "language_info": {
      "codemirror_mode": {
        "name": "python",
        "version": 3
      },
      "file_extension": ".py",
      "mimetype": "text/x-python",
      "name": "python",
      "nbconvert_exporter": "python",
      "pygments_lexer": "ipython3",
      "version": "3.8"
    }
  },
  "nbformat_minor": 4,
  "nbformat": 4,
  "cells": [
    {
      "cell_type": "markdown",
      "source": "# Jupyter Notebooks\n\nSome sessions will be delivered using these notebooks within Teams assignments.\n\nThis is an experiment but it should mean we explore can explore data and code whilst taking notes and storing your work.\n\nPress \"Shift + Enter\" to run code & step through the text",
      "metadata": {
        "tags": [],
        "editable": true,
        "slideshow": {
          "slide_type": ""
        }
      }
    },
    {
      "cell_type": "markdown",
      "source": "## Jupyter can run Python code",
      "metadata": {
        "tags": [],
        "editable": true,
        "slideshow": {
          "slide_type": "fragment"
        }
      }
    },
    {
      "cell_type": "code",
      "source": "STUDENT = \"Change Me\"\n\nprint(\"Hi \"+ STUDENT+ \", welcome to Unit 7\")",
      "metadata": {
        "trusted": true,
        "tags": [],
        "editable": true,
        "slideshow": {
          "slide_type": ""
        }
      },
      "outputs": [
        {
          "name": "stdout",
          "text": "Hi Change Me, welcome to Unit 7\n",
          "output_type": "stream"
        }
      ],
      "execution_count": 2
    },
    {
      "cell_type": "code",
      "source": "",
      "metadata": {
        "trusted": true
      },
      "outputs": [],
      "execution_count": null
    },
    {
      "cell_type": "markdown",
      "source": "### Run the Python code below to set some stuff up for later ",
      "metadata": {
        "tags": [],
        "editable": true,
        "slideshow": {
          "slide_type": "slide"
        }
      }
    },
    {
      "cell_type": "code",
      "source": "from urllib.parse import urlencode\nimport json\nimport pandas as pd\nfrom js import fetch\n\nANSWERURL = \"https://utc-olp-api-proxy.glitch.me/lessonsurvey/answer\"\nSTUDENT = \"Change Me\"\n\nasync def send_answer(q=\"Change Me\", a=\"Change Me\"):\n    URL2 = ANSWERURL + \"?\"+urlencode({\"question\":q,\"answer\":a, \"student\":STUDENT})\n    res = await fetch(URL2)\n    #res = await fetch(URL  + \"?\" + urlencode({\"q\":1, \"answer\":ans}))\n    text = await res.text()\n    return text\n\nasync def ShowAnswers(question=None):\n    res = await fetch(\"https://utc-olp-api-proxy.glitch.me/lessonsurvey/answers\")\n    text = await res.text()\n    data = pd.read_json(text)\n    return data",
      "metadata": {
        "trusted": true,
        "tags": [],
        "editable": true,
        "slideshow": {
          "slide_type": ""
        }
      },
      "outputs": [],
      "execution_count": 3
    },
    {
      "cell_type": "markdown",
      "source": "# 1.1 Data types\n\n## What is data?\n",
      "metadata": {
        "tags": [],
        "editable": true,
        "slideshow": {
          "slide_type": "slide"
        }
      }
    },
    {
      "cell_type": "markdown",
      "source": "## Data to Wisdom\n\n### Knowledge is knowing that a Tomato is a fruit",
      "metadata": {
        "tags": [],
        "editable": true,
        "slideshow": {
          "slide_type": "slide"
        }
      }
    },
    {
      "cell_type": "markdown",
      "source": "### Wisdom is not putting it in a fruit salad ",
      "metadata": {
        "tags": [],
        "editable": true,
        "slideshow": {
          "slide_type": "fragment"
        }
      }
    },
    {
      "cell_type": "markdown",
      "source": "Coventry?",
      "metadata": {
        "tags": [],
        "editable": true,
        "slideshow": {
          "slide_type": "fragment"
        }
      }
    },
    {
      "cell_type": "markdown",
      "source": "\n<https://www.cipher-sys.com/blog/data-vs-information-vs-knowledge-vs-wisdom>\n",
      "metadata": {
        "tags": [],
        "editable": true,
        "slideshow": {
          "slide_type": ""
        }
      }
    },
    {
      "cell_type": "markdown",
      "source": "## What is Data vs Information vs Knowledge vs Wisdom?\n\nN.B. Double click here to edit this area and answer the question in your own words.\n\nUse \"Shift + Enter\" to move on.\n",
      "metadata": {
        "tags": [],
        "editable": true,
        "slideshow": {
          "slide_type": "slide"
        }
      }
    },
    {
      "cell_type": "markdown",
      "source": "## Qualitative & Quantitative Data\n\nCovered in Unit 2\n",
      "metadata": {
        "tags": [],
        "editable": true,
        "slideshow": {
          "slide_type": "slide"
        }
      }
    },
    {
      "cell_type": "markdown",
      "source": "### What is Qualitative Data ?\n\n#### Examples\n",
      "metadata": {
        "tags": [],
        "editable": true,
        "slideshow": {
          "slide_type": ""
        }
      }
    },
    {
      "cell_type": "markdown",
      "source": "### What is Quantitative Data ?\n\n#### Examples\n",
      "metadata": {
        "tags": [],
        "editable": true,
        "slideshow": {
          "slide_type": ""
        }
      }
    },
    {
      "cell_type": "markdown",
      "source": "## Structured Data\n\n<https://aws.amazon.com/what-is/structured-data/>\n",
      "metadata": {
        "tags": [],
        "editable": true,
        "slideshow": {
          "slide_type": "slide"
        }
      }
    },
    {
      "cell_type": "markdown",
      "source": "This data is organised in a predefined way with a structure declaring what each piece of data should contain and what format it is in. This gives it context and means it is information.\n",
      "metadata": {
        "tags": [],
        "editable": true,
        "slideshow": {
          "slide_type": "fragment"
        }
      }
    },
    {
      "cell_type": "markdown",
      "source": "### Your Own Words \n\n?\n\n#### Examples\n\n?",
      "metadata": {
        "tags": [],
        "editable": true,
        "slideshow": {
          "slide_type": ""
        }
      }
    },
    {
      "cell_type": "markdown",
      "source": "## Unstructured\n\nUnstructured data is information with no set data definition, schema or model, or data that has not yet been processed into structured data. \n\nUnstructured data includes:\n* Text files\n* Video files\n* Reports\n* Email\n* Images\n",
      "metadata": {
        "tags": [],
        "editable": true,
        "slideshow": {
          "slide_type": "slide"
        }
      }
    },
    {
      "cell_type": "markdown",
      "source": "### Unstructured Data in the real world\n\nBusinesses create huge amounts of data all the time. The less than 20% of that new data is Structured. \n\nAlmost all unstructured data is qualitative but there are some numbers (quanititive data) buried in there.\n\nYou need to put lots of effort into getting information out of Unstructured data, because  you need to find the parts that fit a particular context. Searching all your emails for a phone number you could have put in your phone contacts takes ages.\n",
      "metadata": {
        "tags": [],
        "editable": true,
        "slideshow": {
          "slide_type": "slide"
        }
      }
    },
    {
      "cell_type": "markdown",
      "source": "## Examples of extracting information from different types of data\n\n|.           | Qualitative| Quantitative|\n|------------|------------|-------------|\n|Structured | [What is John's Address in our Personnel Records](Personnel%20Records.ipynb) | [How many blue cars did we sell? Sales figures](Sales%20Figures.ipynb) |\n|Unstructured| [What people are tweeting about ChatGPT?](ChatGPT%20Tweets.ipynb) | [How many successful passes in a broadcast Football match?](Football%20Data.ipynb) |",
      "metadata": {
        "tags": [],
        "editable": true,
        "slideshow": {
          "slide_type": "slide"
        }
      }
    },
    {
      "cell_type": "markdown",
      "source": "### Personnel Records,\n Names and address etc.\n\nsome SQL data\n\n### Sales figures\n\ncsv and extract data\n\n### What people are tweeting about ChatGPT? \n\nare people positive about ChatGPT?\n\ndata set and simple analysis \n\n\n### How many successful passes in a broadcast Football match?\n\nlink to YouTube of a Women's Euros game\n\nhow many successful passes in first minute of game?\n\ndataset , money Vs time",
      "metadata": {
        "tags": [],
        "editable": true,
        "slideshow": {
          "slide_type": "slide"
        }
      }
    },
    {
      "cell_type": "markdown",
      "source": "\n\n## Quiz ",
      "metadata": {
        "tags": [],
        "editable": true,
        "slideshow": {
          "slide_type": "slide"
        }
      }
    },
    {
      "cell_type": "code",
      "source": "await send_answer(\"What is Data?\", \"Change me\")",
      "metadata": {
        "trusted": true,
        "tags": [],
        "editable": true,
        "slideshow": {
          "slide_type": ""
        }
      },
      "outputs": [
        {
          "execution_count": 10,
          "output_type": "execute_result",
          "data": {
            "text/plain": "'{\"success\":false,\"message\":\"Not All Data Entered\",\"query\":{\"question\":\"What is Data?\",\"answer\":\"Change me\",\"student\":\"Change Me\"}}'"
          },
          "metadata": {}
        }
      ],
      "execution_count": 10
    },
    {
      "cell_type": "markdown",
      "source": "",
      "metadata": {}
    },
    {
      "cell_type": "markdown",
      "source": "## Your Answers",
      "metadata": {
        "tags": [],
        "editable": true,
        "slideshow": {
          "slide_type": "slide"
        }
      }
    },
    {
      "cell_type": "code",
      "source": "await ShowAnswers()",
      "metadata": {
        "trusted": true,
        "tags": [],
        "editable": true,
        "slideshow": {
          "slide_type": ""
        }
      },
      "outputs": [
        {
          "execution_count": 9,
          "output_type": "execute_result",
          "data": {
            "text/plain": "               Job 2 What is Data?\nDave       Test Dave     Change me\nChange me        NaN     Change me",
            "text/html": "<div>\n<style scoped>\n    .dataframe tbody tr th:only-of-type {\n        vertical-align: middle;\n    }\n\n    .dataframe tbody tr th {\n        vertical-align: top;\n    }\n\n    .dataframe thead th {\n        text-align: right;\n    }\n</style>\n<table border=\"1\" class=\"dataframe\">\n  <thead>\n    <tr style=\"text-align: right;\">\n      <th></th>\n      <th>Job 2</th>\n      <th>What is Data?</th>\n    </tr>\n  </thead>\n  <tbody>\n    <tr>\n      <th>Dave</th>\n      <td>Test Dave</td>\n      <td>Change me</td>\n    </tr>\n    <tr>\n      <th>Change me</th>\n      <td>NaN</td>\n      <td>Change me</td>\n    </tr>\n  </tbody>\n</table>\n</div>"
          },
          "metadata": {}
        }
      ],
      "execution_count": 9
    },
    {
      "cell_type": "markdown",
      "source": ":) ",
      "metadata": {}
    },
    {
      "cell_type": "code",
      "source": "",
      "metadata": {
        "trusted": true,
        "tags": [],
        "editable": true,
        "slideshow": {
          "slide_type": ""
        }
      },
      "outputs": [],
      "execution_count": null
    },
    {
      "cell_type": "markdown",
      "source": "## Plenary\n\nWe need to gather Data properly so we can give it context and analysis so it becomes actionable knowledge to help us make wise decisions.\n\nGetting knowledge out of unstructered data is hard so Structured data is better.",
      "metadata": {
        "tags": [],
        "editable": true,
        "slideshow": {
          "slide_type": ""
        }
      }
    },
    {
      "cell_type": "code",
      "source": "",
      "metadata": {
        "trusted": true,
        "tags": [],
        "editable": true,
        "slideshow": {
          "slide_type": ""
        }
      },
      "outputs": [],
      "execution_count": null
    }
  ]
}