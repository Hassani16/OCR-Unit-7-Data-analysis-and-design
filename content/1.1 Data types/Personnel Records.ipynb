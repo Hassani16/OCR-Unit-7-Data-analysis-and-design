{
  "cells": [
    {
      "cell_type": "markdown",
      "source": [
        "# Structured Data Demo\n",
        "\n"
      ],
      "metadata": {}
    },
    {
      "cell_type": "code",
      "source": [
        "# Ish via https://til.simonwillison.net/python/sqlite-in-pyodide\n",
        "from js import fetch\n",
        " \n",
        "async def load_file_into_in_mem_filesystem(url, fn=None):\n",
        "    \"\"\"Load a file from a URL into an in-memory filesystem.\"\"\"\n",
        "     \n",
        "    # Create a filename if required\n",
        "    fn = fn if fn is not None else url.split(\"/\")[-1]\n",
        "     \n",
        "    # Fetch file from URL\n",
        "    res = await fetch(url)\n",
        "     \n",
        "    # Buffer it\n",
        "    buffer = await res.arrayBuffer()\n",
        "     \n",
        "    # Write file to in-memory file system\n",
        "    open(fn, \"wb\").write(bytes(buffer.valueOf().to_py()))\n",
        " \n",
        "    return fn\n"
      ],
      "outputs": [],
      "execution_count": 2,
      "metadata": {
        "trusted": true,
        "vscode": {
          "languageId": "sql"
        }
      }
    },
    {
      "cell_type": "code",
      "source": [
        "url=\"https://raw.githubusercontent.com/UTCSheffield/OCR-Unit-7-Data-analysis-and-design/main/content/data/chinook.db\"\n",
        " \n",
        "db_file = await load_file_into_in_mem_filesystem(url)"
      ],
      "outputs": [],
      "execution_count": 3,
      "metadata": {
        "vscode": {
          "languageId": "sql"
        }
      }
    },
    {
      "cell_type": "code",
      "source": [
        "import sqlite3\n",
        "import pandas as pd\n",
        "\n",
        "# Open database connection\n",
        "c = sqlite3.connect(db_file)\n",
        " \n",
        "employees = pd.read_sql_query(\"SELECT * FROM employees\", c)\n",
        "\n",
        "# Verify that result of SQL query is stored in the dataframe\n",
        "employees\n"
      ],
      "outputs": [
        {
          "output_type": "execute_result",
          "execution_count": 5,
          "data": {
            "text/plain": "   EmployeeId  LastName FirstName                Title  ReportsTo  \\\n0           1     Adams    Andrew      General Manager        NaN   \n1           2   Edwards     Nancy        Sales Manager        1.0   \n2           3   Peacock      Jane  Sales Support Agent        2.0   \n3           4      Park  Margaret  Sales Support Agent        2.0   \n4           5   Johnson     Steve  Sales Support Agent        2.0   \n5           6  Mitchell   Michael           IT Manager        1.0   \n6           7      King    Robert             IT Staff        6.0   \n7           8  Callahan     Laura             IT Staff        6.0   \n\n             BirthDate             HireDate                      Address  \\\n0  1962-02-18 00:00:00  2002-08-14 00:00:00          11120 Jasper Ave NW   \n1  1958-12-08 00:00:00  2002-05-01 00:00:00                 825 8 Ave SW   \n2  1973-08-29 00:00:00  2002-04-01 00:00:00                1111 6 Ave SW   \n3  1947-09-19 00:00:00  2003-05-03 00:00:00             683 10 Street SW   \n4  1965-03-03 00:00:00  2003-10-17 00:00:00                 7727B 41 Ave   \n5  1973-07-01 00:00:00  2003-10-17 00:00:00         5827 Bowness Road NW   \n6  1970-05-29 00:00:00  2004-01-02 00:00:00  590 Columbia Boulevard West   \n7  1968-01-09 00:00:00  2004-03-04 00:00:00                  923 7 ST NW   \n\n         City State Country PostalCode              Phone                Fax  \\\n0    Edmonton    AB  Canada    T5K 2N1  +1 (780) 428-9482  +1 (780) 428-3457   \n1     Calgary    AB  Canada    T2P 2T3  +1 (403) 262-3443  +1 (403) 262-3322   \n2     Calgary    AB  Canada    T2P 5M5  +1 (403) 262-3443  +1 (403) 262-6712   \n3     Calgary    AB  Canada    T2P 5G3  +1 (403) 263-4423  +1 (403) 263-4289   \n4     Calgary    AB  Canada    T3B 1Y7   1 (780) 836-9987   1 (780) 836-9543   \n5     Calgary    AB  Canada    T3B 0C5  +1 (403) 246-9887  +1 (403) 246-9899   \n6  Lethbridge    AB  Canada    T1K 5N8  +1 (403) 456-9986  +1 (403) 456-8485   \n7  Lethbridge    AB  Canada    T1H 1Y8  +1 (403) 467-3351  +1 (403) 467-8772   \n\n                      Email  \n0    andrew@chinookcorp.com  \n1     nancy@chinookcorp.com  \n2      jane@chinookcorp.com  \n3  margaret@chinookcorp.com  \n4     steve@chinookcorp.com  \n5   michael@chinookcorp.com  \n6    robert@chinookcorp.com  \n7     laura@chinookcorp.com  ",
            "text/html": "<div>\n<style scoped>\n    .dataframe tbody tr th:only-of-type {\n        vertical-align: middle;\n    }\n\n    .dataframe tbody tr th {\n        vertical-align: top;\n    }\n\n    .dataframe thead th {\n        text-align: right;\n    }\n</style>\n<table border=\"1\" class=\"dataframe\">\n  <thead>\n    <tr style=\"text-align: right;\">\n      <th></th>\n      <th>EmployeeId</th>\n      <th>LastName</th>\n      <th>FirstName</th>\n      <th>Title</th>\n      <th>ReportsTo</th>\n      <th>BirthDate</th>\n      <th>HireDate</th>\n      <th>Address</th>\n      <th>City</th>\n      <th>State</th>\n      <th>Country</th>\n      <th>PostalCode</th>\n      <th>Phone</th>\n      <th>Fax</th>\n      <th>Email</th>\n    </tr>\n  </thead>\n  <tbody>\n    <tr>\n      <th>0</th>\n      <td>1</td>\n      <td>Adams</td>\n      <td>Andrew</td>\n      <td>General Manager</td>\n      <td>NaN</td>\n      <td>1962-02-18 00:00:00</td>\n      <td>2002-08-14 00:00:00</td>\n      <td>11120 Jasper Ave NW</td>\n      <td>Edmonton</td>\n      <td>AB</td>\n      <td>Canada</td>\n      <td>T5K 2N1</td>\n      <td>+1 (780) 428-9482</td>\n      <td>+1 (780) 428-3457</td>\n      <td>andrew@chinookcorp.com</td>\n    </tr>\n    <tr>\n      <th>1</th>\n      <td>2</td>\n      <td>Edwards</td>\n      <td>Nancy</td>\n      <td>Sales Manager</td>\n      <td>1.0</td>\n      <td>1958-12-08 00:00:00</td>\n      <td>2002-05-01 00:00:00</td>\n      <td>825 8 Ave SW</td>\n      <td>Calgary</td>\n      <td>AB</td>\n      <td>Canada</td>\n      <td>T2P 2T3</td>\n      <td>+1 (403) 262-3443</td>\n      <td>+1 (403) 262-3322</td>\n      <td>nancy@chinookcorp.com</td>\n    </tr>\n    <tr>\n      <th>2</th>\n      <td>3</td>\n      <td>Peacock</td>\n      <td>Jane</td>\n      <td>Sales Support Agent</td>\n      <td>2.0</td>\n      <td>1973-08-29 00:00:00</td>\n      <td>2002-04-01 00:00:00</td>\n      <td>1111 6 Ave SW</td>\n      <td>Calgary</td>\n      <td>AB</td>\n      <td>Canada</td>\n      <td>T2P 5M5</td>\n      <td>+1 (403) 262-3443</td>\n      <td>+1 (403) 262-6712</td>\n      <td>jane@chinookcorp.com</td>\n    </tr>\n    <tr>\n      <th>3</th>\n      <td>4</td>\n      <td>Park</td>\n      <td>Margaret</td>\n      <td>Sales Support Agent</td>\n      <td>2.0</td>\n      <td>1947-09-19 00:00:00</td>\n      <td>2003-05-03 00:00:00</td>\n      <td>683 10 Street SW</td>\n      <td>Calgary</td>\n      <td>AB</td>\n      <td>Canada</td>\n      <td>T2P 5G3</td>\n      <td>+1 (403) 263-4423</td>\n      <td>+1 (403) 263-4289</td>\n      <td>margaret@chinookcorp.com</td>\n    </tr>\n    <tr>\n      <th>4</th>\n      <td>5</td>\n      <td>Johnson</td>\n      <td>Steve</td>\n      <td>Sales Support Agent</td>\n      <td>2.0</td>\n      <td>1965-03-03 00:00:00</td>\n      <td>2003-10-17 00:00:00</td>\n      <td>7727B 41 Ave</td>\n      <td>Calgary</td>\n      <td>AB</td>\n      <td>Canada</td>\n      <td>T3B 1Y7</td>\n      <td>1 (780) 836-9987</td>\n      <td>1 (780) 836-9543</td>\n      <td>steve@chinookcorp.com</td>\n    </tr>\n    <tr>\n      <th>5</th>\n      <td>6</td>\n      <td>Mitchell</td>\n      <td>Michael</td>\n      <td>IT Manager</td>\n      <td>1.0</td>\n      <td>1973-07-01 00:00:00</td>\n      <td>2003-10-17 00:00:00</td>\n      <td>5827 Bowness Road NW</td>\n      <td>Calgary</td>\n      <td>AB</td>\n      <td>Canada</td>\n      <td>T3B 0C5</td>\n      <td>+1 (403) 246-9887</td>\n      <td>+1 (403) 246-9899</td>\n      <td>michael@chinookcorp.com</td>\n    </tr>\n    <tr>\n      <th>6</th>\n      <td>7</td>\n      <td>King</td>\n      <td>Robert</td>\n      <td>IT Staff</td>\n      <td>6.0</td>\n      <td>1970-05-29 00:00:00</td>\n      <td>2004-01-02 00:00:00</td>\n      <td>590 Columbia Boulevard West</td>\n      <td>Lethbridge</td>\n      <td>AB</td>\n      <td>Canada</td>\n      <td>T1K 5N8</td>\n      <td>+1 (403) 456-9986</td>\n      <td>+1 (403) 456-8485</td>\n      <td>robert@chinookcorp.com</td>\n    </tr>\n    <tr>\n      <th>7</th>\n      <td>8</td>\n      <td>Callahan</td>\n      <td>Laura</td>\n      <td>IT Staff</td>\n      <td>6.0</td>\n      <td>1968-01-09 00:00:00</td>\n      <td>2004-03-04 00:00:00</td>\n      <td>923 7 ST NW</td>\n      <td>Lethbridge</td>\n      <td>AB</td>\n      <td>Canada</td>\n      <td>T1H 1Y8</td>\n      <td>+1 (403) 467-3351</td>\n      <td>+1 (403) 467-8772</td>\n      <td>laura@chinookcorp.com</td>\n    </tr>\n  </tbody>\n</table>\n</div>"
          },
          "metadata": {}
        }
      ],
      "execution_count": 4,
      "metadata": {
        "vscode": {
          "languageId": "sql"
        }
      }
    },
    {
      "cell_type": "code",
      "source": [
        "\n",
        "employees_fitered = pd.read_sql_query(\"SELECT EmployeeId, FirstName, LastName, Email, Title FROM employees WHERE Title='IT Staff';\", c)\n",
        "\n",
        "\n",
        "employees_fitered"
      ],
      "outputs": [
        {
          "output_type": "execute_result",
          "execution_count": 6,
          "data": {
            "text/plain": "   EmployeeId FirstName  LastName                   Email     Title\n0           7    Robert      King  robert@chinookcorp.com  IT Staff\n1           8     Laura  Callahan   laura@chinookcorp.com  IT Staff",
            "text/html": "<div>\n<style scoped>\n    .dataframe tbody tr th:only-of-type {\n        vertical-align: middle;\n    }\n\n    .dataframe tbody tr th {\n        vertical-align: top;\n    }\n\n    .dataframe thead th {\n        text-align: right;\n    }\n</style>\n<table border=\"1\" class=\"dataframe\">\n  <thead>\n    <tr style=\"text-align: right;\">\n      <th></th>\n      <th>EmployeeId</th>\n      <th>FirstName</th>\n      <th>LastName</th>\n      <th>Email</th>\n      <th>Title</th>\n    </tr>\n  </thead>\n  <tbody>\n    <tr>\n      <th>0</th>\n      <td>7</td>\n      <td>Robert</td>\n      <td>King</td>\n      <td>robert@chinookcorp.com</td>\n      <td>IT Staff</td>\n    </tr>\n    <tr>\n      <th>1</th>\n      <td>8</td>\n      <td>Laura</td>\n      <td>Callahan</td>\n      <td>laura@chinookcorp.com</td>\n      <td>IT Staff</td>\n    </tr>\n  </tbody>\n</table>\n</div>"
          },
          "metadata": {}
        }
      ],
      "execution_count": 5,
      "metadata": {
        "vscode": {
          "languageId": "sql"
        }
      }
    },
    {
      "cell_type": "code",
      "source": [
        "albums = pd.read_sql_query(\"SELECT * FROM albums JOIN artists ON (albums.ArtistId = artists.ArtistId);\", c)\n",
        "albums"
      ],
      "outputs": [
        {
          "output_type": "execute_result",
          "execution_count": 11,
          "data": {
            "text/plain": "     AlbumId                                              Title  ArtistId  \\\n0          1              For Those About To Rock We Salute You         1   \n1          2                                  Balls to the Wall         2   \n2          3                                  Restless and Wild         2   \n3          4                                  Let There Be Rock         1   \n4          5                                           Big Ones         3   \n..       ...                                                ...       ...   \n342      343                             Respighi:Pines of Rome       226   \n343      344  Schubert: The Late String Quartets & String Qu...       272   \n344      345                                Monteverdi: L'Orfeo       273   \n345      346                              Mozart: Chamber Music       274   \n346      347  Koyaanisqatsi (Soundtrack from the Motion Pict...       275   \n\n     ArtistId                                               Name  \n0           1                                              AC/DC  \n1           2                                             Accept  \n2           2                                             Accept  \n3           1                                              AC/DC  \n4           3                                          Aerosmith  \n..        ...                                                ...  \n342       226                                     Eugene Ormandy  \n343       272                             Emerson String Quartet  \n344       273  C. Monteverdi, Nigel Rogers - Chiaroscuro; Lon...  \n345       274                                      Nash Ensemble  \n346       275                              Philip Glass Ensemble  \n\n[347 rows x 5 columns]",
            "text/html": "<div>\n<style scoped>\n    .dataframe tbody tr th:only-of-type {\n        vertical-align: middle;\n    }\n\n    .dataframe tbody tr th {\n        vertical-align: top;\n    }\n\n    .dataframe thead th {\n        text-align: right;\n    }\n</style>\n<table border=\"1\" class=\"dataframe\">\n  <thead>\n    <tr style=\"text-align: right;\">\n      <th></th>\n      <th>AlbumId</th>\n      <th>Title</th>\n      <th>ArtistId</th>\n      <th>ArtistId</th>\n      <th>Name</th>\n    </tr>\n  </thead>\n  <tbody>\n    <tr>\n      <th>0</th>\n      <td>1</td>\n      <td>For Those About To Rock We Salute You</td>\n      <td>1</td>\n      <td>1</td>\n      <td>AC/DC</td>\n    </tr>\n    <tr>\n      <th>1</th>\n      <td>2</td>\n      <td>Balls to the Wall</td>\n      <td>2</td>\n      <td>2</td>\n      <td>Accept</td>\n    </tr>\n    <tr>\n      <th>2</th>\n      <td>3</td>\n      <td>Restless and Wild</td>\n      <td>2</td>\n      <td>2</td>\n      <td>Accept</td>\n    </tr>\n    <tr>\n      <th>3</th>\n      <td>4</td>\n      <td>Let There Be Rock</td>\n      <td>1</td>\n      <td>1</td>\n      <td>AC/DC</td>\n    </tr>\n    <tr>\n      <th>4</th>\n      <td>5</td>\n      <td>Big Ones</td>\n      <td>3</td>\n      <td>3</td>\n      <td>Aerosmith</td>\n    </tr>\n    <tr>\n      <th>...</th>\n      <td>...</td>\n      <td>...</td>\n      <td>...</td>\n      <td>...</td>\n      <td>...</td>\n    </tr>\n    <tr>\n      <th>342</th>\n      <td>343</td>\n      <td>Respighi:Pines of Rome</td>\n      <td>226</td>\n      <td>226</td>\n      <td>Eugene Ormandy</td>\n    </tr>\n    <tr>\n      <th>343</th>\n      <td>344</td>\n      <td>Schubert: The Late String Quartets &amp; String Qu...</td>\n      <td>272</td>\n      <td>272</td>\n      <td>Emerson String Quartet</td>\n    </tr>\n    <tr>\n      <th>344</th>\n      <td>345</td>\n      <td>Monteverdi: L'Orfeo</td>\n      <td>273</td>\n      <td>273</td>\n      <td>C. Monteverdi, Nigel Rogers - Chiaroscuro; Lon...</td>\n    </tr>\n    <tr>\n      <th>345</th>\n      <td>346</td>\n      <td>Mozart: Chamber Music</td>\n      <td>274</td>\n      <td>274</td>\n      <td>Nash Ensemble</td>\n    </tr>\n    <tr>\n      <th>346</th>\n      <td>347</td>\n      <td>Koyaanisqatsi (Soundtrack from the Motion Pict...</td>\n      <td>275</td>\n      <td>275</td>\n      <td>Philip Glass Ensemble</td>\n    </tr>\n  </tbody>\n</table>\n<p>347 rows × 5 columns</p>\n</div>"
          },
          "metadata": {}
        }
      ],
      "execution_count": 10,
      "metadata": {
        "vscode": {
          "languageId": "sql"
        }
      }
    },
    {
      "cell_type": "code",
      "source": [
        "tracks = pd.read_sql_query(\"SELECT * FROM tracks JOIN albums ON (tracks.AlbumId = albums.AlbumId) JOIN artists ON (albums.ArtistId = artists.ArtistId);\", c)\n",
        "tracks"
      ],
      "outputs": [
        {
          "output_type": "execute_result",
          "execution_count": 12,
          "data": {
            "text/plain": "      TrackId                                               Name  AlbumId  \\\n0           1            For Those About To Rock (We Salute You)        1   \n1           6                              Put The Finger On You        1   \n2           7                                    Let's Get It Up        1   \n3           8                                   Inject The Venom        1   \n4           9                                         Snowballed        1   \n...       ...                                                ...      ...   \n3498     3499  Pini Di Roma (Pinien Von Rom) \\ I Pini Della V...      343   \n3499     3500  String Quartet No. 12 in C Minor, D. 703 \"Quar...      344   \n3500     3501               L'orfeo, Act 3, Sinfonia (Orchestra)      345   \n3501     3502  Quintet for Horn, Violin, 2 Violas, and Cello ...      346   \n3502     3503                                      Koyaanisqatsi      347   \n\n      MediaTypeId  GenreId                                   Composer  \\\n0               1        1  Angus Young, Malcolm Young, Brian Johnson   \n1               1        1  Angus Young, Malcolm Young, Brian Johnson   \n2               1        1  Angus Young, Malcolm Young, Brian Johnson   \n3               1        1  Angus Young, Malcolm Young, Brian Johnson   \n4               1        1  Angus Young, Malcolm Young, Brian Johnson   \n...           ...      ...                                        ...   \n3498            2       24                                       None   \n3499            2       24                             Franz Schubert   \n3500            2       24                         Claudio Monteverdi   \n3501            2       24                    Wolfgang Amadeus Mozart   \n3502            2       10                               Philip Glass   \n\n      Milliseconds     Bytes  UnitPrice  AlbumId  \\\n0           343719  11170334       0.99        1   \n1           205662   6713451       0.99        1   \n2           233926   7636561       0.99        1   \n3           210834   6852860       0.99        1   \n4           203102   6599424       0.99        1   \n...            ...       ...        ...      ...   \n3498        286741   4718950       0.99      343   \n3499        139200   2283131       0.99      344   \n3500         66639   1189062       0.99      345   \n3501        221331   3665114       0.99      346   \n3502        206005   3305164       0.99      347   \n\n                                                  Title  ArtistId  ArtistId  \\\n0                 For Those About To Rock We Salute You         1         1   \n1                 For Those About To Rock We Salute You         1         1   \n2                 For Those About To Rock We Salute You         1         1   \n3                 For Those About To Rock We Salute You         1         1   \n4                 For Those About To Rock We Salute You         1         1   \n...                                                 ...       ...       ...   \n3498                             Respighi:Pines of Rome       226       226   \n3499  Schubert: The Late String Quartets & String Qu...       272       272   \n3500                                Monteverdi: L'Orfeo       273       273   \n3501                              Mozart: Chamber Music       274       274   \n3502  Koyaanisqatsi (Soundtrack from the Motion Pict...       275       275   \n\n                                                   Name  \n0                                                 AC/DC  \n1                                                 AC/DC  \n2                                                 AC/DC  \n3                                                 AC/DC  \n4                                                 AC/DC  \n...                                                 ...  \n3498                                     Eugene Ormandy  \n3499                             Emerson String Quartet  \n3500  C. Monteverdi, Nigel Rogers - Chiaroscuro; Lon...  \n3501                                      Nash Ensemble  \n3502                              Philip Glass Ensemble  \n\n[3503 rows x 14 columns]",
            "text/html": "<div>\n<style scoped>\n    .dataframe tbody tr th:only-of-type {\n        vertical-align: middle;\n    }\n\n    .dataframe tbody tr th {\n        vertical-align: top;\n    }\n\n    .dataframe thead th {\n        text-align: right;\n    }\n</style>\n<table border=\"1\" class=\"dataframe\">\n  <thead>\n    <tr style=\"text-align: right;\">\n      <th></th>\n      <th>TrackId</th>\n      <th>Name</th>\n      <th>AlbumId</th>\n      <th>MediaTypeId</th>\n      <th>GenreId</th>\n      <th>Composer</th>\n      <th>Milliseconds</th>\n      <th>Bytes</th>\n      <th>UnitPrice</th>\n      <th>AlbumId</th>\n      <th>Title</th>\n      <th>ArtistId</th>\n      <th>ArtistId</th>\n      <th>Name</th>\n    </tr>\n  </thead>\n  <tbody>\n    <tr>\n      <th>0</th>\n      <td>1</td>\n      <td>For Those About To Rock (We Salute You)</td>\n      <td>1</td>\n      <td>1</td>\n      <td>1</td>\n      <td>Angus Young, Malcolm Young, Brian Johnson</td>\n      <td>343719</td>\n      <td>11170334</td>\n      <td>0.99</td>\n      <td>1</td>\n      <td>For Those About To Rock We Salute You</td>\n      <td>1</td>\n      <td>1</td>\n      <td>AC/DC</td>\n    </tr>\n    <tr>\n      <th>1</th>\n      <td>6</td>\n      <td>Put The Finger On You</td>\n      <td>1</td>\n      <td>1</td>\n      <td>1</td>\n      <td>Angus Young, Malcolm Young, Brian Johnson</td>\n      <td>205662</td>\n      <td>6713451</td>\n      <td>0.99</td>\n      <td>1</td>\n      <td>For Those About To Rock We Salute You</td>\n      <td>1</td>\n      <td>1</td>\n      <td>AC/DC</td>\n    </tr>\n    <tr>\n      <th>2</th>\n      <td>7</td>\n      <td>Let's Get It Up</td>\n      <td>1</td>\n      <td>1</td>\n      <td>1</td>\n      <td>Angus Young, Malcolm Young, Brian Johnson</td>\n      <td>233926</td>\n      <td>7636561</td>\n      <td>0.99</td>\n      <td>1</td>\n      <td>For Those About To Rock We Salute You</td>\n      <td>1</td>\n      <td>1</td>\n      <td>AC/DC</td>\n    </tr>\n    <tr>\n      <th>3</th>\n      <td>8</td>\n      <td>Inject The Venom</td>\n      <td>1</td>\n      <td>1</td>\n      <td>1</td>\n      <td>Angus Young, Malcolm Young, Brian Johnson</td>\n      <td>210834</td>\n      <td>6852860</td>\n      <td>0.99</td>\n      <td>1</td>\n      <td>For Those About To Rock We Salute You</td>\n      <td>1</td>\n      <td>1</td>\n      <td>AC/DC</td>\n    </tr>\n    <tr>\n      <th>4</th>\n      <td>9</td>\n      <td>Snowballed</td>\n      <td>1</td>\n      <td>1</td>\n      <td>1</td>\n      <td>Angus Young, Malcolm Young, Brian Johnson</td>\n      <td>203102</td>\n      <td>6599424</td>\n      <td>0.99</td>\n      <td>1</td>\n      <td>For Those About To Rock We Salute You</td>\n      <td>1</td>\n      <td>1</td>\n      <td>AC/DC</td>\n    </tr>\n    <tr>\n      <th>...</th>\n      <td>...</td>\n      <td>...</td>\n      <td>...</td>\n      <td>...</td>\n      <td>...</td>\n      <td>...</td>\n      <td>...</td>\n      <td>...</td>\n      <td>...</td>\n      <td>...</td>\n      <td>...</td>\n      <td>...</td>\n      <td>...</td>\n      <td>...</td>\n    </tr>\n    <tr>\n      <th>3498</th>\n      <td>3499</td>\n      <td>Pini Di Roma (Pinien Von Rom) \\ I Pini Della V...</td>\n      <td>343</td>\n      <td>2</td>\n      <td>24</td>\n      <td>None</td>\n      <td>286741</td>\n      <td>4718950</td>\n      <td>0.99</td>\n      <td>343</td>\n      <td>Respighi:Pines of Rome</td>\n      <td>226</td>\n      <td>226</td>\n      <td>Eugene Ormandy</td>\n    </tr>\n    <tr>\n      <th>3499</th>\n      <td>3500</td>\n      <td>String Quartet No. 12 in C Minor, D. 703 \"Quar...</td>\n      <td>344</td>\n      <td>2</td>\n      <td>24</td>\n      <td>Franz Schubert</td>\n      <td>139200</td>\n      <td>2283131</td>\n      <td>0.99</td>\n      <td>344</td>\n      <td>Schubert: The Late String Quartets &amp; String Qu...</td>\n      <td>272</td>\n      <td>272</td>\n      <td>Emerson String Quartet</td>\n    </tr>\n    <tr>\n      <th>3500</th>\n      <td>3501</td>\n      <td>L'orfeo, Act 3, Sinfonia (Orchestra)</td>\n      <td>345</td>\n      <td>2</td>\n      <td>24</td>\n      <td>Claudio Monteverdi</td>\n      <td>66639</td>\n      <td>1189062</td>\n      <td>0.99</td>\n      <td>345</td>\n      <td>Monteverdi: L'Orfeo</td>\n      <td>273</td>\n      <td>273</td>\n      <td>C. Monteverdi, Nigel Rogers - Chiaroscuro; Lon...</td>\n    </tr>\n    <tr>\n      <th>3501</th>\n      <td>3502</td>\n      <td>Quintet for Horn, Violin, 2 Violas, and Cello ...</td>\n      <td>346</td>\n      <td>2</td>\n      <td>24</td>\n      <td>Wolfgang Amadeus Mozart</td>\n      <td>221331</td>\n      <td>3665114</td>\n      <td>0.99</td>\n      <td>346</td>\n      <td>Mozart: Chamber Music</td>\n      <td>274</td>\n      <td>274</td>\n      <td>Nash Ensemble</td>\n    </tr>\n    <tr>\n      <th>3502</th>\n      <td>3503</td>\n      <td>Koyaanisqatsi</td>\n      <td>347</td>\n      <td>2</td>\n      <td>10</td>\n      <td>Philip Glass</td>\n      <td>206005</td>\n      <td>3305164</td>\n      <td>0.99</td>\n      <td>347</td>\n      <td>Koyaanisqatsi (Soundtrack from the Motion Pict...</td>\n      <td>275</td>\n      <td>275</td>\n      <td>Philip Glass Ensemble</td>\n    </tr>\n  </tbody>\n</table>\n<p>3503 rows × 14 columns</p>\n</div>"
          },
          "metadata": {}
        }
      ],
      "execution_count": 11,
      "metadata": {
        "jupyter": {
          "source_hidden": false,
          "outputs_hidden": false
        },
        "nteract": {
          "transient": {
            "deleting": false
          }
        }
      }
    }
  ],
  "metadata": {
    "kernelspec": {
      "name": "python",
      "language": "python",
      "display_name": "Pyolite (preview)"
    },
    "language_info": {
      "codemirror_mode": {
        "name": "python",
        "version": 3
      },
      "file_extension": ".py",
      "mimetype": "text/x-python",
      "name": "python",
      "nbconvert_exporter": "python",
      "pygments_lexer": "ipython3",
      "version": "3.8"
    },
    "kernel_info": {
      "name": "python"
    },
    "nteract": {
      "version": "nteract-front-end@1.0.0"
    }
  },
  "nbformat": 4,
  "nbformat_minor": 4
}