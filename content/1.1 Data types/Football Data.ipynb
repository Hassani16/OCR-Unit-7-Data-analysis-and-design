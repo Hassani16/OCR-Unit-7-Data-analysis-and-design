{
 "cells": [
  {
   "cell_type": "markdown",
   "metadata": {},
   "source": [
    "# Unstructured & Quantitative example:\n",
    "## How many right footed goals were scored in a Football match?\n",
    "\n",
    "[Women's Euros 2022 - England vs Norway](https://www.youtube.com/watch?v=EAdTGBRSCEQ)\n",
    "\n",
    "#### Task : \n",
    "1. Start a timer\n",
    "2. Watch the highlights (not the whole match)\n",
    "3. Note down the body part used to score each goal\n",
    "4. Write the answer below\n",
    "5. Stop the timer"
   ]
  },
  {
   "cell_type": "code",
   "execution_count": 1,
   "metadata": {},
   "outputs": [
    {
     "name": "stdout",
     "output_type": "stream",
     "text": [
      "Right Footed Goals in the Norway game 0\n",
      "Time Taken In Seconds 0\n"
     ]
    }
   ],
   "source": [
    "#Enter your answers here\n",
    "right_footed_goals = 0\n",
    "time_taken_in_seconds = 0\n",
    "\n",
    "print(\"Right Footed Goals in the Norway game\", right_footed_goals)\n",
    "print(\"Time Taken In Seconds\", time_taken_in_seconds)"
   ]
  },
  {
   "cell_type": "code",
   "execution_count": 2,
   "metadata": {},
   "outputs": [
    {
     "name": "stdout",
     "output_type": "stream",
     "text": [
      "Note: you may need to restart the kernel to use updated packages.\n"
     ]
    }
   ],
   "source": [
    "%pip install -q statsbombpy"
   ]
  },
  {
   "cell_type": "code",
   "execution_count": 3,
   "metadata": {},
   "outputs": [
    {
     "name": "stderr",
     "output_type": "stream",
     "text": [
      "/home/meggleton/.local/lib/python3.10/site-packages/statsbombpy/api_client.py:21: NoAuthWarning: credentials were not supplied. open data access only\n",
      "  warnings.warn(\n",
      "/home/meggleton/.local/lib/python3.10/site-packages/statsbombpy/api_client.py:21: NoAuthWarning: credentials were not supplied. open data access only\n",
      "  warnings.warn(\n"
     ]
    },
    {
     "data": {
      "text/html": [
       "<div>\n",
       "<style scoped>\n",
       "    .dataframe tbody tr th:only-of-type {\n",
       "        vertical-align: middle;\n",
       "    }\n",
       "\n",
       "    .dataframe tbody tr th {\n",
       "        vertical-align: top;\n",
       "    }\n",
       "\n",
       "    .dataframe thead th {\n",
       "        text-align: right;\n",
       "    }\n",
       "</style>\n",
       "<table border=\"1\" class=\"dataframe\">\n",
       "  <thead>\n",
       "    <tr style=\"text-align: right;\">\n",
       "      <th></th>\n",
       "      <th>timestamp</th>\n",
       "      <th>period</th>\n",
       "      <th>shot_body_part</th>\n",
       "      <th>shot_outcome</th>\n",
       "    </tr>\n",
       "  </thead>\n",
       "  <tbody>\n",
       "    <tr>\n",
       "      <th>3128</th>\n",
       "      <td>00:11:05.568</td>\n",
       "      <td>1</td>\n",
       "      <td>Right Foot</td>\n",
       "      <td>Goal</td>\n",
       "    </tr>\n",
       "    <tr>\n",
       "      <th>3130</th>\n",
       "      <td>00:14:10.725</td>\n",
       "      <td>1</td>\n",
       "      <td>Right Foot</td>\n",
       "      <td>Goal</td>\n",
       "    </tr>\n",
       "    <tr>\n",
       "      <th>3134</th>\n",
       "      <td>00:28:02.242</td>\n",
       "      <td>1</td>\n",
       "      <td>Right Foot</td>\n",
       "      <td>Goal</td>\n",
       "    </tr>\n",
       "    <tr>\n",
       "      <th>3138</th>\n",
       "      <td>00:33:56.826</td>\n",
       "      <td>1</td>\n",
       "      <td>Head</td>\n",
       "      <td>Goal</td>\n",
       "    </tr>\n",
       "    <tr>\n",
       "      <th>3139</th>\n",
       "      <td>00:37:53.824</td>\n",
       "      <td>1</td>\n",
       "      <td>Left Foot</td>\n",
       "      <td>Goal</td>\n",
       "    </tr>\n",
       "    <tr>\n",
       "      <th>3140</th>\n",
       "      <td>00:40:14.670</td>\n",
       "      <td>1</td>\n",
       "      <td>Left Foot</td>\n",
       "      <td>Goal</td>\n",
       "    </tr>\n",
       "    <tr>\n",
       "      <th>3144</th>\n",
       "      <td>00:20:25.538</td>\n",
       "      <td>2</td>\n",
       "      <td>Head</td>\n",
       "      <td>Goal</td>\n",
       "    </tr>\n",
       "    <tr>\n",
       "      <th>3151</th>\n",
       "      <td>00:35:43.679</td>\n",
       "      <td>2</td>\n",
       "      <td>Left Foot</td>\n",
       "      <td>Goal</td>\n",
       "    </tr>\n",
       "  </tbody>\n",
       "</table>\n",
       "</div>"
      ],
      "text/plain": [
       "         timestamp  period shot_body_part shot_outcome\n",
       "3128  00:11:05.568       1     Right Foot         Goal\n",
       "3130  00:14:10.725       1     Right Foot         Goal\n",
       "3134  00:28:02.242       1     Right Foot         Goal\n",
       "3138  00:33:56.826       1           Head         Goal\n",
       "3139  00:37:53.824       1      Left Foot         Goal\n",
       "3140  00:40:14.670       1      Left Foot         Goal\n",
       "3144  00:20:25.538       2           Head         Goal\n",
       "3151  00:35:43.679       2      Left Foot         Goal"
      ]
     },
     "execution_count": 3,
     "metadata": {},
     "output_type": "execute_result"
    }
   ],
   "source": [
    "from statsbombpy import sb\n",
    "sb.competitions().query(\"competition_name == 'UEFA Women\\\\'s Euro'\")\n",
    "\n",
    "euro22games = sb.matches(competition_id=53, season_id=106)\n",
    "matchid = euro22games.query(\"home_team == 'England Women\\\\'s' and away_team == 'Norway Women\\\\'s'\").iloc[0]['match_id']\n",
    "\n",
    "events = sb.events(match_id=matchid).query(\"type == 'Shot' and shot_outcome=='Goal'\")\n",
    "\n",
    "events[['timestamp','period','shot_body_part', 'shot_outcome']]\n"
   ]
  },
  {
   "cell_type": "code",
   "execution_count": 4,
   "metadata": {},
   "outputs": [
    {
     "name": "stdout",
     "output_type": "stream",
     "text": [
      "Right Footed Goals in the Norway game from data 0\n",
      "Time Taken In Seconds 0\n"
     ]
    }
   ],
   "source": [
    "#Enter your answers here\n",
    "right_footed_goals = 0\n",
    "time_taken_in_seconds = 0\n",
    "\n",
    "print(\"Right Footed Goals in the Norway game from data\", right_footed_goals)\n",
    "print(\"Time Taken In Seconds\", time_taken_in_seconds)"
   ]
  },
  {
   "cell_type": "markdown",
   "metadata": {},
   "source": [
    "#### Task 2 : How many Right Footed goals in the England vs Sweden game?\n"
   ]
  },
  {
   "cell_type": "code",
   "execution_count": 5,
   "metadata": {},
   "outputs": [
    {
     "name": "stdout",
     "output_type": "stream",
     "text": [
      "Right Footed Goals in the Sweden game 0\n",
      "Time Taken In Seconds 0\n"
     ]
    }
   ],
   "source": [
    "#Enter your answers here\n",
    "right_footed_goals = 0\n",
    "time_taken_in_seconds = 0\n",
    "\n",
    "print(\"Right Footed Goals in the Sweden game\", right_footed_goals)\n",
    "print(\"Time Taken In Seconds\", time_taken_in_seconds)"
   ]
  }
 ],
 "metadata": {
  "kernelspec": {
   "display_name": "Python 3",
   "language": "python",
   "name": "python3"
  },
  "language_info": {
   "codemirror_mode": {
    "name": "ipython",
    "version": 3
   },
   "file_extension": ".py",
   "mimetype": "text/x-python",
   "name": "python",
   "nbconvert_exporter": "python",
   "pygments_lexer": "ipython3",
   "version": "3.10.12"
  }
 },
 "nbformat": 4,
 "nbformat_minor": 2
}
