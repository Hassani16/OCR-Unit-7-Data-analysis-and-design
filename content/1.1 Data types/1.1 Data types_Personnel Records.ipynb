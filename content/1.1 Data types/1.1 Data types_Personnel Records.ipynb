{
  "metadata": {
    "kernelspec": {
      "name": "SQLite",
      "display_name": "SQLite",
      "language": "sql"
    },
    "language_info": {
      "codemirror_mode": "sql",
      "file_extension": "",
      "mimetype": "",
      "name": "sql",
      "version": "3.32.3"
    }
  },
  "nbformat_minor": 4,
  "nbformat": 4,
  "cells": [
    {
      "cell_type": "markdown",
      "source": "# JupyterLite `xeus-sqlite` Kernel Demo\n\nThe [`jupyterlite/xeus-sqlite-kernel`](https://github.com/jupyterlite/xeus-sqlite-kernel) wraps the original [`jupyter-xeus/xeus-sqlite`](https://github.com/jupyter-xeus/xeus-sqlite/) kernel for use in JupyterLite.\n\nOriginal kernel docs can be found [here](https://xeus-sqlite.readthedocs.io/en/latest/).\n\nThe kernel provides cell magic for command line database operations, and native execution of SQL code against a connected database.\n\n[Title](../xeus-sqlite/simple-operations.ipynb)",
      "metadata": {}
    },
    {
      "cell_type": "markdown",
      "source": "## Creating a Database\n\nLine magic is used to create an in-memory database:",
      "metadata": {}
    },
    {
      "cell_type": "code",
      "source": "%CREATE example_db.db",
      "metadata": {
        "trusted": true
      },
      "outputs": [],
      "execution_count": 1
    },
    {
      "cell_type": "markdown",
      "source": "Currently, there is no ability to:\n\n- save the database to browser storage;\n- export the database;\n- load a database from browser storage;\n- load a database from a URL;\n- load a database from the desktop;\n- connect to a remote sqlite database file.",
      "metadata": {}
    },
    {
      "cell_type": "markdown",
      "source": "## Create and Populate Tables\n\nTables are created and populated using SQL:",
      "metadata": {}
    },
    {
      "cell_type": "code",
      "source": "CREATE TABLE employees (\n\temployee_id INTEGER PRIMARY KEY AUTOINCREMENT NOT NULL,\n\tfirst_name text,\n\tlast_name text NOT NULL,\n\temail text NOT NULL,\n\tphone_number text,\n\thire_date text NOT NULL,\n\tjob_id INTEGER NOT NULL,\n\tsalary double NOT NULL,\n\tmanager_id INTEGER,\n\tdepartment_id INTEGER NOT NULL,\n\tFOREIGN KEY (job_id) REFERENCES jobs (job_id) ON DELETE CASCADE ON UPDATE CASCADE,\n\tFOREIGN KEY (department_id) REFERENCES departments (department_id) ON DELETE CASCADE ON UPDATE CASCADE,\n\tFOREIGN KEY (manager_id) REFERENCES employees (employee_id) ON DELETE CASCADE ON UPDATE CASCADE\n);",
      "metadata": {
        "trusted": true
      },
      "outputs": [],
      "execution_count": 2
    },
    {
      "cell_type": "code",
      "source": "CREATE TABLE departments (\n\tdepartment_id INTEGER PRIMARY KEY AUTOINCREMENT NOT NULL,\n\tdepartment_name text NOT NULL,\n\tlocation_id INTEGER NOT NULL,\n\tFOREIGN KEY (location_id) REFERENCES locations (location_id) ON DELETE CASCADE ON UPDATE CASCADE\n);\n",
      "metadata": {
        "trusted": true
      },
      "outputs": [],
      "execution_count": 3
    },
    {
      "cell_type": "code",
      "source": "\nCREATE TABLE jobs (\n\tjob_id INTEGER PRIMARY KEY AUTOINCREMENT NOT NULL,\n\tjob_title text NOT NULL,\n\tmin_salary double NOT NULL,\n\tmax_salary double NOT NULL\n);",
      "metadata": {
        "trusted": true
      },
      "outputs": [],
      "execution_count": 4
    },
    {
      "cell_type": "markdown",
      "source": "Only one command can be executed from within a single code cell:",
      "metadata": {}
    },
    {
      "cell_type": "code",
      "source": "",
      "metadata": {
        "trusted": true
      },
      "outputs": [],
      "execution_count": null
    },
    {
      "cell_type": "code",
      "source": "INSERT INTO jobs(job_id,job_title,min_salary,max_salary) VALUES (1,'Public Accountant',4200.00,9000.00);\n",
      "metadata": {
        "trusted": true
      },
      "outputs": [],
      "execution_count": 5
    },
    {
      "cell_type": "code",
      "source": "INSERT INTO jobs(job_id,job_title,min_salary,max_salary) VALUES (2,'Accounting Manager',8200.00,16000.00);\n",
      "metadata": {
        "trusted": true
      },
      "outputs": [],
      "execution_count": 6
    },
    {
      "cell_type": "code",
      "source": "INSERT INTO jobs(job_id,job_title,min_salary,max_salary) VALUES (3,'Administration Assistant',3000.00,6000.00);\n",
      "metadata": {
        "trusted": true
      },
      "outputs": [],
      "execution_count": 7
    },
    {
      "cell_type": "code",
      "source": "INSERT INTO jobs(job_id,job_title,min_salary,max_salary) VALUES (4,'President',20000.00,40000.00);\n",
      "metadata": {
        "trusted": true
      },
      "outputs": [],
      "execution_count": 8
    },
    {
      "cell_type": "code",
      "source": "INSERT INTO jobs(job_id,job_title,min_salary,max_salary) VALUES (5,'Administration Vice President',15000.00,30000.00);\n",
      "metadata": {
        "trusted": true
      },
      "outputs": [],
      "execution_count": 9
    },
    {
      "cell_type": "code",
      "source": "INSERT INTO jobs(job_id,job_title,min_salary,max_salary) VALUES (6,'Accountant',4200.00,9000.00);\n",
      "metadata": {
        "trusted": true
      },
      "outputs": [],
      "execution_count": 10
    },
    {
      "cell_type": "code",
      "source": "INSERT INTO jobs(job_id,job_title,min_salary,max_salary) VALUES (7,'Finance Manager',8200.00,16000.00);\n",
      "metadata": {
        "trusted": true
      },
      "outputs": [],
      "execution_count": 11
    },
    {
      "cell_type": "code",
      "source": "INSERT INTO jobs(job_id,job_title,min_salary,max_salary) VALUES (8,'Human Resources Representative',4000.00,9000.00);\n",
      "metadata": {
        "trusted": true
      },
      "outputs": [],
      "execution_count": 12
    },
    {
      "cell_type": "code",
      "source": "INSERT INTO jobs(job_id,job_title,min_salary,max_salary) VALUES (9,'Programmer',4000.00,10000.00);\n",
      "metadata": {
        "trusted": true
      },
      "outputs": [],
      "execution_count": 13
    },
    {
      "cell_type": "code",
      "source": "INSERT INTO jobs(job_id,job_title,min_salary,max_salary) VALUES (10,'Marketing Manager',9000.00,15000.00);\n",
      "metadata": {
        "trusted": true
      },
      "outputs": [],
      "execution_count": 14
    },
    {
      "cell_type": "code",
      "source": "INSERT INTO jobs(job_id,job_title,min_salary,max_salary) VALUES (11,'Marketing Representative',4000.00,9000.00);\n",
      "metadata": {
        "trusted": true
      },
      "outputs": [],
      "execution_count": 15
    },
    {
      "cell_type": "code",
      "source": "INSERT INTO jobs(job_id,job_title,min_salary,max_salary) VALUES (12,'Public Relations Representative',4500.00,10500.00);\n",
      "metadata": {
        "trusted": true
      },
      "outputs": [],
      "execution_count": 16
    },
    {
      "cell_type": "code",
      "source": "INSERT INTO jobs(job_id,job_title,min_salary,max_salary) VALUES (13,'Purchasing Clerk',2500.00,5500.00);\n",
      "metadata": {
        "trusted": true
      },
      "outputs": [],
      "execution_count": 17
    },
    {
      "cell_type": "code",
      "source": "INSERT INTO jobs(job_id,job_title,min_salary,max_salary) VALUES (14,'Purchasing Manager',8000.00,15000.00);\n",
      "metadata": {
        "trusted": true
      },
      "outputs": [],
      "execution_count": 18
    },
    {
      "cell_type": "code",
      "source": "INSERT INTO jobs(job_id,job_title,min_salary,max_salary) VALUES (15,'Sales Manager',10000.00,20000.00);\n",
      "metadata": {
        "trusted": true
      },
      "outputs": [],
      "execution_count": 19
    },
    {
      "cell_type": "code",
      "source": "INSERT INTO jobs(job_id,job_title,min_salary,max_salary) VALUES (16,'Sales Representative',6000.00,12000.00);\n",
      "metadata": {
        "trusted": true
      },
      "outputs": [],
      "execution_count": 20
    },
    {
      "cell_type": "code",
      "source": "INSERT INTO jobs(job_id,job_title,min_salary,max_salary) VALUES (17,'Shipping Clerk',2500.00,5500.00);\n",
      "metadata": {
        "trusted": true
      },
      "outputs": [],
      "execution_count": 21
    },
    {
      "cell_type": "code",
      "source": "INSERT INTO jobs(job_id,job_title,min_salary,max_salary) VALUES (18,'Stock Clerk',2000.00,5000.00);\n",
      "metadata": {
        "trusted": true
      },
      "outputs": [],
      "execution_count": 22
    },
    {
      "cell_type": "code",
      "source": "INSERT INTO jobs(job_id,job_title,min_salary,max_salary) VALUES (19,'Stock Manager',5500.00,8500.00);\n\n",
      "metadata": {
        "trusted": true
      },
      "outputs": [],
      "execution_count": 23
    },
    {
      "cell_type": "code",
      "source": "\n/*Data for the table departments */\n\nINSERT INTO departments(department_id,department_name,location_id) VALUES (1,'Administration',1700);\n",
      "metadata": {
        "trusted": true
      },
      "outputs": [],
      "execution_count": 24
    },
    {
      "cell_type": "code",
      "source": "INSERT INTO departments(department_id,department_name,location_id) VALUES (2,'Marketing',1800);\n",
      "metadata": {
        "trusted": true
      },
      "outputs": [],
      "execution_count": 25
    },
    {
      "cell_type": "code",
      "source": "INSERT INTO departments(department_id,department_name,location_id) VALUES (3,'Purchasing',1700);\n",
      "metadata": {
        "trusted": true
      },
      "outputs": [],
      "execution_count": 26
    },
    {
      "cell_type": "code",
      "source": "INSERT INTO departments(department_id,department_name,location_id) VALUES (4,'Human Resources',2400);\n",
      "metadata": {
        "trusted": true
      },
      "outputs": [],
      "execution_count": 27
    },
    {
      "cell_type": "code",
      "source": "INSERT INTO departments(department_id,department_name,location_id) VALUES (5,'Shipping',1500);\n",
      "metadata": {
        "trusted": true
      },
      "outputs": [],
      "execution_count": 28
    },
    {
      "cell_type": "code",
      "source": "INSERT INTO departments(department_id,department_name,location_id) VALUES (6,'IT',1400);\n",
      "metadata": {
        "trusted": true
      },
      "outputs": [],
      "execution_count": 29
    },
    {
      "cell_type": "code",
      "source": "INSERT INTO departments(department_id,department_name,location_id) VALUES (7,'Public Relations',2700);\n",
      "metadata": {
        "trusted": true
      },
      "outputs": [],
      "execution_count": 30
    },
    {
      "cell_type": "code",
      "source": "INSERT INTO departments(department_id,department_name,location_id) VALUES (8,'Sales',2500);\n",
      "metadata": {
        "trusted": true
      },
      "outputs": [],
      "execution_count": 31
    },
    {
      "cell_type": "code",
      "source": "INSERT INTO departments(department_id,department_name,location_id) VALUES (9,'Executive',1700);\n",
      "metadata": {
        "trusted": true
      },
      "outputs": [],
      "execution_count": 32
    },
    {
      "cell_type": "code",
      "source": "INSERT INTO departments(department_id,department_name,location_id) VALUES (10,'Finance',1700);\n",
      "metadata": {
        "trusted": true
      },
      "outputs": [],
      "execution_count": 33
    },
    {
      "cell_type": "code",
      "source": "INSERT INTO departments(department_id,department_name,location_id) VALUES (11,'Accounting',1700);\n",
      "metadata": {
        "trusted": true
      },
      "outputs": [],
      "execution_count": 34
    },
    {
      "cell_type": "code",
      "source": "/*Data for the table employees */\n\nINSERT INTO employees(employee_id,first_name,last_name,email,phone_number,hire_date,job_id,salary,manager_id,department_id) VALUES (100,'Steven','King','steven.king@sqltutorial.org','515.123.4567','1987-06-17',4,24000.00,NULL,9);\n",
      "metadata": {
        "trusted": true
      },
      "outputs": [],
      "execution_count": 35
    },
    {
      "cell_type": "code",
      "source": "INSERT INTO employees(employee_id,first_name,last_name,email,phone_number,hire_date,job_id,salary,manager_id,department_id) VALUES (101,'Neena','Kochhar','neena.kochhar@sqltutorial.org','515.123.4568','1989-09-21',5,17000.00,100,9);\n",
      "metadata": {
        "trusted": true
      },
      "outputs": [],
      "execution_count": 36
    },
    {
      "cell_type": "code",
      "source": "INSERT INTO employees(employee_id,first_name,last_name,email,phone_number,hire_date,job_id,salary,manager_id,department_id) VALUES (102,'Lex','De Haan','lex.de haan@sqltutorial.org','515.123.4569','1993-01-13',5,17000.00,100,9);\n",
      "metadata": {
        "trusted": true
      },
      "outputs": [],
      "execution_count": 37
    },
    {
      "cell_type": "code",
      "source": "INSERT INTO employees(employee_id,first_name,last_name,email,phone_number,hire_date,job_id,salary,manager_id,department_id) VALUES (103,'Alexander','Hunold','alexander.hunold@sqltutorial.org','590.423.4567','1990-01-03',9,9000.00,102,6);\n",
      "metadata": {
        "trusted": true
      },
      "outputs": [],
      "execution_count": 38
    },
    {
      "cell_type": "code",
      "source": "INSERT INTO employees(employee_id,first_name,last_name,email,phone_number,hire_date,job_id,salary,manager_id,department_id) VALUES (104,'Bruce','Ernst','bruce.ernst@sqltutorial.org','590.423.4568','1991-05-21',9,6000.00,103,6);\n",
      "metadata": {
        "trusted": true
      },
      "outputs": [],
      "execution_count": 39
    },
    {
      "cell_type": "code",
      "source": "INSERT INTO employees(employee_id,first_name,last_name,email,phone_number,hire_date,job_id,salary,manager_id,department_id) VALUES (105,'David','Austin','david.austin@sqltutorial.org','590.423.4569','1997-06-25',9,4800.00,103,6);\n",
      "metadata": {
        "trusted": true
      },
      "outputs": [],
      "execution_count": 40
    },
    {
      "cell_type": "code",
      "source": "INSERT INTO employees(employee_id,first_name,last_name,email,phone_number,hire_date,job_id,salary,manager_id,department_id) VALUES (106,'Valli','Pataballa','valli.pataballa@sqltutorial.org','590.423.4560','1998-02-05',9,4800.00,103,6);\n",
      "metadata": {
        "trusted": true
      },
      "outputs": [],
      "execution_count": 41
    },
    {
      "cell_type": "code",
      "source": "INSERT INTO employees(employee_id,first_name,last_name,email,phone_number,hire_date,job_id,salary,manager_id,department_id) VALUES (107,'Diana','Lorentz','diana.lorentz@sqltutorial.org','590.423.5567','1999-02-07',9,4200.00,103,6);\n",
      "metadata": {
        "trusted": true
      },
      "outputs": [],
      "execution_count": 42
    },
    {
      "cell_type": "code",
      "source": "INSERT INTO employees(employee_id,first_name,last_name,email,phone_number,hire_date,job_id,salary,manager_id,department_id) VALUES (108,'Nancy','Greenberg','nancy.greenberg@sqltutorial.org','515.124.4569','1994-08-17',7,12000.00,101,10);\n",
      "metadata": {
        "trusted": true
      },
      "outputs": [],
      "execution_count": 43
    },
    {
      "cell_type": "code",
      "source": "INSERT INTO employees(employee_id,first_name,last_name,email,phone_number,hire_date,job_id,salary,manager_id,department_id) VALUES (109,'Daniel','Faviet','daniel.faviet@sqltutorial.org','515.124.4169','1994-08-16',6,9000.00,108,10);\n",
      "metadata": {
        "trusted": true
      },
      "outputs": [],
      "execution_count": 44
    },
    {
      "cell_type": "code",
      "source": "INSERT INTO employees(employee_id,first_name,last_name,email,phone_number,hire_date,job_id,salary,manager_id,department_id) VALUES (110,'John','Chen','john.chen@sqltutorial.org','515.124.4269','1997-09-28',6,8200.00,108,10);\n",
      "metadata": {
        "trusted": true
      },
      "outputs": [],
      "execution_count": 45
    },
    {
      "cell_type": "code",
      "source": "INSERT INTO employees(employee_id,first_name,last_name,email,phone_number,hire_date,job_id,salary,manager_id,department_id) VALUES (111,'Ismael','Sciarra','ismael.sciarra@sqltutorial.org','515.124.4369','1997-09-30',6,7700.00,108,10);\n",
      "metadata": {
        "trusted": true
      },
      "outputs": [],
      "execution_count": 46
    },
    {
      "cell_type": "code",
      "source": "INSERT INTO employees(employee_id,first_name,last_name,email,phone_number,hire_date,job_id,salary,manager_id,department_id) VALUES (112,'Jose Manuel','Urman','jose manuel.urman@sqltutorial.org','515.124.4469','1998-03-07',6,7800.00,108,10);\n",
      "metadata": {
        "trusted": true
      },
      "outputs": [],
      "execution_count": 47
    },
    {
      "cell_type": "code",
      "source": "INSERT INTO employees(employee_id,first_name,last_name,email,phone_number,hire_date,job_id,salary,manager_id,department_id) VALUES (113,'Luis','Popp','luis.popp@sqltutorial.org','515.124.4567','1999-12-07',6,6900.00,108,10);\n",
      "metadata": {
        "trusted": true
      },
      "outputs": [],
      "execution_count": 48
    },
    {
      "cell_type": "code",
      "source": "INSERT INTO employees(employee_id,first_name,last_name,email,phone_number,hire_date,job_id,salary,manager_id,department_id) VALUES (114,'Den','Raphaely','den.raphaely@sqltutorial.org','515.127.4561','1994-12-07',14,11000.00,100,3);\n",
      "metadata": {
        "trusted": true
      },
      "outputs": [],
      "execution_count": 49
    },
    {
      "cell_type": "code",
      "source": "INSERT INTO employees(employee_id,first_name,last_name,email,phone_number,hire_date,job_id,salary,manager_id,department_id) VALUES (115,'Alexander','Khoo','alexander.khoo@sqltutorial.org','515.127.4562','1995-05-18',13,3100.00,114,3);\n",
      "metadata": {
        "trusted": true
      },
      "outputs": [],
      "execution_count": 50
    },
    {
      "cell_type": "code",
      "source": "INSERT INTO employees(employee_id,first_name,last_name,email,phone_number,hire_date,job_id,salary,manager_id,department_id) VALUES (116,'Shelli','Baida','shelli.baida@sqltutorial.org','515.127.4563','1997-12-24',13,2900.00,114,3);\n",
      "metadata": {
        "trusted": true
      },
      "outputs": [],
      "execution_count": 51
    },
    {
      "cell_type": "code",
      "source": "INSERT INTO employees(employee_id,first_name,last_name,email,phone_number,hire_date,job_id,salary,manager_id,department_id) VALUES (117,'Sigal','Tobias','sigal.tobias@sqltutorial.org','515.127.4564','1997-07-24',13,2800.00,114,3);\n",
      "metadata": {
        "trusted": true
      },
      "outputs": [],
      "execution_count": 52
    },
    {
      "cell_type": "code",
      "source": "INSERT INTO employees(employee_id,first_name,last_name,email,phone_number,hire_date,job_id,salary,manager_id,department_id) VALUES (118,'Guy','Himuro','guy.himuro@sqltutorial.org','515.127.4565','1998-11-15',13,2600.00,114,3);\n",
      "metadata": {
        "trusted": true
      },
      "outputs": [],
      "execution_count": 53
    },
    {
      "cell_type": "code",
      "source": "INSERT INTO employees(employee_id,first_name,last_name,email,phone_number,hire_date,job_id,salary,manager_id,department_id) VALUES (119,'Karen','Colmenares','karen.colmenares@sqltutorial.org','515.127.4566','1999-08-10',13,2500.00,114,3);\n",
      "metadata": {
        "trusted": true
      },
      "outputs": [],
      "execution_count": 54
    },
    {
      "cell_type": "code",
      "source": "INSERT INTO employees(employee_id,first_name,last_name,email,phone_number,hire_date,job_id,salary,manager_id,department_id) VALUES (120,'Matthew','Weiss','matthew.weiss@sqltutorial.org','650.123.1234','1996-07-18',19,8000.00,100,5);\n",
      "metadata": {
        "trusted": true
      },
      "outputs": [],
      "execution_count": 55
    },
    {
      "cell_type": "code",
      "source": "INSERT INTO employees(employee_id,first_name,last_name,email,phone_number,hire_date,job_id,salary,manager_id,department_id) VALUES (121,'Adam','Fripp','adam.fripp@sqltutorial.org','650.123.2234','1997-04-10',19,8200.00,100,5);\n",
      "metadata": {
        "trusted": true
      },
      "outputs": [],
      "execution_count": 56
    },
    {
      "cell_type": "code",
      "source": "INSERT INTO employees(employee_id,first_name,last_name,email,phone_number,hire_date,job_id,salary,manager_id,department_id) VALUES (122,'Payam','Kaufling','payam.kaufling@sqltutorial.org','650.123.3234','1995-05-01',19,7900.00,100,5);\n",
      "metadata": {
        "trusted": true
      },
      "outputs": [],
      "execution_count": 57
    },
    {
      "cell_type": "code",
      "source": "INSERT INTO employees(employee_id,first_name,last_name,email,phone_number,hire_date,job_id,salary,manager_id,department_id) VALUES (123,'Shanta','Vollman','shanta.vollman@sqltutorial.org','650.123.4234','1997-10-10',19,6500.00,100,5);\n",
      "metadata": {
        "trusted": true
      },
      "outputs": [],
      "execution_count": 58
    },
    {
      "cell_type": "code",
      "source": "INSERT INTO employees(employee_id,first_name,last_name,email,phone_number,hire_date,job_id,salary,manager_id,department_id) VALUES (126,'Irene','Mikkilineni','irene.mikkilineni@sqltutorial.org','650.124.1224','1998-09-28',18,2700.00,120,5);\n",
      "metadata": {
        "trusted": true
      },
      "outputs": [],
      "execution_count": 59
    },
    {
      "cell_type": "code",
      "source": "INSERT INTO employees(employee_id,first_name,last_name,email,phone_number,hire_date,job_id,salary,manager_id,department_id) VALUES (145,'John','Russell','john.russell@sqltutorial.org',NULL,'1996-10-01',15,14000.00,100,8);\n",
      "metadata": {
        "trusted": true
      },
      "outputs": [],
      "execution_count": 60
    },
    {
      "cell_type": "code",
      "source": "INSERT INTO employees(employee_id,first_name,last_name,email,phone_number,hire_date,job_id,salary,manager_id,department_id) VALUES (146,'Karen','Partners','karen.partners@sqltutorial.org',NULL,'1997-01-05',15,13500.00,100,8);\n",
      "metadata": {
        "trusted": true
      },
      "outputs": [],
      "execution_count": 61
    },
    {
      "cell_type": "code",
      "source": "INSERT INTO employees(employee_id,first_name,last_name,email,phone_number,hire_date,job_id,salary,manager_id,department_id) VALUES (176,'Jonathon','Taylor','jonathon.taylor@sqltutorial.org',NULL,'1998-03-24',16,8600.00,100,8);\n",
      "metadata": {
        "trusted": true
      },
      "outputs": [],
      "execution_count": 62
    },
    {
      "cell_type": "code",
      "source": "INSERT INTO employees(employee_id,first_name,last_name,email,phone_number,hire_date,job_id,salary,manager_id,department_id) VALUES (177,'Jack','Livingston','jack.livingston@sqltutorial.org',NULL,'1998-04-23',16,8400.00,100,8);\n",
      "metadata": {
        "trusted": true
      },
      "outputs": [],
      "execution_count": 63
    },
    {
      "cell_type": "code",
      "source": "INSERT INTO employees(employee_id,first_name,last_name,email,phone_number,hire_date,job_id,salary,manager_id,department_id) VALUES (178,'Kimberely','Grant','kimberely.grant@sqltutorial.org',NULL,'1999-05-24',16,7000.00,100,8);\n",
      "metadata": {
        "trusted": true
      },
      "outputs": [],
      "execution_count": 64
    },
    {
      "cell_type": "code",
      "source": "INSERT INTO employees(employee_id,first_name,last_name,email,phone_number,hire_date,job_id,salary,manager_id,department_id) VALUES (179,'Charles','Johnson','charles.johnson@sqltutorial.org',NULL,'2000-01-04',16,6200.00,100,8);\n",
      "metadata": {
        "trusted": true
      },
      "outputs": [],
      "execution_count": 65
    },
    {
      "cell_type": "code",
      "source": "INSERT INTO employees(employee_id,first_name,last_name,email,phone_number,hire_date,job_id,salary,manager_id,department_id) VALUES (192,'Sarah','Bell','sarah.bell@sqltutorial.org','650.501.1876','1996-02-04',17,4000.00,123,5);\n",
      "metadata": {
        "trusted": true
      },
      "outputs": [],
      "execution_count": 66
    },
    {
      "cell_type": "code",
      "source": "INSERT INTO employees(employee_id,first_name,last_name,email,phone_number,hire_date,job_id,salary,manager_id,department_id) VALUES (193,'Britney','Everett','britney.everett@sqltutorial.org','650.501.2876','1997-03-03',17,3900.00,123,5);\n",
      "metadata": {
        "trusted": true
      },
      "outputs": [],
      "execution_count": 67
    },
    {
      "cell_type": "code",
      "source": "INSERT INTO employees(employee_id,first_name,last_name,email,phone_number,hire_date,job_id,salary,manager_id,department_id) VALUES (200,'Jennifer','Whalen','jennifer.whalen@sqltutorial.org','515.123.4444','1987-09-17',3,4400.00,101,1);\n",
      "metadata": {
        "trusted": true
      },
      "outputs": [],
      "execution_count": 68
    },
    {
      "cell_type": "code",
      "source": "INSERT INTO employees(employee_id,first_name,last_name,email,phone_number,hire_date,job_id,salary,manager_id,department_id) VALUES (201,'Michael','Hartstein','michael.hartstein@sqltutorial.org','515.123.5555','1996-02-17',10,13000.00,100,2);\n",
      "metadata": {
        "trusted": true
      },
      "outputs": [],
      "execution_count": 69
    },
    {
      "cell_type": "code",
      "source": "INSERT INTO employees(employee_id,first_name,last_name,email,phone_number,hire_date,job_id,salary,manager_id,department_id) VALUES (202,'Pat','Fay','pat.fay@sqltutorial.org','603.123.6666','1997-08-17',11,6000.00,201,2);\n",
      "metadata": {
        "trusted": true
      },
      "outputs": [],
      "execution_count": 70
    },
    {
      "cell_type": "code",
      "source": "INSERT INTO employees(employee_id,first_name,last_name,email,phone_number,hire_date,job_id,salary,manager_id,department_id) VALUES (203,'Susan','Mavris','susan.mavris@sqltutorial.org','515.123.7777','1994-06-07',8,6500.00,101,4);\n",
      "metadata": {
        "trusted": true
      },
      "outputs": [],
      "execution_count": 71
    },
    {
      "cell_type": "code",
      "source": "INSERT INTO employees(employee_id,first_name,last_name,email,phone_number,hire_date,job_id,salary,manager_id,department_id) VALUES (204,'Hermann','Baer','hermann.baer@sqltutorial.org','515.123.8888','1994-06-07',12,10000.00,101,7);\n",
      "metadata": {
        "trusted": true
      },
      "outputs": [],
      "execution_count": 72
    },
    {
      "cell_type": "code",
      "source": "INSERT INTO employees(employee_id,first_name,last_name,email,phone_number,hire_date,job_id,salary,manager_id,department_id) VALUES (205,'Shelley','Higgins','shelley.higgins@sqltutorial.org','515.123.8080','1994-06-07',2,12000.00,101,11);\n",
      "metadata": {
        "trusted": true
      },
      "outputs": [],
      "execution_count": 73
    },
    {
      "cell_type": "code",
      "source": "INSERT INTO employees(employee_id,first_name,last_name,email,phone_number,hire_date,job_id,salary,manager_id,department_id) VALUES (206,'William','Gietz','william.gietz@sqltutorial.org','515.123.8181','1994-06-07',1,8300.00,205,11);\n",
      "metadata": {
        "trusted": true
      },
      "outputs": [],
      "execution_count": 74
    },
    {
      "cell_type": "code",
      "source": "SELECT employee_id, first_name, last_name, email FROM employees LIMIT 10;",
      "metadata": {
        "trusted": true
      },
      "outputs": [
        {
          "execution_count": 75,
          "output_type": "execute_result",
          "data": {
            "text/html": "<table>\n<tr>\n<th>employee_id</th>\n<th>first_name</th>\n<th>last_name</th>\n<th>email</th>\n</tr>\n<tr>\n<td>100</td>\n<td>Steven</td>\n<td>King</td>\n<td>steven.king@sqltutorial.org</td>\n</tr>\n<tr>\n<td>101</td>\n<td>Neena</td>\n<td>Kochhar</td>\n<td>neena.kochhar@sqltutorial.org</td>\n</tr>\n<tr>\n<td>102</td>\n<td>Lex</td>\n<td>De Haan</td>\n<td>lex.de haan@sqltutorial.org</td>\n</tr>\n<tr>\n<td>103</td>\n<td>Alexander</td>\n<td>Hunold</td>\n<td>alexander.hunold@sqltutorial.org</td>\n</tr>\n<tr>\n<td>104</td>\n<td>Bruce</td>\n<td>Ernst</td>\n<td>bruce.ernst@sqltutorial.org</td>\n</tr>\n<tr>\n<td>105</td>\n<td>David</td>\n<td>Austin</td>\n<td>david.austin@sqltutorial.org</td>\n</tr>\n<tr>\n<td>106</td>\n<td>Valli</td>\n<td>Pataballa</td>\n<td>valli.pataballa@sqltutorial.org</td>\n</tr>\n<tr>\n<td>107</td>\n<td>Diana</td>\n<td>Lorentz</td>\n<td>diana.lorentz@sqltutorial.org</td>\n</tr>\n<tr>\n<td>108</td>\n<td>Nancy</td>\n<td>Greenberg</td>\n<td>nancy.greenberg@sqltutorial.org</td>\n</tr>\n<tr>\n<td>109</td>\n<td>Daniel</td>\n<td>Faviet</td>\n<td>daniel.faviet@sqltutorial.org</td>\n</tr>\n</table>",
            "text/plain": "+-------------+------------+-----------+----------------------------------+\n| employee_id | first_name | last_name | email                            |\n+-------------+------------+-----------+----------------------------------+\n| 100         | Steven     | King      | steven.king@sqltutorial.org      |\n+-------------+------------+-----------+----------------------------------+\n| 101         | Neena      | Kochhar   | neena.kochhar@sqltutorial.org    |\n+-------------+------------+-----------+----------------------------------+\n| 102         | Lex        | De Haan   | lex.de haan@sqltutorial.org      |\n+-------------+------------+-----------+----------------------------------+\n| 103         | Alexander  | Hunold    | alexander.hunold@sqltutorial.org |\n+-------------+------------+-----------+----------------------------------+\n| 104         | Bruce      | Ernst     | bruce.ernst@sqltutorial.org      |\n+-------------+------------+-----------+----------------------------------+\n| 105         | David      | Austin    | david.austin@sqltutorial.org     |\n+-------------+------------+-----------+----------------------------------+\n| 106         | Valli      | Pataballa | valli.pataballa@sqltutorial.org  |\n+-------------+------------+-----------+----------------------------------+\n| 107         | Diana      | Lorentz   | diana.lorentz@sqltutorial.org    |\n+-------------+------------+-----------+----------------------------------+\n| 108         | Nancy      | Greenberg | nancy.greenberg@sqltutorial.org  |\n+-------------+------------+-----------+----------------------------------+\n| 109         | Daniel     | Faviet    | daniel.faviet@sqltutorial.org    |\n+-------------+------------+-----------+----------------------------------+"
          },
          "metadata": {}
        }
      ],
      "execution_count": 75
    },
    {
      "cell_type": "code",
      "source": "SELECT employee_id, first_name, last_name, email, job_title, department_name FROM employees JOIN jobs ON employees.job_id=jobs.job_id JOIN departments ON employees.department_id = departments.department_id LIMIT 10;",
      "metadata": {
        "trusted": true
      },
      "outputs": [
        {
          "execution_count": 76,
          "output_type": "execute_result",
          "data": {
            "text/html": "<table>\n<tr>\n<th>employee_id</th>\n<th>first_name</th>\n<th>last_name</th>\n<th>email</th>\n<th>job_title</th>\n<th>department_name</th>\n</tr>\n<tr>\n<td>100</td>\n<td>Steven</td>\n<td>King</td>\n<td>steven.king@sqltutorial.org</td>\n<td>President</td>\n<td>Executive</td>\n</tr>\n<tr>\n<td>101</td>\n<td>Neena</td>\n<td>Kochhar</td>\n<td>neena.kochhar@sqltutorial.org</td>\n<td>Administration Vice President</td>\n<td>Executive</td>\n</tr>\n<tr>\n<td>102</td>\n<td>Lex</td>\n<td>De Haan</td>\n<td>lex.de haan@sqltutorial.org</td>\n<td>Administration Vice President</td>\n<td>Executive</td>\n</tr>\n<tr>\n<td>103</td>\n<td>Alexander</td>\n<td>Hunold</td>\n<td>alexander.hunold@sqltutorial.org</td>\n<td>Programmer</td>\n<td>IT</td>\n</tr>\n<tr>\n<td>104</td>\n<td>Bruce</td>\n<td>Ernst</td>\n<td>bruce.ernst@sqltutorial.org</td>\n<td>Programmer</td>\n<td>IT</td>\n</tr>\n<tr>\n<td>105</td>\n<td>David</td>\n<td>Austin</td>\n<td>david.austin@sqltutorial.org</td>\n<td>Programmer</td>\n<td>IT</td>\n</tr>\n<tr>\n<td>106</td>\n<td>Valli</td>\n<td>Pataballa</td>\n<td>valli.pataballa@sqltutorial.org</td>\n<td>Programmer</td>\n<td>IT</td>\n</tr>\n<tr>\n<td>107</td>\n<td>Diana</td>\n<td>Lorentz</td>\n<td>diana.lorentz@sqltutorial.org</td>\n<td>Programmer</td>\n<td>IT</td>\n</tr>\n<tr>\n<td>108</td>\n<td>Nancy</td>\n<td>Greenberg</td>\n<td>nancy.greenberg@sqltutorial.org</td>\n<td>Finance Manager</td>\n<td>Finance</td>\n</tr>\n<tr>\n<td>109</td>\n<td>Daniel</td>\n<td>Faviet</td>\n<td>daniel.faviet@sqltutorial.org</td>\n<td>Accountant</td>\n<td>Finance</td>\n</tr>\n</table>",
            "text/plain": "+-------------+------------+-----------+----------------------------------+-------------------------------+-----------------+\n| employee_id | first_name | last_name | email                            | job_title                     | department_name |\n+-------------+------------+-----------+----------------------------------+-------------------------------+-----------------+\n| 100         | Steven     | King      | steven.king@sqltutorial.org      | President                     | Executive       |\n+-------------+------------+-----------+----------------------------------+-------------------------------+-----------------+\n| 101         | Neena      | Kochhar   | neena.kochhar@sqltutorial.org    | Administration Vice President | Executive       |\n+-------------+------------+-----------+----------------------------------+-------------------------------+-----------------+\n| 102         | Lex        | De Haan   | lex.de haan@sqltutorial.org      | Administration Vice President | Executive       |\n+-------------+------------+-----------+----------------------------------+-------------------------------+-----------------+\n| 103         | Alexander  | Hunold    | alexander.hunold@sqltutorial.org | Programmer                    | IT              |\n+-------------+------------+-----------+----------------------------------+-------------------------------+-----------------+\n| 104         | Bruce      | Ernst     | bruce.ernst@sqltutorial.org      | Programmer                    | IT              |\n+-------------+------------+-----------+----------------------------------+-------------------------------+-----------------+\n| 105         | David      | Austin    | david.austin@sqltutorial.org     | Programmer                    | IT              |\n+-------------+------------+-----------+----------------------------------+-------------------------------+-----------------+\n| 106         | Valli      | Pataballa | valli.pataballa@sqltutorial.org  | Programmer                    | IT              |\n+-------------+------------+-----------+----------------------------------+-------------------------------+-----------------+\n| 107         | Diana      | Lorentz   | diana.lorentz@sqltutorial.org    | Programmer                    | IT              |\n+-------------+------------+-----------+----------------------------------+-------------------------------+-----------------+\n| 108         | Nancy      | Greenberg | nancy.greenberg@sqltutorial.org  | Finance Manager               | Finance         |\n+-------------+------------+-----------+----------------------------------+-------------------------------+-----------------+\n| 109         | Daniel     | Faviet    | daniel.faviet@sqltutorial.org    | Accountant                    | Finance         |\n+-------------+------------+-----------+----------------------------------+-------------------------------+-----------------+"
          },
          "metadata": {}
        }
      ],
      "execution_count": 76
    },
    {
      "cell_type": "code",
      "source": "SELECT employee_id, first_name, last_name, email, job_title, department_name FROM employees JOIN jobs ON employees.job_id=jobs.job_id JOIN departments ON employees.department_id = departments.department_id WHERE job_title=\"Sales Manager\";",
      "metadata": {
        "trusted": true
      },
      "outputs": [
        {
          "execution_count": 77,
          "output_type": "execute_result",
          "data": {
            "text/html": "<table>\n<tr>\n<th>employee_id</th>\n<th>first_name</th>\n<th>last_name</th>\n<th>email</th>\n<th>job_title</th>\n<th>department_name</th>\n</tr>\n<tr>\n<td>145</td>\n<td>John</td>\n<td>Russell</td>\n<td>john.russell@sqltutorial.org</td>\n<td>Sales Manager</td>\n<td>Sales</td>\n</tr>\n<tr>\n<td>146</td>\n<td>Karen</td>\n<td>Partners</td>\n<td>karen.partners@sqltutorial.org</td>\n<td>Sales Manager</td>\n<td>Sales</td>\n</tr>\n</table>",
            "text/plain": "+-------------+------------+-----------+--------------------------------+---------------+-----------------+\n| employee_id | first_name | last_name | email                          | job_title     | department_name |\n+-------------+------------+-----------+--------------------------------+---------------+-----------------+\n| 145         | John       | Russell   | john.russell@sqltutorial.org   | Sales Manager | Sales           |\n+-------------+------------+-----------+--------------------------------+---------------+-----------------+\n| 146         | Karen      | Partners  | karen.partners@sqltutorial.org | Sales Manager | Sales           |\n+-------------+------------+-----------+--------------------------------+---------------+-----------------+"
          },
          "metadata": {}
        }
      ],
      "execution_count": 77
    }
  ]
}