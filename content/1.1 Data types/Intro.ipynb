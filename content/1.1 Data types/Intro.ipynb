{
 "cells": [
  {
   "cell_type": "markdown",
   "metadata": {},
   "source": [
    "# 1.1 Data types\n",
    "\n",
    "## What is data?\n"
   ]
  },
  {
   "cell_type": "code",
   "execution_count": 1,
   "metadata": {},
   "outputs": [
    {
     "ename": "ModuleNotFoundError",
     "evalue": "No module named 'js'",
     "output_type": "error",
     "traceback": [
      "\u001b[0;31m---------------------------------------------------------------------------\u001b[0m",
      "\u001b[0;31mModuleNotFoundError\u001b[0m                       Traceback (most recent call last)",
      "Cell \u001b[0;32mIn[1], line 4\u001b[0m\n\u001b[1;32m      2\u001b[0m \u001b[38;5;28;01mimport\u001b[39;00m \u001b[38;5;21;01mjson\u001b[39;00m\n\u001b[1;32m      3\u001b[0m \u001b[38;5;28;01mimport\u001b[39;00m \u001b[38;5;21;01mpandas\u001b[39;00m \u001b[38;5;28;01mas\u001b[39;00m \u001b[38;5;21;01mpd\u001b[39;00m\n\u001b[0;32m----> 4\u001b[0m \u001b[38;5;28;01mfrom\u001b[39;00m \u001b[38;5;21;01mjs\u001b[39;00m \u001b[38;5;28;01mimport\u001b[39;00m fetch\n\u001b[1;32m      6\u001b[0m ANSWERURL \u001b[38;5;241m=\u001b[39m \u001b[38;5;124m\"\u001b[39m\u001b[38;5;124mhttps://utc-olp-api-proxy.glitch.me/lessonsurvey/answer\u001b[39m\u001b[38;5;124m\"\u001b[39m\n\u001b[1;32m      7\u001b[0m STUDENT \u001b[38;5;241m=\u001b[39m \u001b[38;5;124m\"\u001b[39m\u001b[38;5;124mChange Me\u001b[39m\u001b[38;5;124m\"\u001b[39m\n",
      "\u001b[0;31mModuleNotFoundError\u001b[0m: No module named 'js'"
     ]
    }
   ],
   "source": [
    "from urllib.parse import urlencode\n",
    "import json\n",
    "import pandas as pd\n",
    "from js import fetch\n",
    "\n",
    "ANSWERURL = \"https://utc-olp-api-proxy.glitch.me/lessonsurvey/answer\"\n",
    "STUDENT = \"Change Me\"\n",
    "\n",
    "async def send_answer(q=\"Change Me\", a=\"Change Me\"):\n",
    "    URL2 = ANSWERURL + \"?\"+urlencode({\"question\":q,\"answer\":a, \"student\":STUDENT})\n",
    "    res = await fetch(URL2)\n",
    "    #res = await fetch(URL  + \"?\" + urlencode({\"q\":1, \"answer\":ans}))\n",
    "    text = await res.text()\n",
    "    return text"
   ]
  },
  {
   "cell_type": "code",
   "execution_count": 2,
   "metadata": {},
   "outputs": [
    {
     "ename": "NameError",
     "evalue": "name 'send_answer' is not defined",
     "output_type": "error",
     "traceback": [
      "\u001b[0;31m---------------------------------------------------------------------------\u001b[0m",
      "\u001b[0;31mNameError\u001b[0m                                 Traceback (most recent call last)",
      "Cell \u001b[0;32mIn[2], line 2\u001b[0m\n\u001b[1;32m      1\u001b[0m STUDENT \u001b[38;5;241m=\u001b[39m \u001b[38;5;124m\"\u001b[39m\u001b[38;5;124mDave\u001b[39m\u001b[38;5;124m\"\u001b[39m\n\u001b[0;32m----> 2\u001b[0m \u001b[38;5;28;01mawait\u001b[39;00m send_answer(\u001b[38;5;124m\"\u001b[39m\u001b[38;5;124mJob 2\u001b[39m\u001b[38;5;124m\"\u001b[39m, \u001b[38;5;124m\"\u001b[39m\u001b[38;5;124mTest Dave\u001b[39m\u001b[38;5;124m\"\u001b[39m)\n",
      "\u001b[0;31mNameError\u001b[0m: name 'send_answer' is not defined"
     ]
    }
   ],
   "source": [
    "STUDENT = \"Dave\"\n",
    "await send_answer(\"Job 2\", \"Test Dave\")"
   ]
  },
  {
   "cell_type": "code",
   "execution_count": 3,
   "metadata": {},
   "outputs": [],
   "source": [
    "async def ShowAnswers():\n",
    "    res = await fetch(\"https://utc-olp-api-proxy.glitch.me/lessonsurvey/answers\")\n",
    "    text = await res.text()\n",
    "    data = pd.read_json(text)\n",
    "    return data"
   ]
  },
  {
   "cell_type": "code",
   "execution_count": 4,
   "metadata": {},
   "outputs": [
    {
     "ename": "NameError",
     "evalue": "name 'fetch' is not defined",
     "output_type": "error",
     "traceback": [
      "\u001b[0;31m---------------------------------------------------------------------------\u001b[0m",
      "\u001b[0;31mNameError\u001b[0m                                 Traceback (most recent call last)",
      "Cell \u001b[0;32mIn[4], line 1\u001b[0m\n\u001b[0;32m----> 1\u001b[0m \u001b[38;5;28;01mawait\u001b[39;00m ShowAnswers()\n",
      "Cell \u001b[0;32mIn[3], line 2\u001b[0m, in \u001b[0;36mShowAnswers\u001b[0;34m()\u001b[0m\n\u001b[1;32m      1\u001b[0m \u001b[38;5;28;01masync\u001b[39;00m \u001b[38;5;28;01mdef\u001b[39;00m \u001b[38;5;21mShowAnswers\u001b[39m():\n\u001b[0;32m----> 2\u001b[0m     res \u001b[38;5;241m=\u001b[39m \u001b[38;5;28;01mawait\u001b[39;00m \u001b[43mfetch\u001b[49m(\u001b[38;5;124m\"\u001b[39m\u001b[38;5;124mhttps://utc-olp-api-proxy.glitch.me/lessonsurvey/answers\u001b[39m\u001b[38;5;124m\"\u001b[39m)\n\u001b[1;32m      3\u001b[0m     text \u001b[38;5;241m=\u001b[39m \u001b[38;5;28;01mawait\u001b[39;00m res\u001b[38;5;241m.\u001b[39mtext()\n\u001b[1;32m      4\u001b[0m     data \u001b[38;5;241m=\u001b[39m pd\u001b[38;5;241m.\u001b[39mread_json(text)\n",
      "\u001b[0;31mNameError\u001b[0m: name 'fetch' is not defined"
     ]
    }
   ],
   "source": [
    "await ShowAnswers()"
   ]
  },
  {
   "cell_type": "markdown",
   "metadata": {},
   "source": [
    "\n",
    "<https://www.cipher-sys.com/blog/data-vs-information-vs-knowledge-vs-wisdom>\n",
    "\n",
    "We need to gather Data properly so we can give it context and analysis so it becomes actionable knowledge and help us make wise decisions.\n",
    "\n",
    "\n"
   ]
  },
  {
   "cell_type": "markdown",
   "metadata": {},
   "source": [
    "\n",
    "## Data to Wisdom\n",
    "\n",
    "Knowledge is knowing that a Tomato is a fruit\n",
    "\n",
    "Wisdom is not putting it in a fruit salad \n",
    "\n",
    "Coventry?\n",
    "\n"
   ]
  },
  {
   "cell_type": "markdown",
   "metadata": {},
   "source": [
    "\n",
    "\n",
    "## Qualitative & Quantitative\n",
    "\n",
    "Covered already\n",
    "<!--\n",
    "\n",
    " (e.g. the colour of products, the\n",
    "names of employee\n"
   ]
  },
  {
   "cell_type": "markdown",
   "metadata": {},
   "source": [
    "\n",
    "\n",
    "## Quantitative\n",
    "\n",
    "Measurements \n",
    "e.g. expiry date of medicines, the number of staff working in an organisation)\n",
    "\n",
    "-->\n",
    "\n",
    "\n"
   ]
  },
  {
   "cell_type": "markdown",
   "metadata": {},
   "source": [
    "\n",
    "## Structured\n",
    "\n",
    "<https://aws.amazon.com/what-is/structured-data/>\n",
    "\n",
    "This data is organised in a predefined way with a structure declaring what each piece of data should contain and what format it is in. This gives it context and means it is information.\n",
    "\n"
   ]
  },
  {
   "cell_type": "markdown",
   "metadata": {},
   "source": [
    "\n",
    "\n",
    "## Unstructured\n",
    "\n",
    "Unstructured data is information with no set data definition,schema or model, or data that has not yet been processed into structured data. \n",
    "\n",
    "Unstructured data includes:\n",
    "\n",
    "* Text files\n",
    "* Video files\n",
    "* Reports\n",
    "* Email\n",
    "* Images\n",
    "\n",
    "Businesses create huge amounts of data all the time. The less than 20% of that new data is Structured. \n",
    "\n",
    "Almost all unstructured data is qualitative but there are some numbers (quanititive data) buried in there.\n",
    "\n",
    "You need to put lots of effort into getting information out of Unstructured data, because  you need to find the parts that fit a particular context. Searching all your emails for a phone number you could have put in your phone contacts takes ages.\n",
    "\n",
    "\n"
   ]
  },
  {
   "cell_type": "markdown",
   "metadata": {},
   "source": [
    "\n",
    "## Examples of extracting information from different types of data\n",
    "\n",
    "|.           | Qualitative| Quantitative|\n",
    "|------------|------------|-------------|\n",
    "|Structured | [What is John's Address in our Personnel Records](Personnel%20Records.ipynb) | [How many blue cars did we sell? Sales figures](Sales%20Figures.ipynb) |\n",
    "|Unstructured| [What people are tweeting about ChatGPT?](ChatGPT%20Tweets.ipynb) | [How many successful passes in a broadcast Football match?](Football%20Data.ipynb) |\n",
    "\n",
    "\n",
    "### Personnel Records,\n",
    " Names and address etc.\n",
    "\n",
    "some SQL data\n",
    "\n",
    "### Sales figures\n",
    "\n",
    "csv and extract data\n",
    "\n",
    "### What people are tweeting about ChatGPT? \n",
    "\n",
    "are people positive about ChatGPT?\n",
    "\n",
    "data set and simple analysis \n",
    "\n",
    "\n",
    "### How many successful passes in a broadcast Football match?\n",
    "\n",
    "link to YouTube of a Women's Euros game\n",
    "\n",
    "how many successful passes in first minute of game?\n",
    "\n",
    "dataset , money Vs time\n",
    "\n"
   ]
  },
  {
   "cell_type": "markdown",
   "metadata": {},
   "source": [
    "\n",
    "\n",
    "## Quiz "
   ]
  }
 ],
 "metadata": {
  "kernelspec": {
   "display_name": "Python 3",
   "language": "python",
   "name": "python3"
  },
  "language_info": {
   "codemirror_mode": {
    "name": "ipython",
    "version": 3
   },
   "file_extension": ".py",
   "mimetype": "text/x-python",
   "name": "python",
   "nbconvert_exporter": "python",
   "pygments_lexer": "ipython3",
   "version": "3.10.13"
  }
 },
 "nbformat": 4,
 "nbformat_minor": 2
}
