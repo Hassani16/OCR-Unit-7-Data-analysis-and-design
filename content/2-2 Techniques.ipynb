{
  "cells": [
    {
      "cell_type": "markdown",
      "metadata": {},
      "source": [
        "# Be able to investigate client requirements for data analysis\n",
        "# 2.2 Techniques\n",
        " \n",
        "\n",
        "## How do we work out what data we need to collect to get the knowledge we need?\n",
        "\n",
        "https://www.linkedin.com/pulse/elicitation-techniques-requirement-gathering-oluwatosin-ogunkoya-qbpff/\n",
        "\n",
        "### Holding focus groups\n",
        "\n",
        "https://www.eiu.edu/ihec/Krueger-FocusGroupInterviews.pdf\n",
        "https://blog.hubspot.com/marketing/how-to-run-a-focus-group\n",
        "https://www.citizensadvice.org.uk/Global/CitizensAdvice/Equalities/How%20to%20run%20focus%20groups%20guide.pdf\n",
        "\n",
        "### Preparing and distributing questionnaires and surveys to stakeholders\n",
        "\n",
        "https://thefunctionalba.com/2020/01/survey-and-questionnaires-in-business-analysis/\n",
        "https://medium.com/analysts-corner/surveys-and-questionnaires-for-strategic-decision-making-1226fe40b52b\n",
        "\n",
        "### Analysing current documents\n",
        "\n",
        "What data do we already have?\n",
        "\n"
      ]
    }
  ],
  "metadata": {
    "kernelspec": {
      "display_name": "Python 3",
      "language": "python",
      "name": "python3"
    },
    "language_info": {
      "codemirror_mode": {
        "name": "ipython",
        "version": 3
      },
      "file_extension": ".py",
      "mimetype": "text/x-python",
      "name": "python",
      "nbconvert_exporter": "python",
      "pygments_lexer": "ipython3",
      "version": "3.7.8"
    }
  },
  "nbformat": 4,
  "nbformat_minor": 4
}