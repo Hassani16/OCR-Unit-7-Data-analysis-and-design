{
  "metadata": {
    "kernelspec": {
      "name": "python",
      "display_name": "Python (Pyodide)",
      "language": "python"
    },
    "language_info": {
      "codemirror_mode": {
        "name": "python",
        "version": 3
      },
      "file_extension": ".py",
      "mimetype": "text/x-python",
      "name": "python",
      "nbconvert_exporter": "python",
      "pygments_lexer": "ipython3",
      "version": "3.8"
    }
  },
  "nbformat_minor": 4,
  "nbformat": 4,
  "cells": [
    {
      "cell_type": "markdown",
      "source": "# Setup\n\nPress \"Shift + Enter\" to step trhrought the code / slides.",
      "metadata": {
        "tags": [],
        "editable": false,
        "slideshow": {
          "slide_type": "slide"
        }
      }
    },
    {
      "cell_type": "code",
      "source": "import micropip\nawait micropip.install([\"pyoliteutils\"])",
      "metadata": {
        "trusted": true,
        "tags": [],
        "editable": false,
        "slideshow": {
          "slide_type": ""
        }
      },
      "outputs": [],
      "execution_count": null
    },
    {
      "cell_type": "code",
      "source": "from pyoliteutils import *",
      "metadata": {
        "trusted": true,
        "tags": [],
        "editable": false,
        "slideshow": {
          "slide_type": ""
        }
      },
      "outputs": [],
      "execution_count": null
    },
    {
      "cell_type": "markdown",
      "source": "# Be able to investigate client requirements for data analysis\n# 2.2 Techniques\n \n",
      "metadata": {
        "tags": [],
        "editable": false,
        "slideshow": {
          "slide_type": "slide"
        }
      }
    },
    {
      "cell_type": "markdown",
      "source": "## How do we work out what data we need to collect to get the knowledge we need?\n\nhttps://www.linkedin.com/pulse/elicitation-techniques-requirement-gathering-oluwatosin-ogunkoya-qbpff/\n\n",
      "metadata": {
        "tags": [],
        "editable": false,
        "slideshow": {
          "slide_type": "slide"
        }
      }
    },
    {
      "cell_type": "markdown",
      "source": "Your Notes",
      "metadata": {
        "tags": [],
        "editable": true,
        "slideshow": {
          "slide_type": ""
        }
      }
    },
    {
      "cell_type": "code",
      "source": "mm(\"\"\"\nmindmap\n  )Your Notes(\n    \n\"\"\")",
      "metadata": {
        "trusted": true,
        "tags": [],
        "editable": true,
        "slideshow": {
          "slide_type": ""
        }
      },
      "outputs": [],
      "execution_count": null
    },
    {
      "cell_type": "markdown",
      "source": "### Holding focus groups\n\nhttps://www.eiu.edu/ihec/Krueger-FocusGroupInterviews.pdf\nhttps://blog.hubspot.com/marketing/how-to-run-a-focus-group\nhttps://www.citizensadvice.org.uk/Global/CitizensAdvice/Equalities/How%20to%20run%20focus%20groups%20guide.pdf\n\n",
      "metadata": {
        "tags": [],
        "editable": false,
        "slideshow": {
          "slide_type": "slide"
        }
      }
    },
    {
      "cell_type": "markdown",
      "source": "Your Notes",
      "metadata": {
        "tags": [],
        "editable": true,
        "slideshow": {
          "slide_type": ""
        }
      }
    },
    {
      "cell_type": "code",
      "source": "mm(\"\"\"\nmindmap\n  )Your Notes(\n    \n\"\"\")",
      "metadata": {
        "trusted": true,
        "tags": [],
        "editable": true,
        "slideshow": {
          "slide_type": ""
        }
      },
      "outputs": [],
      "execution_count": null
    },
    {
      "cell_type": "markdown",
      "source": "### Preparing and distributing questionnaires and surveys to stakeholders\n\nhttps://thefunctionalba.com/2020/01/survey-and-questionnaires-in-business-analysis/\nhttps://medium.com/analysts-corner/surveys-and-questionnaires-for-strategic-decision-making-1226fe40b52b\n\n",
      "metadata": {
        "tags": [],
        "editable": false,
        "slideshow": {
          "slide_type": "slide"
        }
      }
    },
    {
      "cell_type": "markdown",
      "source": "Your Notes",
      "metadata": {
        "tags": [],
        "editable": true,
        "slideshow": {
          "slide_type": ""
        }
      }
    },
    {
      "cell_type": "code",
      "source": "mm(\"\"\"\nmindmap\n  )Your Notes(\n    \n\"\"\")",
      "metadata": {
        "trusted": true,
        "tags": [],
        "editable": true,
        "slideshow": {
          "slide_type": ""
        }
      },
      "outputs": [],
      "execution_count": null
    },
    {
      "cell_type": "markdown",
      "source": "### Analysing current documents\n\nWhat data do we already have?\n\n",
      "metadata": {
        "tags": [],
        "editable": false,
        "slideshow": {
          "slide_type": "slide"
        }
      }
    },
    {
      "cell_type": "markdown",
      "source": "Your Notes",
      "metadata": {
        "tags": [],
        "editable": true,
        "slideshow": {
          "slide_type": ""
        }
      }
    },
    {
      "cell_type": "code",
      "source": "mm(\"\"\"\nmindmap\n  )Your Notes(\n    \n\"\"\")",
      "metadata": {
        "trusted": true,
        "tags": [],
        "editable": true,
        "slideshow": {
          "slide_type": ""
        }
      },
      "outputs": [],
      "execution_count": null
    }
  ]
}