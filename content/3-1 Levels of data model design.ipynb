{
  "cells": [
    {
      "cell_type": "markdown",
      "metadata": {},
      "source": [
        "# Be able to develop data design solutions to meet business requirements\n",
        "# 3.1 Levels of data model design\n",
        "\n",
        "* conceptual: relationship between entities\n",
        "* enterprise: unique business requirements\n",
        "* logical: specific entities, attributes and relationship in a business\n",
        "function\n",
        "* physical: application and database specific implementation of\n",
        "the logical data model"
      ]
    }
  ],
  "metadata": {
    "kernelspec": {
      "display_name": "Python 3",
      "language": "python",
      "name": "python3"
    },
    "language_info": {
      "codemirror_mode": {
        "name": "ipython",
        "version": 3
      },
      "file_extension": ".py",
      "mimetype": "text/x-python",
      "name": "python",
      "nbconvert_exporter": "python",
      "pygments_lexer": "ipython3",
      "version": "3.7.8"
    }
  },
  "nbformat": 4,
  "nbformat_minor": 4
}