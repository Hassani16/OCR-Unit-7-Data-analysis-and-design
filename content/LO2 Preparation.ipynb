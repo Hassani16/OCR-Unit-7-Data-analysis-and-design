{
  "cells": [
    {
      "cell_type": "markdown",
      "source": [
        "# LO2. Be able to investigate client requirements for data analysis\n",
        "\n",
        "## Scenarios : Sheffield Eagles\n"
      ],
      "metadata": {
        "tags": [],
        "editable": true,
        "slideshow": {
          "slide_type": ""
        }
      }
    },
    {
      "cell_type": "markdown",
      "source": [
        "### A : IMG Gradings\n",
        "### How can Sheffield Eagles best improve their IMG Gradings and get back to Super League?\n",
        "\n",
        "- From 2025 Super League is changing. \n",
        "    - No automatic promotion/relegation with the Rugby Championship. \n",
        "- Grading system introduced\n",
        "    - Crieteria include Fandom, Performance, Finances, Stadium, Community\n",
        "    - Top 12 teams (in all leagues) will form next Super League.\n",
        "\n",
        "[Details](https://www.rugby-league.com/uploads/docs/IMG%20&%20Rugby%20League%20Grading%20Criteria%202023.pdf) \n",
        "\n",
        "The Eagles are graded at 8.36 - B - And were ranked 22nd out of all Clubs for the 2023 season. \n"
      ],
      "metadata": {
        "tags": [],
        "editable": false,
        "slideshow": {
          "slide_type": "slide"
        }
      }
    },
    {
      "cell_type": "markdown",
      "source": [
        "### B : Attendance\n",
        "### What factors have affected Sheffield Eagles Attendances over time? What should efforts to improve Attedance conetrate on?\n",
        "\n",
        "Analysis of past attendances, forecasting and assessing impacts of marketing / promotion / other factors could be really helpful. The development of a model to continue to record future data will ensure it's captured and used constructively, rather than assumptions being made. \n"
      ],
      "metadata": {
        "tags": [],
        "editable": false,
        "slideshow": {
          "slide_type": "slide"
        }
      }
    },
    {
      "cell_type": "markdown",
      "source": [
        "### C : Women's Team Game Stats\n",
        "### What areas for improvement are there in the Eagles Women's Team on Field Performance?\n",
        "\n",
        "There is a basic spreadsheet to date recording players, scores and results. There is the potential to look at how further levels of data could be collected and recorded. This data could then feed into the coaching to analyse and review performance.\n",
        "\n",
        "This approach could also be applied to wheelchair team in a similar way. "
      ],
      "metadata": {
        "tags": [],
        "editable": false,
        "slideshow": {
          "slide_type": "slide"
        }
      }
    },
    {
      "cell_type": "markdown",
      "source": [
        "## Preparation Task\n"
      ],
      "metadata": {
        "tags": [],
        "editable": true,
        "slideshow": {
          "slide_type": ""
        }
      }
    },
    {
      "cell_type": "markdown",
      "source": [
        "## Which Scenario do you fancy looking at? "
      ],
      "metadata": {
        "nteract": {
          "transient": {
            "deleting": false
          }
        }
      }
    },
    {
      "cell_type": "code",
      "source": [
        "A / B / C"
      ],
      "outputs": [],
      "execution_count": null,
      "metadata": {
        "jupyter": {
          "source_hidden": false,
          "outputs_hidden": false
        },
        "nteract": {
          "transient": {
            "deleting": false
          }
        }
      }
    },
    {
      "cell_type": "markdown",
      "source": [
        "## What data would you like Eagles to bring next week?\n"
      ],
      "metadata": {
        "nteract": {
          "transient": {
            "deleting": false
          }
        }
      }
    },
    {
      "cell_type": "markdown",
      "source": [
        "Data?"
      ],
      "metadata": {
        "nteract": {
          "transient": {
            "deleting": false
          }
        }
      }
    },
    {
      "cell_type": "markdown",
      "source": [
        "## What questions would you like to ask?"
      ],
      "metadata": {
        "nteract": {
          "transient": {
            "deleting": false
          }
        }
      }
    },
    {
      "cell_type": "markdown",
      "source": [
        "Questions?"
      ],
      "metadata": {
        "nteract": {
          "transient": {
            "deleting": false
          }
        }
      }
    },
    {
      "cell_type": "code",
      "source": [],
      "outputs": [],
      "execution_count": null,
      "metadata": {
        "jupyter": {
          "source_hidden": false,
          "outputs_hidden": false
        },
        "nteract": {
          "transient": {
            "deleting": false
          }
        }
      }
    }
  ],
  "metadata": {
    "kernelspec": {
      "name": "python",
      "language": "python",
      "display_name": "Pyolite (preview)"
    },
    "language_info": {
      "codemirror_mode": {
        "name": "python",
        "version": 3
      },
      "file_extension": ".py",
      "mimetype": "text/x-python",
      "name": "python",
      "nbconvert_exporter": "python",
      "pygments_lexer": "ipython3",
      "version": "3.8"
    },
    "kernel_info": {
      "name": "python"
    },
    "nteract": {
      "version": "nteract-front-end@1.0.0"
    }
  },
  "nbformat": 4,
  "nbformat_minor": 4
}