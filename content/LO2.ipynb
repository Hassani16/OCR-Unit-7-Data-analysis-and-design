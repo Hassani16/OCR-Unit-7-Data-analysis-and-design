{
  "cells": [
    {
      "cell_type": "markdown",
      "metadata": {},
      "source": [
        "# LO2. Be able to investigate client requirements for data analysis\n",
        "\n",
        "## Scenarios : Sheffield Eagles\n"
      ]
    },
    {
      "cell_type": "markdown",
      "metadata": {},
      "source": [
        "\n",
        "### A : IMG Gradings\n",
        "\n",
        "How can Sheffield Eagles best improve their IMG Gradings and get back to Super League?\n",
        "\n",
        "- From 2025 Super League is changing. \n",
        "    - No automatic promotion/relegation with the Rugby Championship. \n",
        "- Grading system introduced\n",
        "    - Fandom, Performance, Finances, Stadium, Community\n",
        "    - Top 12 teams (in all leagues) will form next Super League.\n",
        "\n",
        "[Details](https://www.rugby-league.com/uploads/docs/IMG%20&%20Rugby%20League%20Grading%20Criteria%202023.pdf) \n",
        "\n",
        "The Eagles are graded at 8.36 - B - And were ranked 22nd out of all Clubs for the 2023 season. \n"
      ]
    },
    {
      "cell_type": "markdown",
      "metadata": {},
      "source": [
        "### B : Attendance\n",
        "\n",
        "What factors have affected Sheffield Eagles Attendances over time? What areas of improvement could have the most effect?\n",
        "\n",
        "Analysis of past attendances, forecasting and assessing impacts of marketing / promotion / other factors could be really helpful.\n"
      ]
    },
    {
      "cell_type": "markdown",
      "metadata": {},
      "source": [
        "### C : Women's Team Game Stats\n",
        "\n",
        "What skills / areas of the game should be focussed on in training to improve Women's Team on Field Performance?\n",
        "\n",
        "What can be gleaned from match stats we have? And how to record them, what's most useful for coaching in the future.\n",
        "\n"
      ]
    },
    {
      "cell_type": "markdown",
      "metadata": {},
      "source": [
        "## Tasks\n"
      ]
    },
    {
      "cell_type": "markdown",
      "metadata": {},
      "source": [
        "### P3 \n",
        "\n",
        "Establish the data analysis and design requirements for the specified business requirement (A/B/C)\n",
        "\n",
        "The evidence should include the business need, the qualitative and quantitative data to be gathered and\n",
        "their potential sources. \n",
        "\n",
        "The evidence could be presented in the form of \n",
        "- a report, a set of recording documentation and summary \n",
        "- or an oral presentation (videoed & quite long).\n",
        "\n"
      ]
    },
    {
      "cell_type": "markdown",
      "metadata": {},
      "source": [
        "\n",
        "### P4\n",
        "\n",
        "Gather data for the specified business requirement using quantitative and qualitative techniques\n",
        "\n",
        "Learners should select different qualitative and quantitative techniques that could be used to obtain the necessary data requirements for a specified\n",
        "business need. They could produce a brief report or presentation confirming selection with a brief rationale.\n"
      ]
    },
    {
      "cell_type": "markdown",
      "metadata": {},
      "source": [
        "### M2\n",
        "Develop the data requirements for the specified business requirement using different qualitative and quantitative data analysis methods\n",
        "\n",
        "Learners should use the quantitative and qualitative techniques selected in P4 to develop the data requirements for the specified business need. The\n",
        "outcomes may be presented as annotated diagrams, a report, or a set of completed analysis forms."
      ]
    },
    {
      "cell_type": "markdown",
      "metadata": {},
      "source": [
        "## Original text \n",
        "### A : IMG Gradings\n",
        "\n",
        "IMG a sports management agency are now heavily involved in rugby league and one of the things they are looking at are gradings based on a number of criteria. You can read more here: https://www.rugby-league.com/uploads/docs/IMG%20&%20Rugby%20League%20Grading%20Criteria%202023.pdf The Eagles are graded at 8.36 - B - and were ranked 22nd out of all Clubs. David the trustee / director has taken a lead in looking at gradings, producing a spreadsheet to show where the current scores are, where more points could be gained, the potential to increase the score and looking at how to achieve higher scores. This could be an interesting data driven exercise. \n",
        "\n",
        "### B : Attendances\n",
        "\n",
        "Becky who is responsible for sales and retail thought analysis of past attendances, forecasting and assessing impacts of marketing / promotion / other factors could be really helpful for her work\n",
        "\n",
        "### C : Women's Team Statistics\n",
        "\n",
        "I spoke to Andrea who coordinates the team yesterday evening. I've found out that they aren't able to afford the camera system that automatically collects match data so there isn't huge amounts of data collected. There does still remain an option in terms of match stats, how to record them, what's most useful, etc and how this can feed into coaching.\n"
      ]
    },
    {
      "cell_type": "markdown",
      "metadata": {},
      "source": [
        "\n",
        "\n",
        "\n",
        "# Spec / Markscheme\n",
        "The exact wording from the Spec / Markscheme is included below so you can see it but the instructions above should be what you do.\n",
        "\n",
        "\n",
        "## P3\n",
        "Establish the data analysis and design\n",
        "requirements for a specified business\n",
        "requirement\n",
        "\n",
        "Learners should be given a scenario that will enable them to investigate the data requirements for a specified business need. If available, learners\n",
        "could provide evidence from a real current project. The evidence should include the business need, the qualitative and quantitative data to be gathered and\n",
        "their potential sources. The evidence could be presented in the form of a report, a set of recording documentation and summary or an oral presentation.\n",
        "\n",
        "\n",
        "## P4\n",
        "Gather data for the specified business\n",
        "requirement using quantitative and\n",
        "qualitative techniques\n",
        "\n",
        "Learners should select different qualitative and quantitative techniques that could be used to obtain the necessary data requirements for a specified\n",
        "business need. They could produce a brief report or presentation confirming selection with a brief rationale.\n",
        "\n",
        "\n",
        "## M2\n",
        "Develop the data requirements for the\n",
        "specified business requirement using\n",
        "different qualitative and quantitative\n",
        "data analysis methods\n",
        "\n",
        "Learners should use the quantitative and qualitative techniques selected in P4 to develop the data requirements for the specified business need. The\n",
        "outcomes may be presented as annotated diagrams, a report, or a set of completed analysis forms.\n"
      ]
    }
  ],
  "metadata": {
    "kernelspec": {
      "display_name": "Python 3",
      "language": "python",
      "name": "python3"
    },
    "language_info": {
      "codemirror_mode": {
        "name": "ipython",
        "version": 3
      },
      "file_extension": ".py",
      "mimetype": "text/x-python",
      "name": "python",
      "nbconvert_exporter": "python",
      "pygments_lexer": "ipython3",
      "version": "3.7.8"
    }
  },
  "nbformat": 4,
  "nbformat_minor": 4
}
