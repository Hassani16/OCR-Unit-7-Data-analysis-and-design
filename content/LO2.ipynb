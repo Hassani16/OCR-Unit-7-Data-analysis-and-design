{
  "cells": [
    {
      "cell_type": "markdown",
      "metadata": {},
      "source": [
        "# LO2. Be able to investigate client requirements for data analysis\n",
        "\n",
        "## P3\n",
        "Establish the data analysis and design\n",
        "requirements for a specified business\n",
        "requirement\n",
        "\n",
        "Learners should be given a scenario that will enable them to investigate the data requirements for a specified business need. If available, learners\n",
        "could provide evidence from a real current project. The evidence should include the business need, the qualitative and quantitative data to be gathered and\n",
        "their potential sources. The evidence could be presented in the form of a report, a set of recording documentation and summary or an oral presentation.\n",
        "\n",
        "\n",
        "## P4\n",
        "Gather data for the specified business\n",
        "requirement using quantitative and\n",
        "qualitative techniques\n",
        "\n",
        "Learners should select different qualitative and quantitative techniques that could be used to obtain the necessary data requirements for a specified\n",
        "business need. They could produce a brief report or presentation confirming selection with a brief rationale.\n",
        "\n",
        "\n",
        "## M2\n",
        "Develop the data requirements for the\n",
        "specified business requirement using\n",
        "different qualitative and quantitative\n",
        "data analysis methods\n",
        "\n",
        "Learners should use the quantitative and qualitative techniques selected in P4 to develop the data requirements for the specified business need. The\n",
        "outcomes may be presented as annotated diagrams, a report, or a set of completed analysis forms.\n"
      ]
    }
  ],
  "metadata": {
    "kernelspec": {
      "display_name": "Python 3",
      "language": "python",
      "name": "python3"
    },
    "language_info": {
      "codemirror_mode": {
        "name": "ipython",
        "version": 3
      },
      "file_extension": ".py",
      "mimetype": "text/x-python",
      "name": "python",
      "nbconvert_exporter": "python",
      "pygments_lexer": "ipython3",
      "version": "3.7.8"
    }
  },
  "nbformat": 4,
  "nbformat_minor": 4
}