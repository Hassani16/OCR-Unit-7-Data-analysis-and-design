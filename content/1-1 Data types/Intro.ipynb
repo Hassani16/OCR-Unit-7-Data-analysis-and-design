{
  "cells": [
    {
      "cell_type": "markdown",
      "metadata": {
        "editable": true,
        "slideshow": {
          "slide_type": ""
        },
        "tags": []
      },
      "source": [
        "# Jupyter Notebooks\n",
        "\n",
        "Some sessions will be delivered using these notebooks within Teams assignments.\n",
        "\n",
        "This is an experiment but it should mean we explore can explore data and code whilst taking notes and storing your work.\n",
        "\n",
        "Press \"Shift + Enter\" to run code & step through the text"
      ]
    },
    {
      "cell_type": "markdown",
      "metadata": {
        "editable": true,
        "slideshow": {
          "slide_type": "fragment"
        },
        "tags": []
      },
      "source": [
        "## Jupyter can run Python code"
      ]
    },
    {
      "cell_type": "code",
      "execution_count": 2,
      "metadata": {
        "editable": true,
        "slideshow": {
          "slide_type": ""
        },
        "tags": [],
        "trusted": true
      },
      "outputs": [
        {
          "name": "stdout",
          "output_type": "stream",
          "text": [
            "Hi Change Me, welcome to Unit 7\n"
          ]
        }
      ],
      "source": [
        "STUDENT = \"Change Me\"\n",
        "\n",
        "print(\"Hi \"+ STUDENT+ \", welcome to Unit 7\")"
      ]
    },
    {
      "cell_type": "code",
      "execution_count": null,
      "metadata": {
        "trusted": true
      },
      "outputs": [],
      "source": []
    },
    {
      "cell_type": "markdown",
      "metadata": {
        "editable": true,
        "slideshow": {
          "slide_type": "slide"
        },
        "tags": []
      },
      "source": [
        "### Run the Python code below to set some stuff up for later "
      ]
    },
    {
      "cell_type": "code",
      "execution_count": 3,
      "metadata": {
        "editable": true,
        "slideshow": {
          "slide_type": ""
        },
        "tags": [],
        "trusted": true
      },
      "outputs": [],
      "source": [
        "from urllib.parse import urlencode\n",
        "import json\n",
        "import pandas as pd\n",
        "from js import fetch\n",
        "\n",
        "ANSWERURL = \"https://utc-olp-api-proxy.glitch.me/lessonsurvey/answer\"\n",
        "STUDENT = \"Change Me\"\n",
        "\n",
        "async def send_answer(q=\"Change Me\", a=\"Change Me\"):\n",
        "    URL2 = ANSWERURL + \"?\"+urlencode({\"question\":q,\"answer\":a, \"student\":STUDENT})\n",
        "    res = await fetch(URL2)\n",
        "    #res = await fetch(URL  + \"?\" + urlencode({\"q\":1, \"answer\":ans}))\n",
        "    text = await res.text()\n",
        "    return text\n",
        "\n",
        "async def ShowAnswers(question=None):\n",
        "    res = await fetch(\"https://utc-olp-api-proxy.glitch.me/lessonsurvey/answers\")\n",
        "    text = await res.text()\n",
        "    data = pd.read_json(text)\n",
        "    return data"
      ]
    },
    {
      "cell_type": "markdown",
      "metadata": {
        "editable": true,
        "slideshow": {
          "slide_type": "slide"
        },
        "tags": []
      },
      "source": [
        "# 1.1 Data types\n",
        "\n",
        "## What is data?\n"
      ]
    },
    {
      "cell_type": "markdown",
      "metadata": {
        "editable": true,
        "slideshow": {
          "slide_type": "slide"
        },
        "tags": []
      },
      "source": [
        "## Data to Wisdom\n",
        "\n",
        "### Knowledge is knowing that a Tomato is a fruit"
      ]
    },
    {
      "cell_type": "markdown",
      "metadata": {
        "editable": true,
        "slideshow": {
          "slide_type": "fragment"
        },
        "tags": []
      },
      "source": [
        "### Wisdom is not putting it in a fruit salad "
      ]
    },
    {
      "cell_type": "markdown",
      "metadata": {
        "editable": true,
        "slideshow": {
          "slide_type": "fragment"
        },
        "tags": []
      },
      "source": [
        "Coventry?"
      ]
    },
    {
      "cell_type": "markdown",
      "metadata": {
        "editable": true,
        "slideshow": {
          "slide_type": ""
        },
        "tags": []
      },
      "source": [
        "\n",
        "<https://www.cipher-sys.com/blog/data-vs-information-vs-knowledge-vs-wisdom>\n"
      ]
    },
    {
      "cell_type": "markdown",
      "metadata": {
        "editable": true,
        "slideshow": {
          "slide_type": "slide"
        },
        "tags": []
      },
      "source": [
        "## What is Data vs Information vs Knowledge vs Wisdom?\n",
        "\n",
        "N.B. Double click here to edit this area and answer the question in your own words.\n",
        "\n",
        "Use \"Shift + Enter\" to move on.\n"
      ]
    },
    {
      "cell_type": "markdown",
      "metadata": {
        "editable": true,
        "slideshow": {
          "slide_type": "slide"
        },
        "tags": []
      },
      "source": [
        "## Qualitative & Quantitative Data\n",
        "\n",
        "Covered in Unit 2\n"
      ]
    },
    {
      "cell_type": "markdown",
      "metadata": {
        "editable": true,
        "slideshow": {
          "slide_type": ""
        },
        "tags": []
      },
      "source": [
        "### What is Qualitative Data ?\n",
        "\n",
        "#### Examples\n"
      ]
    },
    {
      "cell_type": "markdown",
      "metadata": {
        "editable": true,
        "slideshow": {
          "slide_type": ""
        },
        "tags": []
      },
      "source": [
        "### What is Quantitative Data ?\n",
        "\n",
        "#### Examples\n"
      ]
    },
    {
      "cell_type": "markdown",
      "metadata": {
        "editable": true,
        "slideshow": {
          "slide_type": "slide"
        },
        "tags": []
      },
      "source": [
        "## Structured Data\n",
        "\n",
        "<https://aws.amazon.com/what-is/structured-data/>\n"
      ]
    },
    {
      "cell_type": "markdown",
      "metadata": {
        "editable": true,
        "slideshow": {
          "slide_type": "fragment"
        },
        "tags": []
      },
      "source": [
        "This data is organised in a predefined way with a structure declaring what each piece of data should contain and what format it is in. This gives it context and means it is information.\n"
      ]
    },
    {
      "cell_type": "markdown",
      "metadata": {
        "editable": true,
        "slideshow": {
          "slide_type": ""
        },
        "tags": []
      },
      "source": [
        "### Your Own Words \n",
        "\n",
        "?\n",
        "\n",
        "#### Examples\n",
        "\n",
        "?"
      ]
    },
    {
      "cell_type": "markdown",
      "metadata": {
        "editable": true,
        "slideshow": {
          "slide_type": "slide"
        },
        "tags": []
      },
      "source": [
        "## Unstructured\n",
        "\n",
        "Unstructured data is information with no set data definition, schema or model, or data that has not yet been processed into structured data. \n",
        "\n",
        "Unstructured data includes:\n",
        "* Text files\n",
        "* Video files\n",
        "* Reports\n",
        "* Email\n",
        "* Images\n"
      ]
    },
    {
      "cell_type": "markdown",
      "metadata": {
        "editable": true,
        "slideshow": {
          "slide_type": "slide"
        },
        "tags": []
      },
      "source": [
        "### Unstructured Data in the real world\n",
        "\n",
        "Businesses create huge amounts of data all the time. The less than 20% of that new data is Structured. \n",
        "\n",
        "Almost all unstructured data is qualitative but there are some numbers (quanititive data) buried in there.\n",
        "\n",
        "You need to put lots of effort into getting information out of Unstructured data, because  you need to find the parts that fit a particular context. Searching all your emails for a phone number you could have put in your phone contacts takes ages.\n"
      ]
    },
    {
      "cell_type": "markdown",
      "metadata": {
        "editable": true,
        "slideshow": {
          "slide_type": "slide"
        },
        "tags": []
      },
      "source": [
        "## Examples of extracting information from different types of data\n",
        "\n",
        "|.           | Qualitative| Quantitative|\n",
        "|------------|------------|-------------|\n",
        "|Structured | [Where Does Andrew Live?](Personnel%20Records.ipynb) | [How many blue cars did we sell? Sales figures](Sales%20Figures.ipynb) |\n",
        "|Unstructured| [What people are tweeting about ChatGPT?](ChatGPT%20Tweets.ipynb) | [How many right footed goals were scored in a Football match?](Football%20Data.ipynb) |"
      ]
    },
    {
      "cell_type": "markdown",
      "metadata": {
        "editable": true,
        "slideshow": {
          "slide_type": ""
        },
        "tags": []
      },
      "source": [
        "\n",
        "\n",
        "## Quiz "
      ]
    },
    {
      "cell_type": "code",
      "execution_count": 10,
      "metadata": {
        "editable": true,
        "slideshow": {
          "slide_type": ""
        },
        "tags": [],
        "trusted": true
      },
      "outputs": [
        {
          "data": {
            "text/plain": [
              "'{\"success\":false,\"message\":\"Not All Data Entered\",\"query\":{\"question\":\"What is Data?\",\"answer\":\"Change me\",\"student\":\"Change Me\"}}'"
            ]
          },
          "execution_count": 10,
          "metadata": {},
          "output_type": "execute_result"
        }
      ],
      "source": [
        "await send_answer(\"What is Data?\", \"Change me\")"
      ]
    },
    {
      "cell_type": "markdown",
      "metadata": {},
      "source": []
    },
    {
      "cell_type": "markdown",
      "metadata": {
        "editable": true,
        "slideshow": {
          "slide_type": "slide"
        },
        "tags": []
      },
      "source": [
        "## Your Answers"
      ]
    },
    {
      "cell_type": "code",
      "execution_count": 9,
      "metadata": {
        "editable": true,
        "slideshow": {
          "slide_type": ""
        },
        "tags": [],
        "trusted": true
      },
      "outputs": [
        {
          "data": {
            "text/html": [
              "<div>\n",
              "<style scoped>\n",
              "    .dataframe tbody tr th:only-of-type {\n",
              "        vertical-align: middle;\n",
              "    }\n",
              "\n",
              "    .dataframe tbody tr th {\n",
              "        vertical-align: top;\n",
              "    }\n",
              "\n",
              "    .dataframe thead th {\n",
              "        text-align: right;\n",
              "    }\n",
              "</style>\n",
              "<table border=\"1\" class=\"dataframe\">\n",
              "  <thead>\n",
              "    <tr style=\"text-align: right;\">\n",
              "      <th></th>\n",
              "      <th>Job 2</th>\n",
              "      <th>What is Data?</th>\n",
              "    </tr>\n",
              "  </thead>\n",
              "  <tbody>\n",
              "    <tr>\n",
              "      <th>Dave</th>\n",
              "      <td>Test Dave</td>\n",
              "      <td>Change me</td>\n",
              "    </tr>\n",
              "    <tr>\n",
              "      <th>Change me</th>\n",
              "      <td>NaN</td>\n",
              "      <td>Change me</td>\n",
              "    </tr>\n",
              "  </tbody>\n",
              "</table>\n",
              "</div>"
            ],
            "text/plain": [
              "               Job 2 What is Data?\n",
              "Dave       Test Dave     Change me\n",
              "Change me        NaN     Change me"
            ]
          },
          "execution_count": 9,
          "metadata": {},
          "output_type": "execute_result"
        }
      ],
      "source": [
        "await ShowAnswers()"
      ]
    },
    {
      "cell_type": "markdown",
      "metadata": {},
      "source": [
        ":) "
      ]
    },
    {
      "cell_type": "code",
      "execution_count": null,
      "metadata": {
        "editable": true,
        "slideshow": {
          "slide_type": ""
        },
        "tags": [],
        "trusted": true
      },
      "outputs": [],
      "source": []
    },
    {
      "cell_type": "markdown",
      "metadata": {
        "editable": true,
        "slideshow": {
          "slide_type": ""
        },
        "tags": []
      },
      "source": [
        "## Plenary\n",
        "\n",
        "We need to gather Data properly so we can give it context and analysis so it becomes actionable knowledge to help us make wise decisions.\n",
        "\n",
        "Getting knowledge out of unstructered data is hard so Structured data is better."
      ]
    },
    {
      "cell_type": "code",
      "execution_count": null,
      "metadata": {
        "editable": true,
        "slideshow": {
          "slide_type": ""
        },
        "tags": [],
        "trusted": true
      },
      "outputs": [],
      "source": []
    }
  ],
  "metadata": {
    "kernelspec": {
      "display_name": "Python (Pyodide)",
      "language": "python",
      "name": "python"
    },
    "language_info": {
      "codemirror_mode": {
        "name": "python",
        "version": 3
      },
      "file_extension": ".py",
      "mimetype": "text/x-python",
      "name": "python",
      "nbconvert_exporter": "python",
      "pygments_lexer": "ipython3",
      "version": "3.8"
    }
  },
  "nbformat": 4,
  "nbformat_minor": 4
}
