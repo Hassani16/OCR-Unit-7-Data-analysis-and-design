{
  "cells": [
    {
      "cell_type": "markdown",
      "metadata": {},
      "source": [
        "# Be able to present data analysis and design solutions to stakeholders\n",
        "# 4.1 Data design documentation\n",
        "\n",
        "* data flow diagrams (DFDs)\n",
        "* information flow charts\n",
        "* entity attribute relationship diagram (EARD)\n",
        "* hierarchical tree diagram\n",
        "* events\n",
        "* entity life history (ELH)"
      ]
    }
  ],
  "metadata": {
    "kernelspec": {
      "display_name": "Python 3",
      "language": "python",
      "name": "python3"
    },
    "language_info": {
      "codemirror_mode": {
        "name": "ipython",
        "version": 3
      },
      "file_extension": ".py",
      "mimetype": "text/x-python",
      "name": "python",
      "nbconvert_exporter": "python",
      "pygments_lexer": "ipython3",
      "version": "3.7.8"
    }
  },
  "nbformat": 4,
  "nbformat_minor": 4
}