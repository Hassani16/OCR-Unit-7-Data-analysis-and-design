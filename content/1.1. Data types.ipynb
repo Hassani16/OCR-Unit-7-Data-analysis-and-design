{
 "cells": [
  {
   "cell_type": "markdown",
   "metadata": {},
   "source": []
  },
  {
   "cell_type": "markdown",
   "metadata": {},
   "source": [
    "# 1.1 Data types\n",
    "\n",
    "## What is data?\n",
    "\n",
    "<https://www.cipher-sys.com/blog/data-vs-information-vs-knowledge-vs-wisdom>\n",
    "\n",
    "We need to gather Data properly so we can give it context and analysis so it becomes actionable knowledge and help us make wise decisions.\n",
    "\n"
   ]
  },
  {
   "cell_type": "markdown",
   "metadata": {},
   "source": [
    "\n",
    "### Data to Wisdom\n",
    "\n",
    "Knowledge is knowing that a Tomato is a fruit\n",
    "\n",
    "Wisdom is not putting it in a fruit salad \n",
    "\n",
    "Coventry?\n",
    "\n"
   ]
  },
  {
   "cell_type": "markdown",
   "metadata": {},
   "source": [
    "\n",
    "\n",
    "## Qualitative & Quantitative\n",
    "\n",
    "Covered already\n",
    "<!--\n",
    "\n",
    "\n",
    " (e.g. the colour of products, the\n",
    "names of employee\n",
    "\n",
    "## Quantitative\n",
    "\n",
    "Measurements \n",
    "e.g. expiry date of medicines, the number of staff working in an organisation)\n",
    "\n",
    "\n",
    "-->\n"
   ]
  },
  {
   "cell_type": "markdown",
   "metadata": {},
   "source": [
    "\n",
    "## Structured\n",
    "\n",
    "<https://aws.amazon.com/what-is/structured-data/>\n",
    "\n",
    "This data is organised in a predefined way with a structure declaring what each piece of data should contain and what format it is in. This gives it context and means it is information.\n",
    "\n"
   ]
  },
  {
   "cell_type": "markdown",
   "metadata": {},
   "source": [
    "\n",
    "\n",
    "## Unstructured\n",
    "\n",
    "Unstructured data is information with no set data definition,schema or model, or data that has not yet been processed into structured data. \n",
    "\n",
    "Unstructured data includes:\n",
    "\n",
    "* Text files\n",
    "* Video files\n",
    "* Reports\n",
    "* Email\n",
    "* Images\n",
    "\n",
    "Businesses create huge amounts of data all the time. The less than 20% of that new data is Structured. \n",
    "\n",
    "Almost all unstructured data is qualitative but there are some numbers (quanititive data) buried in there.\n",
    "\n",
    "You need to put lots of effort into getting information out of Unstructured data, because  you need to find the parts that fit a particular context. Searching all your emails for a phone number you could have put in your phone contacts takes ages.\n",
    "\n",
    "\n"
   ]
  },
  {
   "cell_type": "markdown",
   "metadata": {},
   "source": [
    "\n",
    "\n",
    "## Examples of extracting information from different types of data\n",
    "\n",
    "|            | Qualitative| Quantitative|\n",
    "|------------|------------|-------------|\n",
    "| Structured | What is John's Address in our Personnel Records | How many blue cars did we sell? Sales figures |\n",
    "|Unstructured| Are people positive about ChatGPT on Twitter? | How many right footed goals were scored in a Football match? |\n",
    "\n"
   ]
  },
  {
   "cell_type": "markdown",
   "metadata": {},
   "source": [
    "### Structured & Qualitative example \"Personnel Records\",\n",
    "\n",
    "Names and address etc. \n",
    "some JSON data\n",
    "\n",
    " \n"
   ]
  },
  {
   "cell_type": "code",
   "execution_count": null,
   "metadata": {},
   "outputs": [],
   "source": [
    "from dataclasses import dataclass\n",
    "\n",
    "@dataclass\n",
    "class StaffMember():\n",
    "    first_name: str \n",
    "    second_name: str \n",
    "    house_number: str\n",
    "    street: str\n",
    "\n"
   ]
  },
  {
   "cell_type": "markdown",
   "metadata": {},
   "source": [
    "### Structured & Quantitative example \"Sales figures\"\n",
    "\n",
    "csv and extract data\n",
    "\n",
    "\n"
   ]
  },
  {
   "cell_type": "markdown",
   "metadata": {},
   "source": [
    "### Unstructured & Qualitative example \"Are people positive about ChatGPT on Twitter?\" \n",
    "\n",
    "are people positive about ChatGPT?\n",
    "\n",
    "data set and simple analysis \n",
    "\n",
    "\n"
   ]
  },
  {
   "cell_type": "markdown",
   "metadata": {},
   "source": [
    "\n",
    "\n",
    "\n",
    "\n"
   ]
  },
  {
   "cell_type": "markdown",
   "metadata": {},
   "source": [
    "### Unstructured & Quantitative example \"How many right footed goals were scored in a Football match?\"\n",
    "\n",
    "[Women's Euros 2022 - England vs Norway](https://www.youtube.com/watch?v=EAdTGBRSCEQ)\n",
    "\n",
    "#### Task : \n",
    "1. Start a timer\n",
    "2. Watch the highlights (not the whole match)\n",
    "3. Note down the body part used to score each goal\n",
    "4. Write the answer below\n",
    "5. Stop the timer"
   ]
  },
  {
   "cell_type": "code",
   "execution_count": 4,
   "metadata": {},
   "outputs": [
    {
     "name": "stdout",
     "output_type": "stream",
     "text": [
      "Right Footed Goals in the Norway game 0\n",
      "Time Taken In Seconds 0\n"
     ]
    }
   ],
   "source": [
    "#Enter your answers here\n",
    "right_footed_goals = 0\n",
    "time_taken_in_seconds = 0\n",
    "\n",
    "print(\"Right Footed Goals in the Norway game\", right_footed_goals)\n",
    "print(\"Time Taken In Seconds\", time_taken_in_seconds)"
   ]
  },
  {
   "cell_type": "code",
   "execution_count": 8,
   "metadata": {},
   "outputs": [
    {
     "data": {
      "text/html": [
       "<div>\n",
       "<style scoped>\n",
       "    .dataframe tbody tr th:only-of-type {\n",
       "        vertical-align: middle;\n",
       "    }\n",
       "\n",
       "    .dataframe tbody tr th {\n",
       "        vertical-align: top;\n",
       "    }\n",
       "\n",
       "    .dataframe thead th {\n",
       "        text-align: right;\n",
       "    }\n",
       "</style>\n",
       "<table border=\"1\" class=\"dataframe\">\n",
       "  <thead>\n",
       "    <tr style=\"text-align: right;\">\n",
       "      <th></th>\n",
       "      <th>timestamp</th>\n",
       "      <th>period</th>\n",
       "      <th>shot_body_part</th>\n",
       "      <th>shot_outcome</th>\n",
       "    </tr>\n",
       "  </thead>\n",
       "  <tbody>\n",
       "    <tr>\n",
       "      <th>3128</th>\n",
       "      <td>00:11:05.568</td>\n",
       "      <td>1</td>\n",
       "      <td>Right Foot</td>\n",
       "      <td>Goal</td>\n",
       "    </tr>\n",
       "    <tr>\n",
       "      <th>3130</th>\n",
       "      <td>00:14:10.725</td>\n",
       "      <td>1</td>\n",
       "      <td>Right Foot</td>\n",
       "      <td>Goal</td>\n",
       "    </tr>\n",
       "    <tr>\n",
       "      <th>3134</th>\n",
       "      <td>00:28:02.242</td>\n",
       "      <td>1</td>\n",
       "      <td>Right Foot</td>\n",
       "      <td>Goal</td>\n",
       "    </tr>\n",
       "    <tr>\n",
       "      <th>3138</th>\n",
       "      <td>00:33:56.826</td>\n",
       "      <td>1</td>\n",
       "      <td>Head</td>\n",
       "      <td>Goal</td>\n",
       "    </tr>\n",
       "    <tr>\n",
       "      <th>3139</th>\n",
       "      <td>00:37:53.824</td>\n",
       "      <td>1</td>\n",
       "      <td>Left Foot</td>\n",
       "      <td>Goal</td>\n",
       "    </tr>\n",
       "    <tr>\n",
       "      <th>3140</th>\n",
       "      <td>00:40:14.670</td>\n",
       "      <td>1</td>\n",
       "      <td>Left Foot</td>\n",
       "      <td>Goal</td>\n",
       "    </tr>\n",
       "    <tr>\n",
       "      <th>3144</th>\n",
       "      <td>00:20:25.538</td>\n",
       "      <td>2</td>\n",
       "      <td>Head</td>\n",
       "      <td>Goal</td>\n",
       "    </tr>\n",
       "    <tr>\n",
       "      <th>3151</th>\n",
       "      <td>00:35:43.679</td>\n",
       "      <td>2</td>\n",
       "      <td>Left Foot</td>\n",
       "      <td>Goal</td>\n",
       "    </tr>\n",
       "  </tbody>\n",
       "</table>\n",
       "</div>"
      ],
      "text/plain": [
       "         timestamp  period shot_body_part shot_outcome\n",
       "3128  00:11:05.568       1     Right Foot         Goal\n",
       "3130  00:14:10.725       1     Right Foot         Goal\n",
       "3134  00:28:02.242       1     Right Foot         Goal\n",
       "3138  00:33:56.826       1           Head         Goal\n",
       "3139  00:37:53.824       1      Left Foot         Goal\n",
       "3140  00:40:14.670       1      Left Foot         Goal\n",
       "3144  00:20:25.538       2           Head         Goal\n",
       "3151  00:35:43.679       2      Left Foot         Goal"
      ]
     },
     "execution_count": 8,
     "metadata": {},
     "output_type": "execute_result"
    }
   ],
   "source": [
    "import sys\n",
    "\n",
    "if not sys.warnoptions:\n",
    "    import warnings\n",
    "    warnings.simplefilter(\"ignore\")\n",
    "    \n",
    "from statsbombpy import sb\n",
    "sb.competitions().query(\"competition_name == 'UEFA Women\\\\'s Euro'\")\n",
    "\n",
    "euro22games = sb.matches(competition_id=53, season_id=106)\n",
    "matchid = euro22games.query(\"home_team == 'England Women\\\\'s' and away_team == 'Norway Women\\\\'s'\").iloc[0]['match_id']\n",
    "\n",
    "events = sb.events(match_id=matchid).query(\"type == 'Shot' and shot_outcome=='Goal'\")\n",
    "\n",
    "events[['timestamp','period','shot_body_part', 'shot_outcome']]\n"
   ]
  },
  {
   "cell_type": "code",
   "execution_count": 2,
   "metadata": {},
   "outputs": [
    {
     "name": "stdout",
     "output_type": "stream",
     "text": [
      "Right Footed Goals in the Norway game from data 0\n",
      "Time Taken In Seconds 0\n"
     ]
    }
   ],
   "source": [
    "#Enter your answers here\n",
    "right_footed_goals = 0\n",
    "time_taken_in_seconds = 0\n",
    "\n",
    "print(\"Right Footed Goals in the Norway game from data\", right_footed_goals)\n",
    "print(\"Time Taken In Seconds\", time_taken_in_seconds)"
   ]
  },
  {
   "cell_type": "markdown",
   "metadata": {},
   "source": [
    "#### Task 2 : How many Right Footed goals in the England vs Sweden game?\n"
   ]
  },
  {
   "cell_type": "code",
   "execution_count": 3,
   "metadata": {},
   "outputs": [
    {
     "name": "stdout",
     "output_type": "stream",
     "text": [
      "Right Footed Goals in the Sweden game 0\n",
      "Time Taken In Seconds 0\n"
     ]
    }
   ],
   "source": [
    "#Enter your answers here\n",
    "right_footed_goals = 0\n",
    "time_taken_in_seconds = 0\n",
    "\n",
    "print(\"Right Footed Goals in the Sweden game\", right_footed_goals)\n",
    "print(\"Time Taken In Seconds\", time_taken_in_seconds)"
   ]
  },
  {
   "cell_type": "markdown",
   "metadata": {},
   "source": [
    "\n",
    "## Quiz \n",
    "\n",
    "\n"
   ]
  }
 ],
 "metadata": {
  "kernelspec": {
   "display_name": "Python 3",
   "language": "python",
   "name": "python3"
  },
  "language_info": {
   "codemirror_mode": {
    "name": "ipython",
    "version": 3
   },
   "file_extension": ".py",
   "mimetype": "text/x-python",
   "name": "python",
   "nbconvert_exporter": "python",
   "pygments_lexer": "ipython3",
   "version": "3.10.12"
  }
 },
 "nbformat": 4,
 "nbformat_minor": 2
}
