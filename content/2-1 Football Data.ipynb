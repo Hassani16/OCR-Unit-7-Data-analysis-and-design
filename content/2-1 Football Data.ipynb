{
  "cells": [
    {
      "cell_type": "markdown",
      "metadata": {
        "editable": true,
        "slideshow": {
          "slide_type": ""
        },
        "tags": []
      },
      "source": [
        "# Unstructured & Quantitative example:\n",
        "## Identifying Fast Passers Using Data?\n",
        "\n",
        "[Women's Euros 2022 - England vs Norway](https://www.youtube.com/watch?v=EAdTGBRSCEQ)\n",
        "\n",
        "When should I subistitute a player??\n",
        "What training should focus on for the next game??\n",
        "\n",
        "### Task 1 : \n",
        "1. Start the timer by hitting \"Run all\"\n",
        "2. Watch the highlights (not the whole match) [Women's Euros 2022 - England vs Norway](https://www.youtube.com/watch?v=EAdTGBRSCEQ)\n",
        "3. Note down the body part used to score each goal\n",
        "4. Input \"Number of 'Right Footed Goals'\" below then click \"Submit Query\" / press \"Enter\"\n",
        "5. That stops the timer"
      ]
    },
    {
      "cell_type": "code",
      "execution_count": null,
      "metadata": {
        "trusted": true
      },
      "outputs": [],
      "source": [
        "import time\n",
        "\n",
        "# Start the timer\n",
        "task_1_start_time = time.time()\n",
        "\n",
        "# Get an input : How many Right Footed Goals were scored?\n",
        "right_footed_goals = await input(\"Number of 'Right Footed Goals'\")"
      ]
    },
    {
      "cell_type": "code",
      "execution_count": null,
      "metadata": {
        "trusted": true
      },
      "outputs": [],
      "source": []
    },
    {
      "cell_type": "markdown",
      "metadata": {
        "editable": true,
        "slideshow": {
          "slide_type": "slide"
        },
        "tags": []
      },
      "source": [
        "## How long did that take?"
      ]
    },
    {
      "cell_type": "code",
      "execution_count": null,
      "metadata": {
        "collapsed": false,
        "editable": true,
        "jupyter": {
          "outputs_hidden": false,
          "source_hidden": false
        },
        "nteract": {
          "transient": {
            "deleting": false
          }
        },
        "slideshow": {
          "slide_type": ""
        },
        "tags": [],
        "trusted": true
      },
      "outputs": [],
      "source": [
        "time_taken_in_seconds = time.time() - task_1_start_time \n",
        "clips_length_in_seconds = 97\n",
        "match_length_in_seconds = 95.0 * 60\n",
        "\n",
        "print(\"Right Footed Goals in the Norway game\", right_footed_goals)\n",
        "print(\"Time Taken In Seconds\", int(time_taken_in_seconds))\n",
        "print(\"It would take at least \", int(((time_taken_in_seconds / clips_length_in_seconds ) * match_length_in_seconds) / 60), \" minutes to do this for the whole match\")"
      ]
    },
    {
      "cell_type": "code",
      "execution_count": null,
      "metadata": {
        "trusted": true
      },
      "outputs": [],
      "source": []
    },
    {
      "cell_type": "markdown",
      "metadata": {
        "editable": true,
        "slideshow": {
          "slide_type": "slide"
        },
        "tags": []
      },
      "source": [
        "## What is Time?"
      ]
    },
    {
      "cell_type": "markdown",
      "metadata": {
        "editable": true,
        "slideshow": {
          "slide_type": "fragment"
        },
        "tags": []
      },
      "source": [
        "### Money\n",
        "\n",
        "This data is from [StatsBomb](https://statsbomb.com/), a commercial company that sells data ( this is a free sam0le to get people interested )."
      ]
    },
    {
      "cell_type": "markdown",
      "metadata": {
        "editable": true,
        "nteract": {
          "transient": {
            "deleting": false
          }
        },
        "slideshow": {
          "slide_type": "slide"
        },
        "tags": []
      },
      "source": [
        "## Getting the Machine to do the work\n",
        "\n",
        "A company called StatsBomb have put in the time to look at all these matches and record a vast amount of structured data about it.\n",
        "\n",
        "https://statsbomb.com/articles/soccer/statsbomb-release-free-360-data-womens-euro-2022-available-now/\n",
        "\n",
        "NB. Due to running this inside teams this next block is large and wouldn't usually be needed.\n"
      ]
    },
    {
      "cell_type": "code",
      "execution_count": null,
      "metadata": {
        "editable": true,
        "slideshow": {
          "slide_type": ""
        },
        "tags": [],
        "trusted": true
      },
      "outputs": [],
      "source": [
        "import micropip\n",
        "await micropip.install('requests')\n",
        "from js import fetch\n",
        "\n",
        "from collections import defaultdict\n",
        "import requests as req\n",
        "from typing import Union\n",
        "import pandas as pd\n",
        "import json\n",
        "\n",
        "EURO22MATCHES = {\n",
        " 'Austria vs Northern Ireland': 3835328,\n",
        " 'Austria vs Norway': 3835336,\n",
        " 'Belgium vs Iceland': 3835326,\n",
        " 'Denmark vs Finland': 3835329,\n",
        " 'Denmark vs Spain': 3835337,\n",
        " 'England vs Austria': 3835319,\n",
        " 'England vs Germany': 3847567,\n",
        " 'England vs Norway': 3835327,\n",
        " 'England vs Spain': 3844384,\n",
        " 'England vs Sweden': 3845506,\n",
        " 'Finland vs Germany': 3835338,\n",
        " 'France vs Belgium': 3835333,\n",
        " 'France vs Italy': 3835325,\n",
        " 'France vs Netherlands': 3844387,\n",
        " 'Germany vs Austria': 3844385,\n",
        " 'Germany vs Denmark': 3835322,\n",
        " 'Germany vs France': 3845507,\n",
        " 'Germany vs Spain': 3835330,\n",
        " 'Iceland vs France': 3835342,\n",
        " 'Italy vs Belgium': 3835341,\n",
        " 'Italy vs Iceland': 3835334,\n",
        " 'Netherlands vs Portugal': 3835332,\n",
        " 'Netherlands vs Sweden': 3835324,\n",
        " 'Northern Ireland vs England': 3835335,\n",
        " 'Norway vs Northern Ireland': 3835320,\n",
        " 'Portugal vs Switzerland': 3835323,\n",
        " 'Spain vs Finland': 3835321,\n",
        " 'Sweden vs Belgium': 3844386,\n",
        " 'Sweden vs Portugal': 3835340,\n",
        " 'Sweden vs Switzerland': 3835331,\n",
        " 'Switzerland vs Netherlands': 3835339}\n",
        "\n",
        "PLURALS = {\n",
        "    \"Starting XI\": \"starting_xis\",\n",
        "    \"Half Start\": \"half_starts\",\n",
        "    \"Camera On\": \"camera ons\",\n",
        "    \"Camera off\": \"camera offs\",\n",
        "    \"Pass\": \"passes\",\n",
        "    \"Ball Receipt*\": \"ball_receipts\",\n",
        "    \"Carry\": \"carrys\",\n",
        "    \"Pressure\": \"pressures\",\n",
        "    \"Foul Committed\": \"foul_committeds\",\n",
        "    \"Foul Won\": \"foul_wons\",\n",
        "    \"Duel\": \"duels\",\n",
        "    \"Interception\": \"interceptions\",\n",
        "    \"Block\": \"blocks\",\n",
        "    \"Referee Ball-Drop\": \"referee_ball_drops\",\n",
        "    \"Ball Recovery\": \"ball_recoverys\",\n",
        "    \"Dispossessed\": \"dispossesseds\",\n",
        "    \"Clearance\": \"clearances\",\n",
        "    \"Dribble\": \"dribbles\",\n",
        "    \"Miscontrol\": \"miscontrols\",\n",
        "    \"Shot\": \"shots\",\n",
        "    \"Goal Keeper\": \"goal_keepers\",\n",
        "    \"Dribbled Past\": \"dribbled_pasts\",\n",
        "    \"Injury Stoppage\": \"injury_stoppages\",\n",
        "    \"Half End\": \"half_ends\",\n",
        "    \"Substitution\": \"substitutions\",\n",
        "    \"Shield\": \"shields\",\n",
        "    \"Tactical Shift\": \"tactical_shifts\",\n",
        "    \"Own Goal Against\": \"own_goal_againsts\",\n",
        "    \"Own Goal For\": \"own_goal_fors\",\n",
        "    \"Bad Behaviour\": \"bad_behaviours\",\n",
        "    \"Player Off\": \"player_offs\",\n",
        "    \"Player On\": \"player_ons\",\n",
        "    \"50/50\": \"50/50s\",\n",
        "    \"Error\": \"errors\",\n",
        "    \"Offside\": \"offsides\",\n",
        "}\n",
        "\n",
        "\n",
        "def flatten_event(event, flatten_attrs):\n",
        "    if flatten_attrs:\n",
        "        ev_type = event[\"type\"][\"name\"].lower().replace(\" \", \"_\").replace(\"*\", \"\")\n",
        "        ev_type = ev_type if event[\"type\"][\"name\"] != \"Goal Keeper\" else \"goalkeeper\"\n",
        "        if ev_type in event:\n",
        "            for k, v in event[ev_type].items():\n",
        "                event[f\"{ev_type}_{k}\"] = v\n",
        "            del event[ev_type]\n",
        "\n",
        "    for k, v in event.copy().items():\n",
        "        if isinstance(v, dict) and \"name\" in v:\n",
        "            event[k] = v[\"name\"]\n",
        "            if k in [\"possession_team\", \"player\", \"team\", \"pass_recipient\"]:\n",
        "                event[f\"{k}_id\"] = v[\"id\"]\n",
        "    return event\n",
        "\n",
        "\n",
        "def filter_and_group_events(events, filters, fmt, flatten_attrs):\n",
        "    events_ = defaultdict(list)\n",
        "    for ev in events.values():\n",
        "        ev_type = PLURALS[ev[\"type\"][\"name\"]]\n",
        "        if not is_relevant(ev, filters):\n",
        "            continue\n",
        "        if fmt == \"dataframe\":\n",
        "            ev = flatten_event(ev, flatten_attrs)\n",
        "        events_[ev_type].append(ev)\n",
        "    return events_\n",
        "\n",
        "\n",
        "def is_relevant(event, filters):\n",
        "    return all(event.get(\"type\", {}).get(\"name\") == v for k, v in filters.items())\n",
        "\n",
        "\n",
        "OPEN_DATA_PATHS = {\n",
        "    \"competitions\": \"https://raw.githubusercontent.com/statsbomb/open-data/master/data/competitions.json\",\n",
        "    \"matches\": \"https://raw.githubusercontent.com/statsbomb/open-data/master/data/matches/{competition_id}/{season_id}.json\",\n",
        "    \"lineups\": \"https://raw.githubusercontent.com/statsbomb/open-data/master/data/lineups/{match_id}.json\",\n",
        "    \"events\": \"https://raw.githubusercontent.com/statsbomb/open-data/master/data/events/{match_id}.json\",\n",
        "    \"frames\": \"https://raw.githubusercontent.com/statsbomb/open-data/master/data/three-sixty/{match_id}.json\",\n",
        "}\n",
        "\n",
        "def ents_events(events: list, match_id: int) -> dict:\n",
        "    events_ = {}\n",
        "    for ev in events:\n",
        "        ev[\"match_id\"] = match_id\n",
        "        events_[ev[\"id\"]] = ev\n",
        "    return events_\n",
        "\n",
        "async def get_response(path):\n",
        "    '''\n",
        "    response = req.get(path)\n",
        "    response.raise_for_status()\n",
        "    data = response.json()\n",
        "    '''\n",
        "\n",
        "    # example retrieving the default html file on the demo website\n",
        "    res = await fetch(path)\n",
        "    text = await res.text()\n",
        "    data = json.loads(text)\n",
        "    return data\n",
        "\n",
        "async def public_events(match_id: int) -> dict:\n",
        "    path = OPEN_DATA_PATHS[\"events\"].format(match_id=match_id)\n",
        "    events = await get_response(path)\n",
        "    events2 = ents_events(events, match_id)\n",
        "    return events2\n",
        "\n",
        "\n",
        "async def sb_events(\n",
        "    match_id: int,\n",
        "    split: bool = False,\n",
        "    filters: dict = {},\n",
        "    fmt: str = \"dataframe\",\n",
        "    flatten_attrs: bool = True,\n",
        ") -> Union[pd.DataFrame, dict]:\n",
        "\n",
        "    events = await public_events(match_id)\n",
        "\n",
        "    if fmt == \"dataframe\":\n",
        "        events = filter_and_group_events(events, filters, fmt, flatten_attrs)\n",
        "        for ev_type, evs in events.items():\n",
        "            events[ev_type] = pd.DataFrame(evs)\n",
        "        if split is False:\n",
        "            events = pd.concat([*events.values()], axis=0, ignore_index=True, sort=True)\n",
        "    return events\n"
      ]
    },
    {
      "cell_type": "markdown",
      "metadata": {
        "editable": true,
        "slideshow": {
          "slide_type": "slide"
        },
        "tags": []
      },
      "source": [
        "## How many Right Footed goals in the England vs Norway game?"
      ]
    },
    {
      "cell_type": "code",
      "execution_count": null,
      "metadata": {
        "editable": true,
        "slideshow": {
          "slide_type": ""
        },
        "tags": [],
        "trusted": true
      },
      "outputs": [],
      "source": [
        "# Start the timer\n",
        "example_1_start_time = time.time() \n",
        "\n",
        "match_id = EURO22MATCHES['England vs Norway']\n",
        "\n",
        "events = await sb_events(match_id=match_id)\n",
        "\n",
        "events = events.query(\"type == 'Shot' and shot_outcome=='Goal'\")\n",
        "\n",
        "#Enter your answers here\n",
        "\n",
        "right_footed_goals = len(events.query(\"shot_body_part == 'Right Foot'\"))\n",
        "time_taken_in_seconds = time.time() - example_1_start_time\n",
        "\n",
        "print(\"Right Footed Goals in the Norway game from data =\", right_footed_goals)\n",
        "print(\"Time Taken In Seconds\", time_taken_in_seconds)\n",
        "\n",
        "events[['timestamp','period','shot_body_part', 'shot_outcome']]"
      ]
    },
    {
      "cell_type": "code",
      "execution_count": null,
      "metadata": {
        "editable": true,
        "slideshow": {
          "slide_type": ""
        },
        "tags": [],
        "trusted": true
      },
      "outputs": [],
      "source": []
    },
    {
      "cell_type": "markdown",
      "metadata": {
        "editable": true,
        "slideshow": {
          "slide_type": "slide"
        },
        "tags": []
      },
      "source": [
        "### Task 2 : How many Headed goals in the England vs Sweden game?\n",
        "\n",
        "Change the code below so that :\n",
        "1. It's using the data for the \"England vs Sweden\" game. \n",
        "2. It's filtering for \"Head\" goals instead of \"Right Foot\" \n",
        "3. Click the run triangle or press \"Shift + Enter\""
      ]
    },
    {
      "cell_type": "code",
      "execution_count": null,
      "metadata": {
        "editable": true,
        "slideshow": {
          "slide_type": ""
        },
        "tags": [],
        "trusted": true
      },
      "outputs": [],
      "source": [
        "# Start the timer\n",
        "task_2_start_time = time.time() \n",
        "\n",
        "match_id = EURO22MATCHES['England vs Norway']\n",
        "\n",
        "events = await sb_events(match_id=match_id)\n",
        "\n",
        "events = events.query(\"type == 'Shot' and shot_outcome=='Goal' and shot_body_part == 'Right Foot'\")\n",
        "\n",
        "time_taken_in_seconds = time.time() - task_2_start_time\n",
        "\n",
        "print(\"Headed Goals in the Sweden game =\", len(events))\n",
        "print(\"Time Taken In Seconds\", time_taken_in_seconds)\n",
        "\n",
        "events[['timestamp','period','shot_body_part', 'shot_outcome']]\n"
      ]
    },
    {
      "cell_type": "code",
      "execution_count": null,
      "metadata": {
        "trusted": true
      },
      "outputs": [],
      "source": []
    },
    {
      "cell_type": "markdown",
      "metadata": {
        "editable": true,
        "slideshow": {
          "slide_type": "slide"
        },
        "tags": []
      },
      "source": [
        "### Extension\n",
        "\n",
        "List all the shots in the \"Netherlands vs Sweden\" game with the player, team and shot technique as well\n",
        "\n",
        "The available field names are :\n",
        "\n",
        "'50_50', 'ball_receipt_outcome', 'ball_recovery_offensive',\n",
        "       'ball_recovery_recovery_failure', 'block_deflection',\n",
        "       'carry_end_location', 'clearance_aerial_won', 'clearance_body_part',\n",
        "       'clearance_head', 'clearance_left_foot', 'clearance_other',\n",
        "       'clearance_right_foot', 'counterpress', 'dribble_no_touch',\n",
        "       'dribble_nutmeg', 'dribble_outcome', 'dribble_overrun', 'duel_outcome',\n",
        "       'duel_type', 'duration', 'foul_committed_advantage',\n",
        "       'foul_committed_card', 'foul_committed_penalty', 'foul_won_advantage',\n",
        "       'foul_won_defensive', 'foul_won_penalty', 'goalkeeper_body_part',\n",
        "       'goalkeeper_end_location', 'goalkeeper_outcome', 'goalkeeper_position',\n",
        "       'goalkeeper_shot_saved_off_target', 'goalkeeper_technique',\n",
        "       'goalkeeper_type', 'id', 'index', 'injury_stoppage_in_chain',\n",
        "       'interception_outcome', 'location', 'match_id', 'minute',\n",
        "       'miscontrol_aerial_won', 'off_camera', 'out', 'pass_aerial_won',\n",
        "       'pass_angle', 'pass_assisted_shot_id', 'pass_body_part', 'pass_cross',\n",
        "       'pass_cut_back', 'pass_end_location', 'pass_goal_assist', 'pass_height',\n",
        "       'pass_inswinging', 'pass_length', 'pass_no_touch', 'pass_outcome',\n",
        "       'pass_recipient', 'pass_recipient_id', 'pass_shot_assist',\n",
        "       'pass_switch', 'pass_technique', 'pass_through_ball', 'pass_type',\n",
        "       'period', 'play_pattern', 'player', 'player_id', 'position',\n",
        "       'possession', 'possession_team', 'possession_team_id', 'related_events',\n",
        "       'second', 'shot_aerial_won', 'shot_body_part', 'shot_deflected',\n",
        "       'shot_end_location', 'shot_first_time', 'shot_freeze_frame',\n",
        "       'shot_key_pass_id', 'shot_open_goal', 'shot_outcome',\n",
        "       'shot_saved_off_target', 'shot_statsbomb_xg', 'shot_technique',\n",
        "       'shot_type', 'substitution_outcome', 'substitution_replacement',\n",
        "       'tactics', 'team', 'team_id', 'timestamp', 'type', 'under_pressure'\n"
      ]
    },
    {
      "cell_type": "code",
      "execution_count": null,
      "metadata": {
        "editable": true,
        "slideshow": {
          "slide_type": ""
        },
        "tags": [],
        "trusted": true
      },
      "outputs": [],
      "source": [
        "# Start the timer\n",
        "match_id = EURO22MATCHES['England vs Norway']\n",
        "\n",
        "events = await sb_events(match_id=match_id)\n",
        "events = events.query(\"type == 'Shot' and shot_outcome=='Goal' and shot_body_part == 'Right Foot'\")\n",
        "\n",
        "events[['timestamp','period','shot_body_part', 'shot_outcome']]"
      ]
    },
    {
      "cell_type": "markdown",
      "metadata": {
        "editable": true,
        "slideshow": {
          "slide_type": "slide"
        },
        "tags": []
      },
      "source": [
        "# Save and Close this file"
      ]
    },
    {
      "cell_type": "code",
      "execution_count": null,
      "metadata": {
        "editable": true,
        "slideshow": {
          "slide_type": ""
        },
        "tags": [],
        "trusted": true
      },
      "outputs": [],
      "source": []
    }
  ],
  "metadata": {
    "kernel_info": {
      "name": "python"
    },
    "kernelspec": {
      "display_name": "Python (Pyodide)",
      "language": "python",
      "name": "python"
    },
    "language_info": {
      "codemirror_mode": {
        "name": "python",
        "version": 3
      },
      "file_extension": ".py",
      "mimetype": "text/x-python",
      "name": "python",
      "nbconvert_exporter": "python",
      "pygments_lexer": "ipython3",
      "version": "3.8"
    },
    "nteract": {
      "version": "nteract-front-end@1.0.0"
    }
  },
  "nbformat": 4,
  "nbformat_minor": 4
}
