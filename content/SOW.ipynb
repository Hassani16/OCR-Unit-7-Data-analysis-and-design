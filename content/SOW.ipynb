{
  "cells": [
    {
      "cell_type": "markdown",
      "metadata": {},
      "source": [
        "# Scheme of Work\n",
        "# Year 12 IT - Unit 7 Data analysis and design\t\t\t\n",
        "| Week | Lesson Date | Lesson |\n",
        "|------|-----|-|\n",
        "| 1 | 22-01-2024 | [1.1 Data types](1-1%20Data%20types/Intro.ipynb) |\n",
        "| | | |\n",
        "| 2 | 29-02-2024 | [1.2 Stages of data analysis](1-2%20Stages%20of%20data%20analysis.ipynb) |\n",
        "| | | [1.3 Importance of accurately defining information requirements](1-3%20Importance%20of%20accurately%20defining%20information%20requirements.ipynb) |\n",
        "| 3 | 05-02-2024 | [LO1](LO1.ipynb) |\n",
        "| | | |\n",
        "| Febuary Half Term |\n",
        "| 4 | 19-02-2024 | [2.1 Investigate information requirements](2-1%20Investigate%20information%20requirements.ipynb) |\n",
        "| | | [2.2 Techniques](2-2%20Techniques.ipynb) |\n",
        "| | | [LO2 P3 ](LO2.ipynb#p3) |\n",
        "| 5 | 26-02-2024 | Meeting with Eagles   |\n",
        "| | | [LO2 P4 ](LO2.ipynb#p4) |\n",
        "| 6 | 04-03-2024 | [2.3 Qualitative data analysis](2-3%20Qualitative%20data%20analysis.ipynb) |\n",
        "| | | [LO2 M2 ](LO2.ipynb#m2) |\n",
        "| 7 | 11-03-2024 | [2.4 Quantitative data analysis](2-4%20Quantitative%20data%20analysis.ipynb) |\n",
        "| | | [LO2 M2 ](LO2.ipynb#m2) |\n",
        "| 8 | 17-03-2024 | [3.1 Levels of data model design](3-1%20Levels%20of%20data%20model%20design.ipynb) |\n",
        "| | | [LO3 P5](LO3.ipynb#p5) |\n",
        "| 9 | 25-03-2024 | [3.2 Phases of logical data modelling](3-2%20Phases%20of%20logical%20data%20modelling.ipynb)  |\n",
        "| | | [LO3 D3](LO3.ipynb#d3) |\n",
        "| Easter |\n",
        "| 10 | 15-04-2024 | [4.1 Data design documentation](4-1%20Data%20design%20documentation.ipynb)  |\n",
        "| | | [LO4 P6 ](LO4.ipynb#p6) |\n",
        "| 11 | 22-04-2024 | [4.2 Presentation of solution](4-2%20Presentation%20of%20solution.ipynb) |\n",
        "| | | |\n",
        "| 12 | 29-04-2024 | Presentation to Eagles - [LO4 M3](LO4.ipynb#m3) |\n",
        "| | | |\n",
        "| 13 | 06-05-2024 | [4.3 Evaluation of design solution ](4-3%20Evaluation%20of%20design%20solution.ipynb) &  |\n",
        "| | | [LO4 D2](LO4.ipynb#d2) |\n",
        "| 14 | 13-05-2024 | Final session & deadline |\n",
        "| | | |\n"
      ]
    },
    {
      "cell_type": "markdown",
      "metadata": {},
      "source": []
    }
  ],
  "metadata": {
    "kernelspec": {
      "display_name": "Python 3",
      "language": "python",
      "name": "python3"
    },
    "language_info": {
      "codemirror_mode": {
        "name": "ipython",
        "version": 3
      },
      "file_extension": ".py",
      "mimetype": "text/x-python",
      "name": "python",
      "nbconvert_exporter": "python",
      "pygments_lexer": "ipython3",
      "version": "3.7.8"
    }
  },
  "nbformat": 4,
  "nbformat_minor": 4
}
