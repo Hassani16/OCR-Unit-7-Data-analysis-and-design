{
 "cells": [
  {
   "cell_type": "markdown",
   "metadata": {},
   "source": [
    "# Be able to investigate client requirements for data analysis\n",
    "# 2.4 Quantitative data analysis\n",
    "\n",
    "* mean\n",
    "* median\n",
    "* standard deviation\n",
    "* range"
   ]
  },
  {
   "cell_type": "markdown",
   "metadata": {},
   "source": [
    "## Set up"
   ]
  },
  {
   "cell_type": "code",
   "execution_count": null,
   "metadata": {},
   "outputs": [],
   "source": [
    "try:\n",
    "    import micropip\n",
    "    await micropip.install([\"pyoliteutils\", \"textblob\"])\n",
    "except:\n",
    "    pass"
   ]
  },
  {
   "cell_type": "code",
   "execution_count": null,
   "metadata": {},
   "outputs": [],
   "source": [
    "from pyoliteutils import *\n",
    "import pandas as pd\n",
    "import matplotlib.pyplot as plt\n",
    "import seaborn as sns\n",
    "\n",
    "# https://www.delftstack.com/howto/seaborn/size-of-seaborn-plot/\n",
    "sns.set(rc={\"figure.figsize\": (16, 5)})"
   ]
  },
  {
   "cell_type": "code",
   "execution_count": null,
   "metadata": {},
   "outputs": [],
   "source": [
    "crowds = pd.read_csv(\"../data/eagles/crowds_clean.csv\")\n",
    "## https://datascienceparichay.com/article/pandas-extract-year-from-datetime-column/\n",
    "crowds"
   ]
  },
  {
   "cell_type": "code",
   "execution_count": null,
   "metadata": {},
   "outputs": [],
   "source": [
    "(\n",
    "    sns.barplot(\n",
    "        data=crowds, x=\"Opponents\", y=\"Attendance\",\n",
    "        estimator=\"mean\", \n",
    "        errorbar= None # (\"pi\",100), #Percentile \n",
    "    )\n",
    "    .set(   title=\"Average Attendance by Opponent\"\n",
    "        )\n",
    ")\n",
    "plt.xticks(rotation=90)\n",
    "plt.show()"
   ]
  },
  {
   "cell_type": "code",
   "execution_count": null,
   "metadata": {},
   "outputs": [],
   "source": [
    "import matplotlib.pyplot as plt\n",
    "import seaborn as sns\n",
    "\n",
    "(\n",
    "    sns.barplot(\n",
    "        data=crowds, x=\"Year\", y=\"Attendance\",\n",
    "        estimator=\"mean\", errorbar=(\"pi\",100),\n",
    "        \n",
    "    )\n",
    "    .set(title=\"Average Attendance by Year\")\n",
    ")\n",
    "plt.xticks(rotation=90)\n",
    "plt.show()"
   ]
  },
  {
   "cell_type": "code",
   "execution_count": null,
   "metadata": {},
   "outputs": [],
   "source": [
    "(\n",
    "    sns.boxplot(\n",
    "        data=crowds, x=\"Year\", y=\"Attendance\",\n",
    "        #hue=\"Opponents\",\n",
    "    )\n",
    "   .set(title=\"Attendance by Year\")\n",
    ")\n",
    "plt.xticks(rotation=90)\n",
    "plt.show()"
   ]
  },
  {
   "cell_type": "code",
   "execution_count": null,
   "metadata": {},
   "outputs": [],
   "source": [
    "# sns.displot(crowds, x=\"Attendance\", hue=\"Year\", multiple=\"stack\")"
   ]
  },
  {
   "cell_type": "code",
   "execution_count": null,
   "metadata": {},
   "outputs": [],
   "source": [
    "stadiums = pd.read_csv(\"../data/eagles/stadiums_with_latlong.csv\")\n",
    "stadiums"
   ]
  },
  {
   "cell_type": "code",
   "execution_count": null,
   "metadata": {},
   "outputs": [],
   "source": [
    "questionnaire = pd.read_csv(\"../data/eagles/questionnaire_quantitive.csv\")\n",
    "questionnaire"
   ]
  },
  {
   "cell_type": "code",
   "execution_count": null,
   "metadata": {},
   "outputs": [],
   "source": [
    "import folium \n",
    "from folium import plugins\n",
    "from folium.plugins import HeatMap"
   ]
  },
  {
   "cell_type": "code",
   "execution_count": null,
   "metadata": {},
   "outputs": [],
   "source": [
    "start_coords = (46.9540700, 142.7360300);\n",
    "    \n",
    "m = folium.Map(\n",
    "    location=start_coords, \n",
    "    zoom_start=14, \n",
    "    #tiles=\"Stamen Terrain\",\n",
    "    width=\"100%\", height=\"100%\",\n",
    "    control_scale=True,\n",
    ");\n",
    "\n",
    "only_located = questionnaire[[\"Are you:\",\"Latitude\", \"Longitude\"]].dropna()\n",
    "\n",
    "\n",
    "only_located\n"
   ]
  },
  {
   "cell_type": "code",
   "execution_count": null,
   "metadata": {},
   "outputs": [],
   "source": [
    "only_located_fans = only_located[only_located[\"Are you:\"].str.contains(\"A current Sheffield Eagles fan who attends games\")]"
   ]
  },
  {
   "cell_type": "code",
   "execution_count": null,
   "metadata": {},
   "outputs": [],
   "source": [
    "\n",
    "heat_data = [[row[\"Latitude\"],row[\"Longitude\"]] for index, row in only_located_fans.iterrows() if \"Latitude\" in row and \"Longitude\" in row]\n",
    "\n",
    "HeatMap(heat_data).add_to(m)\n",
    "\n",
    "\n",
    "m.fit_bounds(m.get_bounds(), padding=(30, 30))\n",
    "\n",
    "folium.TileLayer('cartodbpositron').add_to(m)\n",
    "folium.TileLayer('openstreetmap').add_to(m)\n",
    "\n",
    "# Add the option to switch tiles\n",
    "folium.LayerControl().add_to(m)\n",
    "\n",
    "fs = plugins.Fullscreen().add_to(m)\n",
    "\n",
    "gc = plugins.Geocoder(collapsed=True, position='topleft', add_marker=True).add_to(m)\n",
    "\n",
    "mc = plugins.MeasureControl( position='topleft').add_to(m)\n",
    "\n",
    "\n",
    "m"
   ]
  },
  {
   "cell_type": "code",
   "execution_count": null,
   "metadata": {},
   "outputs": [],
   "source": [
    "questionnaire[questionnaire['Are you:'].str.contains(\"who attends games\")]"
   ]
  },
  {
   "cell_type": "code",
   "execution_count": null,
   "metadata": {},
   "outputs": [],
   "source": []
  }
 ],
 "metadata": {
  "kernelspec": {
   "display_name": "Python 3 (ipykernel)",
   "language": "python",
   "name": "python3"
  },
  "language_info": {
   "codemirror_mode": {
    "name": "ipython",
    "version": 3
   },
   "file_extension": ".py",
   "mimetype": "text/x-python",
   "name": "python",
   "nbconvert_exporter": "python",
   "pygments_lexer": "ipython3",
   "version": "3.10.13"
  }
 },
 "nbformat": 4,
 "nbformat_minor": 4
}
