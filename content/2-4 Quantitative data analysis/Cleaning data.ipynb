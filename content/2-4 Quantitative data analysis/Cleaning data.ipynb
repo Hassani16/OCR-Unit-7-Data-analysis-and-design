{
 "cells": [
  {
   "cell_type": "markdown",
   "metadata": {},
   "source": [
    "# Be able to investigate client requirements for data analysis\n",
    "# 2.4 Quantitative data analysis\n",
    "\n",
    "* mean\n",
    "* median\n",
    "* standard deviation\n",
    "* range"
   ]
  },
  {
   "cell_type": "markdown",
   "metadata": {},
   "source": [
    "## Set up"
   ]
  },
  {
   "cell_type": "code",
   "execution_count": null,
   "metadata": {},
   "outputs": [],
   "source": [
    "try:\n",
    "    import micropip\n",
    "    await micropip.install([\"pyoliteutils\", \"textblob\"])\n",
    "except:\n",
    "    pass"
   ]
  },
  {
   "cell_type": "code",
   "execution_count": null,
   "metadata": {},
   "outputs": [],
   "source": [
    "from pyoliteutils import *\n",
    "import pandas as pd"
   ]
  },
  {
   "cell_type": "markdown",
   "metadata": {},
   "source": [
    "## Crowd / Attendance Data"
   ]
  },
  {
   "cell_type": "code",
   "execution_count": null,
   "metadata": {},
   "outputs": [],
   "source": [
    "crowds = pd.read_csv(\"../data/eagles/crowds.csv\")\n",
    "## https://datascienceparichay.com/article/pandas-extract-year-from-datetime-column/\n",
    "crowds"
   ]
  },
  {
   "cell_type": "code",
   "execution_count": null,
   "metadata": {},
   "outputs": [],
   "source": []
  },
  {
   "cell_type": "markdown",
   "metadata": {},
   "source": [
    "## Get Usable Date Information"
   ]
  },
  {
   "cell_type": "code",
   "execution_count": null,
   "metadata": {},
   "outputs": [],
   "source": [
    "crowds['Date'] = pd.to_datetime(crowds['Date'], format=\"%d/%m/%Y\")\n",
    "crowds['Year'] = crowds['Date'].dt.year\n",
    "crowds['month'] = crowds['Date'].dt.month\n",
    "crowds['month_name'] = crowds['Date'].dt.month_name()\n",
    "crowds"
   ]
  },
  {
   "cell_type": "code",
   "execution_count": null,
   "metadata": {},
   "outputs": [],
   "source": []
  },
  {
   "cell_type": "markdown",
   "metadata": {},
   "source": [
    "## Saving for later"
   ]
  },
  {
   "cell_type": "code",
   "execution_count": null,
   "metadata": {},
   "outputs": [],
   "source": [
    "crowds.to_csv(\"../data/eagles/crowds_clean.csv\")"
   ]
  },
  {
   "cell_type": "code",
   "execution_count": null,
   "metadata": {},
   "outputs": [],
   "source": []
  },
  {
   "cell_type": "markdown",
   "metadata": {},
   "source": [
    "## Other useful Opponent / Match Data?\n",
    "\n",
    "### Location of opponents, and distance to Sheffield\n",
    "\n",
    "#### Possible Data Sources : \n",
    "- https://api.postcodes.io/places?q=[query]\n",
    "- Nominatum / GeoPy\n",
    "    - https://geopy.readthedocs.io/en/stable/\n",
    "    - https://nominatim.org/release-docs/latest/api/Search/ \n",
    "    - https://medium.com/@gopesh3652/geocoding-with-python-using-nominatim-a-beginners-guide-220b250ca48d \n"
   ]
  },
  {
   "cell_type": "markdown",
   "metadata": {},
   "source": [
    "\n",
    "### Weather in Sheffield\n",
    "\n",
    "Could do daily weather at the correct stadium location but monthly for Sheffield's Weather station will be easier at first\n",
    "\n",
    "#### Possible Data Sources : \n",
    "\n",
    "- https://www.metoffice.gov.uk/research/climate/maps-and-data/historic-station-data saved as [text](../data/eagles/sheffield_montly_weather.csv)\n",
    "- https://api.openweathermap.org/data/3.0/onecall/timemachine?lat=39.099724&lon=-94.578331&dt=1643803200&appid=b112bddb3ca3876644b7c695768ae96d"
   ]
  },
  {
   "cell_type": "code",
   "execution_count": null,
   "metadata": {},
   "outputs": [],
   "source": [
    "sheffield_monthly_weather = pd.read_csv(\"../data/eagles/sheffield_monthly_weather.csv\")\n",
    "sheffield_monthly_weather"
   ]
  },
  {
   "cell_type": "code",
   "execution_count": null,
   "metadata": {},
   "outputs": [],
   "source": []
  },
  {
   "cell_type": "markdown",
   "metadata": {},
   "source": []
  },
  {
   "cell_type": "markdown",
   "metadata": {},
   "source": [
    "## Stadium Data"
   ]
  },
  {
   "cell_type": "code",
   "execution_count": null,
   "metadata": {},
   "outputs": [],
   "source": [
    "stadiums = pd.read_csv(\"../data/eagles/stadiums.csv\")\n",
    "stadiums"
   ]
  },
  {
   "cell_type": "code",
   "execution_count": null,
   "metadata": {},
   "outputs": [],
   "source": []
  },
  {
   "cell_type": "markdown",
   "metadata": {},
   "source": [
    "## Adding the Location"
   ]
  },
  {
   "cell_type": "code",
   "execution_count": null,
   "metadata": {},
   "outputs": [],
   "source": [
    "import postcodes_io_api\n",
    "api  = postcodes_io_api.Api()\n",
    "\n",
    "def get_latlong(postcode):\n",
    "    latitude = None\n",
    "    longitude = None\n",
    "    \n",
    "    data = api.get_postcode(postcode)\n",
    "    #print(\"data\", data)\n",
    "    if data[\"status\"] != 200 :\n",
    "        data = api.get_outcode(postcode)\n",
    "    \n",
    "    if data[\"status\"] == 200 :        \n",
    "        if \"latitude\" in data[\"result\"]:\n",
    "            latitude = data[\"result\"][\"latitude\"]\n",
    "            longitude = data[\"result\"][\"longitude\"]\n",
    "    #print(\"latitude, longitude\", latitude, longitude)\n",
    "    return latitude, longitude\n",
    "    \n",
    "\n",
    "def get_latlongs(df):\n",
    "    if (\"Latitude\" not in df) and (\"Postcode\" in df):    \n",
    "      try:\n",
    "        df[[\"Latitude\", \"Longitude\"]] = df.apply(\n",
    "            lambda row: get_latlong(row[\"Postcode\"]), axis=1, result_type=\"expand\"\n",
    "        )\n",
    "      except Exception as e:\n",
    "          print('Postcode Conversion failed : '+ str(e))\n",
    "    return df"
   ]
  },
  {
   "cell_type": "code",
   "execution_count": null,
   "metadata": {},
   "outputs": [],
   "source": [
    "stadiums = get_latlongs(stadiums)\n",
    "stadiums\n"
   ]
  },
  {
   "cell_type": "code",
   "execution_count": null,
   "metadata": {},
   "outputs": [],
   "source": [
    "stadiums.to_csv(\"../data/eagles/stadiums_with_latlong.csv\")"
   ]
  },
  {
   "cell_type": "markdown",
   "metadata": {},
   "source": [
    "## Survey Data"
   ]
  },
  {
   "cell_type": "code",
   "execution_count": null,
   "metadata": {},
   "outputs": [],
   "source": [
    "questionnaire = pd.read_csv(\"../data/eagles/questionnaire.csv\")\n",
    "questionnaire"
   ]
  },
  {
   "cell_type": "code",
   "execution_count": null,
   "metadata": {},
   "outputs": [],
   "source": [
    "\n",
    "questionnaire.rename(columns={\n",
    "    'Could you provide your postcode? This will help us understand where people are responding from. ':\"Postcode\",\n",
    "},inplace=True)\n",
    "\n",
    "questionnaire\n"
   ]
  },
  {
   "cell_type": "code",
   "execution_count": null,
   "metadata": {},
   "outputs": [],
   "source": [
    "\n",
    "\n",
    "questionnaire_quantitive = questionnaire[[\n",
    "    questionnaire.columns[1],\n",
    "    questionnaire.columns[2],\n",
    "    questionnaire.columns[3],\n",
    "    questionnaire.columns[14],\n",
    "    questionnaire.columns[15],\n",
    "    questionnaire.columns[16],\n",
    "    questionnaire.columns[17]\n",
    "]]\n",
    "questionnaire_quantitive"
   ]
  },
  {
   "cell_type": "code",
   "execution_count": null,
   "metadata": {},
   "outputs": [],
   "source": [
    "questionnaire_quantitive = get_latlongs(questionnaire_quantitive)\n",
    "questionnaire_quantitive"
   ]
  },
  {
   "cell_type": "code",
   "execution_count": null,
   "metadata": {},
   "outputs": [],
   "source": [
    "questionnaire_quantitive.to_csv(\"../data/eagles/questionnaire_quantitive.csv\")"
   ]
  }
 ],
 "metadata": {
  "kernelspec": {
   "display_name": "Python 3 (ipykernel)",
   "language": "python",
   "name": "python3"
  },
  "language_info": {
   "codemirror_mode": {
    "name": "ipython",
    "version": 3
   },
   "file_extension": ".py",
   "mimetype": "text/x-python",
   "name": "python",
   "nbconvert_exporter": "python",
   "pygments_lexer": "ipython3",
   "version": "3.10.13"
  }
 },
 "nbformat": 4,
 "nbformat_minor": 4
}
