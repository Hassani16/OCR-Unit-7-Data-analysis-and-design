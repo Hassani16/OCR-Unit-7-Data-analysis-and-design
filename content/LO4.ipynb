{
  "cells": [
    {
      "cell_type": "markdown",
      "metadata": {},
      "source": [
        "# LO4. Be able to present data analysis and design solutions to stakeholders\n",
        "\n",
        "## P6\n",
        "Prepare the data design\n",
        "documentation for a presentation to\n",
        "stakeholders\n",
        "\n",
        "\n",
        "Learners should create data design documentation to reflect the data analysis and design solution to meet a specified business requirement. They\n",
        "must produce a report or presentation that includes relevant diagrams to support and justify their explanations, ideally, using the design from P5 as\n",
        "supporting evidence and potentially the logical data model in D1.\n",
        "\n",
        "## M3\n",
        "Present the data design\n",
        "documentation to stakeholders\n",
        "\n",
        "\n",
        "Learners must present their findings to the stakeholders. This could be as formal written report with relevant diagrams and a set of clear conclusions\n",
        "and recommendations but as it is being presented there should be some narrative, either verbal or written, to underpin the delivery documentation.\n",
        "\n",
        "\n",
        "## D2\n",
        "Evaluate the logical data model\n",
        "against the original specified business\n",
        "requirement\n",
        "\n",
        "Learners should evaluate their logical data design model against the original business requirements and justify any changes from the original\n",
        "specification, making further recommendations in the light of the presentation in M3 and any potential feedback they may have received as a result."
      ]
    }
  ],
  "metadata": {
    "kernelspec": {
      "display_name": "Python 3",
      "language": "python",
      "name": "python3"
    },
    "language_info": {
      "codemirror_mode": {
        "name": "ipython",
        "version": 3
      },
      "file_extension": ".py",
      "mimetype": "text/x-python",
      "name": "python",
      "nbconvert_exporter": "python",
      "pygments_lexer": "ipython3",
      "version": "3.7.8"
    }
  },
  "nbformat": 4,
  "nbformat_minor": 4
}