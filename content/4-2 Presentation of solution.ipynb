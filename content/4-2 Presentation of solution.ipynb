{
  "cells": [
    {
      "cell_type": "markdown",
      "metadata": {},
      "source": [
        "# Be able to present data analysis and design solutions to stakeholders\n",
        "# 4.2 Presentation of solution\n",
        "\n",
        "* reflects all aspects of design\n",
        "* can be understood by audience (e.g. level of technical jargon\n",
        "used)\n",
        "* format (e.g. report or presentation supported by diagrams or\n",
        "models)\n",
        "\n",
        "\n",
        "https://www.checkmarket.com/blog/5-examples-of-how-to-present-survey-results-to-stakeholders/ "
      ]
    }
  ],
  "metadata": {
    "kernelspec": {
      "display_name": "Python 3",
      "language": "python",
      "name": "python3"
    },
    "language_info": {
      "codemirror_mode": {
        "name": "ipython",
        "version": 3
      },
      "file_extension": ".py",
      "mimetype": "text/x-python",
      "name": "python",
      "nbconvert_exporter": "python",
      "pygments_lexer": "ipython3",
      "version": "3.7.8"
    }
  },
  "nbformat": 4,
  "nbformat_minor": 4
}