{
  "cells": [
    {
      "cell_type": "markdown",
      "source": [
        "# 1.2 Stages of data analysis\n",
        "\n",
        "1. Investigate information requirements\n",
        "2. Data collection\n",
        "3. Data organisation \n",
        "4. Data storage \n",
        "5. Data cleansing\n",
        "6. Data manipulation\n",
        "7. Presentation of findings "
      ],
      "metadata": {}
    },
    {
      "cell_type": "markdown",
      "source": [
        "## Setup"
      ],
      "metadata": {
        "nteract": {
          "transient": {
            "deleting": false
          }
        }
      }
    },
    {
      "cell_type": "code",
      "source": [
        "import micropip\n",
        "await micropip.install([\"pyoliteutils\", \"xlrd\"])"
      ],
      "outputs": [],
      "execution_count": 1,
      "metadata": {
        "jupyter": {
          "source_hidden": false,
          "outputs_hidden": false
        },
        "nteract": {
          "transient": {
            "deleting": false
          }
        }
      }
    },
    {
      "cell_type": "code",
      "source": [
        "from pyoliteutils import *\n",
        "import pyoliteutils\n",
        "import pandas as pd\n",
        "import matplotlib.pyplot as plt\n",
        "\n",
        "pyoliteutils.__version__"
      ],
      "outputs": [
        {
          "output_type": "execute_result",
          "execution_count": 3,
          "data": {
            "text/plain": "'0.0.10'"
          },
          "metadata": {}
        }
      ],
      "execution_count": 2,
      "metadata": {
        "jupyter": {
          "source_hidden": false,
          "outputs_hidden": false
        },
        "nteract": {
          "transient": {
            "deleting": false
          }
        }
      }
    },
    {
      "cell_type": "markdown",
      "source": [
        "## 1.2 Stages of data analysis"
      ],
      "metadata": {
        "nteract": {
          "transient": {
            "deleting": false
          }
        }
      }
    },
    {
      "cell_type": "code",
      "source": [
        "mm(\"\"\"\n",
        "mindmap\n",
        "  root{{Stages of data analysis}}\n",
        "    1(Investigate information requirements)\n",
        "        What do we need to know to make a decision\\?\n",
        "            e.g. market share, particulates in the air, testing of new drugs\n",
        "    2(Data collection)\n",
        "        How can we gather that data\n",
        "            e.g. observations, interviews, review of existing data\n",
        "    3(Data organisation) \n",
        "        How to organise the data so we can work with it\n",
        "            e.g. digitalisation, transcription, sorting, data mining\n",
        "    4(Data storage)\n",
        "        How and where to store the data\n",
        "            e.g. in-house, external\n",
        "    5(Data cleansing) \n",
        "        Tidying up the data\n",
        "            e.g. errors, missing elements, duplicates\n",
        "    6(Data manipulation) \n",
        "        Working with the information to find the knowledge\n",
        "            e.g. arranging, collating, aggregating, interpreting, correlation\n",
        "    7(Presentation of findings) \n",
        "        Seeing the knowledge so you can make Wise decision\n",
        "            e.g. tables, charts, graphs, dashboard, reports\n",
        "\"\"\")"
      ],
      "outputs": [],
      "execution_count": 3,
      "metadata": {
        "jupyter": {
          "source_hidden": false,
          "outputs_hidden": false
        },
        "nteract": {
          "transient": {
            "deleting": false
          }
        }
      }
    },
    {
      "cell_type": "code",
      "source": [],
      "outputs": [],
      "execution_count": null,
      "metadata": {
        "jupyter": {
          "source_hidden": false,
          "outputs_hidden": false
        },
        "nteract": {
          "transient": {
            "deleting": false
          }
        }
      }
    },
    {
      "cell_type": "markdown",
      "source": [
        "## 1 : Investigate Information Requirements \n",
        "\n",
        "### What do we need to know to make a decision?\n",
        "\n",
        "Is a new drug effective?\n",
        "\n",
        "(e.g. market share, particulates in the air, testing of new drugs)"
      ],
      "metadata": {}
    },
    {
      "cell_type": "markdown",
      "source": [
        "## 2 : Data Collection \n",
        "\n",
        "### How can we gather that data?\n",
        "\n",
        "e.g. \n",
        "* observations\n",
        "* interviews\n",
        "* review of existing data\n",
        "* making sure IT systems record relevant data"
      ],
      "metadata": {}
    },
    {
      "cell_type": "markdown",
      "source": [
        "## 3: Data Organisation \n",
        "\n",
        "### How to organise the data so we can work with it\n",
        "\n",
        "e.g. \n",
        "* digitalisation\n",
        "* transcription\n",
        "* sorting\n",
        "* data mining"
      ],
      "metadata": {}
    },
    {
      "cell_type": "markdown",
      "source": [
        "## 4: Data Storage\n",
        "\n",
        "### How and where to store the data\n",
        "\n",
        "e.g. \n",
        "* in–house\n",
        "* external)"
      ],
      "metadata": {}
    },
    {
      "cell_type": "code",
      "source": [],
      "outputs": [],
      "execution_count": null,
      "metadata": {
        "jupyter": {
          "source_hidden": false,
          "outputs_hidden": false
        },
        "nteract": {
          "transient": {
            "deleting": false
          }
        }
      }
    },
    {
      "cell_type": "code",
      "source": [
        "\n",
        "import json\n",
        "IBMfile = await get_file_from_url(\"https://www.alphavantage.co/query?function=TIME_SERIES_DAILY&symbol=IBM&apikey=demo\")\n",
        "\n",
        "data = None\n",
        "with open(IBMfile) as f:\n",
        "    data = json.load(f)\n",
        "\n",
        "#display(data)\n",
        "\n",
        "df = pd.DataFrame(data[\"Time Series (Daily)\"])\n",
        "df"
      ],
      "outputs": [],
      "execution_count": null,
      "metadata": {
        "jupyter": {
          "source_hidden": false,
          "outputs_hidden": false
        },
        "nteract": {
          "transient": {
            "deleting": false
          }
        }
      }
    },
    {
      "cell_type": "code",
      "source": [
        "vostok_temp_core_url = \"https://data.ess-dive.lbl.gov/catalog/d1/mn/v2/object/ess-dive-1e57f3f83864c10-20180717T104354142744\"\n",
        "vostok_temp_core_file = await load_file_into_in_mem_filesystem(vostok_temp_core_url)"
      ],
      "outputs": [],
      "execution_count": null,
      "metadata": {
        "jupyter": {
          "source_hidden": false,
          "outputs_hidden": false
        },
        "nteract": {
          "transient": {
            "deleting": false
          }
        }
      }
    },
    {
      "cell_type": "code",
      "source": [
        "vostok_temp_core_df = pd.read_table(vostok_temp_core_file, skiprows=58, sep=\"\\s\\s+\", header=0, names=[\"Depth (m)\", \"Age of the ice (yr BP)\",\"Deuterium content of the ice (delta D)\", \"Temperature Variation (deg C)\"])\n",
        "vostok_temp_core_df.head()\n"
      ],
      "outputs": [],
      "execution_count": null,
      "metadata": {
        "jupyter": {
          "source_hidden": false,
          "outputs_hidden": false
        },
        "nteract": {
          "transient": {
            "deleting": false
          }
        }
      }
    },
    {
      "cell_type": "markdown",
      "source": [
        "## 5: Data Cleansing\n",
        "\n",
        "e.g.\n",
        "* errors\n",
        "* missing elements\n",
        "* duplicates"
      ],
      "metadata": {}
    },
    {
      "cell_type": "markdown",
      "source": [
        "## 6: Data Manipulation\n",
        "\n",
        "e.g. \n",
        "* arranging\n",
        "* collating\n",
        "* aggregating\n",
        "* interpreting\n",
        "* correlation"
      ],
      "metadata": {}
    },
    {
      "cell_type": "markdown",
      "source": [
        "## 7: Presentation of Findings\n",
        "\n",
        "e.g. \n",
        "* tables\n",
        "* charts\n",
        "* graphs\n",
        "* dashboard\n",
        "* reports"
      ],
      "metadata": {}
    },
    {
      "cell_type": "markdown",
      "source": [],
      "metadata": {}
    },
    {
      "cell_type": "code",
      "source": [
        "#datasetfile = await get_file_from_url(\"https://qualifications.pearson.com/content/dam/pdf/A%20Level/Mathematics/2017/specification-and-sample-assesment/Pearson%20Edexcel%20GCE%20AS%20and%20AL%20Mathematics%20data%20set%20-%20Issue%201%20(1).xls\")\n",
        "#datasetfile"
      ],
      "outputs": [],
      "execution_count": null,
      "metadata": {
        "jupyter": {
          "source_hidden": false,
          "outputs_hidden": false
        },
        "nteract": {
          "transient": {
            "deleting": false
          }
        }
      }
    },
    {
      "cell_type": "code",
      "source": [
        "#sheets = pd.read_excel(datasetfile, sheet_name=None, header=5, parse_dates=True, skipfooter=4) #d,  date_format=None ate_parser=_NoDefault.no_default,\n",
        "#keys(sheets)\n",
        "#sheets"
      ],
      "outputs": [],
      "execution_count": null,
      "metadata": {
        "jupyter": {
          "source_hidden": false,
          "outputs_hidden": false
        },
        "nteract": {
          "transient": {
            "deleting": false
          }
        }
      }
    },
    {
      "cell_type": "code",
      "source": [
        "co2file = await get_file_from_url(\"https://raw.githubusercontent.com/UTCSheffield/OCR-Unit-7-Data-analysis-and-design/main/content/data/annual-co2-emissions-per-country.csv\")\n",
        "tempfile = await get_file_from_url(\"https://raw.githubusercontent.com/UTCSheffield/OCR-Unit-7-Data-analysis-and-design/main/content/data/temperature-anomaly.csv\")\n",
        "\n",
        "co2df = pd.read_csv(co2file)\n",
        "tempdf = pd.read_csv(tempfile)\n"
      ],
      "outputs": [],
      "execution_count": null,
      "metadata": {
        "jupyter": {
          "source_hidden": false,
          "outputs_hidden": false
        },
        "nteract": {
          "transient": {
            "deleting": false
          }
        }
      }
    },
    {
      "cell_type": "code",
      "source": [
        "worldco2 = co2df.query(\"Entity == 'World'\")[[\"Year\", \"Annual CO₂ emissions\"]]\n",
        "worldco2.set_index(\"Year\")\n",
        "\n"
      ],
      "outputs": [],
      "execution_count": null,
      "metadata": {
        "jupyter": {
          "source_hidden": false,
          "outputs_hidden": false
        },
        "nteract": {
          "transient": {
            "deleting": false
          }
        }
      }
    },
    {
      "cell_type": "code",
      "source": [
        "plt.style.use('_mpl-gallery-nogrid')\n",
        "\n",
        "# plot\n",
        "fig, ax = plt.subplots()\n",
        "ax.plot(worldco2[\"Year\"], worldco2[\"Annual CO₂ emissions\"])\n",
        "#ax.plot(worldco2)\n",
        "\n",
        "plt.show()\n",
        "\n",
        "#worldco2.plot.line().show()\n",
        "\n"
      ],
      "outputs": [],
      "execution_count": null,
      "metadata": {
        "jupyter": {
          "source_hidden": false,
          "outputs_hidden": false
        },
        "nteract": {
          "transient": {
            "deleting": false
          }
        }
      }
    },
    {
      "cell_type": "code",
      "source": [
        "from bokeh.plotting import figure, show\n",
        "\n",
        "# create a new plot with a title and axis labels\n",
        "p1 = figure(title=\"Annual CO₂ emissions\", y_range=(0, 3.5e10), x_axis_label=\"Year\", y_axis_label=\"Annual CO₂ emissions\", height=400, width=1000)\n",
        "\n",
        "# add a line renderer with legend and line thickness\n",
        "p1.line(worldco2[\"Year\"], worldco2[\"Annual CO₂ emissions\"], legend_label=\"Temp.\", line_width=2)\n",
        "\n",
        "# show the results\n",
        "show(p1)"
      ],
      "outputs": [],
      "execution_count": null,
      "metadata": {
        "jupyter": {
          "source_hidden": false,
          "outputs_hidden": false
        },
        "nteract": {
          "transient": {
            "deleting": false
          }
        }
      }
    },
    {
      "cell_type": "code",
      "source": [
        "worldtemps = tempdf.query(\"Entity == 'Global'\")[[\"Year\", \"Global average temperature anomaly relative to 1961-1990\"]]\n",
        "worldtemps"
      ],
      "outputs": [],
      "execution_count": null,
      "metadata": {
        "jupyter": {
          "source_hidden": false,
          "outputs_hidden": false
        },
        "nteract": {
          "transient": {
            "deleting": false
          }
        }
      }
    },
    {
      "cell_type": "code",
      "source": [
        "from bokeh.plotting import figure, show\n",
        "\n",
        "# create a new plot with a title and axis labels\n",
        "p2 = figure(title=\"Global average temperature anomaly\", x_axis_label=\"Year\",y_range=(-1, 1), y_axis_label=\"Global average temperature anomaly relative to 1961-1990\", height=400, width=1000)\n",
        "# add a line renderer with legend and line thickness\n",
        "p2.line(worldtemps[\"Year\"], worldtemps[\"Global average temperature anomaly relative to 1961-1990\"], legend_label=\"Temp.\", line_width=2)\n",
        "\n",
        "# show the results\n",
        "show(p2)"
      ],
      "outputs": [],
      "execution_count": null,
      "metadata": {
        "jupyter": {
          "source_hidden": false,
          "outputs_hidden": false
        },
        "nteract": {
          "transient": {
            "deleting": false
          }
        }
      }
    },
    {
      "cell_type": "code",
      "source": [
        "from bokeh.layouts import row, column\n",
        "# create a new plot with a title and axis labels\n",
        "show(column(p1, p2))"
      ],
      "outputs": [],
      "execution_count": null,
      "metadata": {
        "jupyter": {
          "source_hidden": false,
          "outputs_hidden": false
        },
        "nteract": {
          "transient": {
            "deleting": false
          }
        }
      }
    },
    {
      "cell_type": "code",
      "source": [
        "#3.5e+10"
      ],
      "outputs": [],
      "execution_count": null,
      "metadata": {
        "jupyter": {
          "source_hidden": false,
          "outputs_hidden": false
        },
        "nteract": {
          "transient": {
            "deleting": false
          }
        }
      }
    },
    {
      "cell_type": "code",
      "source": [
        "from numpy import arange, linspace, pi, sin\n",
        "\n",
        "from bokeh.layouts import column\n",
        "from bokeh.models import (CustomJS, LinearAxis, Range1d, Select,\n",
        "                          WheelZoomTool, ZoomInTool, ZoomOutTool)\n",
        "from bokeh.palettes import Bokeh6\n",
        "\n",
        "\n",
        "from bokeh.plotting import figure, show\n",
        "\n",
        "#p1 = figure(title=\"Annual CO₂ emissions\", y_range=(0, 3.5e10), x_axis_label=\"Year\", y_axis_label=\"Annual CO₂ emissions\", height=400, width=1000)\n",
        "\n",
        "# add a line renderer with legend and line thickness\n",
        "#p.line(worldco2[\"Year\"], worldco2[\"Annual CO₂ emissions\"], legend_label=\"Temp.\", line_width=2)\n",
        "\n",
        "\n",
        "# create a new plot with a title and axis labels\n",
        "#p2 = figure(title=\"Global average temperature anomaly\", x_axis_label=\"Year\",y_range=(-1, 1), y_axis_label=\"Global average temperature anomaly relative to 1961-1990\", height=400, width=1000)\n",
        "# add a line renderer with legend and line thickness\n",
        "#\n",
        "\n",
        "\n",
        "\n",
        "x = arange(-2*pi, 2*pi, 0.2)\n",
        "y = sin(x)\n",
        "y2 = linspace(0, 100, len(x))\n",
        "\n",
        "blue, red = Bokeh6[5], Bokeh6[0]\n",
        "\n",
        "p = figure( y_range=(-1, 1))\n",
        "p.line(worldtemps[\"Year\"], worldtemps[\"Global average temperature anomaly relative to 1961-1990\"], legend_label=\"Temp.\", line_width=2)\n",
        "\n",
        "p.background_fill_color = \"#fafafa\"\n",
        "\n",
        "\n",
        "p.axis.axis_label = \"Year\"\n",
        "p.axis.axis_label_text_color = blue\n",
        "\n",
        "#p.extra_x_ranges['foo'] = \n",
        "p.extra_y_ranges['foo'] = Range1d(0, 3.5e10)\n",
        "red_circles = p.scatter(x, y2, color=red, size=8,\n",
        "    x_range_name=\"foo\",\n",
        "    y_range_name=\"foo\",\n",
        ")\n",
        "\n",
        "ax2 = LinearAxis(\n",
        "    axis_label=\"red circles\",\n",
        "    x_range_name=\"foo\",\n",
        "    y_range_name=\"foo\",\n",
        ")\n",
        "ax2.axis_label_text_color = red\n",
        "p.add_layout(ax2, 'left')\n",
        "\n",
        "ax3 = LinearAxis(\n",
        "    axis_label=\"red circles\",\n",
        "    x_range_name=\"foo\",\n",
        "    y_range_name=\"foo\",\n",
        ")\n",
        "ax3.axis_label_text_color = red\n",
        "p.add_layout(ax3, 'below')\n",
        "\n",
        "from bokeh.io import output_notebook\n",
        "output_notebook()\n",
        "\n",
        "try:\n",
        "    show(p)\n",
        "    #show(column(select, p))\n",
        "except ImportError:\n",
        "    pass\n"
      ],
      "outputs": [],
      "execution_count": null,
      "metadata": {
        "jupyter": {
          "source_hidden": false,
          "outputs_hidden": false
        },
        "nteract": {
          "transient": {
            "deleting": false
          }
        }
      }
    },
    {
      "cell_type": "code",
      "source": [],
      "outputs": [],
      "execution_count": null,
      "metadata": {
        "jupyter": {
          "source_hidden": false,
          "outputs_hidden": false
        },
        "nteract": {
          "transient": {
            "deleting": false
          }
        }
      }
    }
  ],
  "metadata": {
    "language_info": {
      "codemirror_mode": {
        "name": "python",
        "version": 3
      },
      "file_extension": ".py",
      "mimetype": "text/x-python",
      "name": "python",
      "nbconvert_exporter": "python",
      "pygments_lexer": "ipython3",
      "version": "3.8"
    },
    "kernelspec": {
      "name": "python",
      "language": "python",
      "display_name": "Pyolite (preview)"
    },
    "kernel_info": {
      "name": "python"
    },
    "nteract": {
      "version": "nteract-front-end@1.0.0"
    }
  },
  "nbformat": 4,
  "nbformat_minor": 2
}